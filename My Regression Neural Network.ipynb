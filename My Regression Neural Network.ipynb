{
 "cells": [
  {
   "cell_type": "markdown",
   "metadata": {},
   "source": [
    "## Регрессионная нейронная сеть"
   ]
  },
  {
   "cell_type": "code",
   "execution_count": 1,
   "metadata": {},
   "outputs": [],
   "source": [
    "import numpy as np\n",
    "import matplotlib.pyplot as plt\n",
    "import pandas as pd"
   ]
  },
  {
   "cell_type": "markdown",
   "metadata": {},
   "source": [
    "Импортируем наш датасет"
   ]
  },
  {
   "cell_type": "code",
   "execution_count": 2,
   "metadata": {},
   "outputs": [],
   "source": [
    "import pickle\n",
    "input = open('data_reg.pkl', 'rb')\n",
    "obj = pickle.load(input)\n",
    "input.close()\n",
    "X_train = obj[\"X_train\"]\n",
    "X_test = obj[\"X_test\"]\n",
    "y_train = obj[\"y_train\"]\n",
    "y_test = obj[\"y_test\"]\n",
    "\n",
    "y_train = np.asarray(y_train).reshape(-1,1)\n",
    "y_test = np.asarray(y_test).reshape(-1,1)"
   ]
  },
  {
   "cell_type": "markdown",
   "metadata": {},
   "source": [
    "Проводим шкалирование."
   ]
  },
  {
   "cell_type": "code",
   "execution_count": 3,
   "metadata": {},
   "outputs": [],
   "source": [
    "from sklearn.preprocessing import StandardScaler\n",
    "sc_X = StandardScaler().fit(X_train)\n",
    "X_train = sc_X.transform(X_train)\n",
    "X_test = sc_X.transform(X_test)\n",
    "sc_y = StandardScaler().fit(y_train)\n",
    "y_train = sc_y.transform(y_train)\n",
    "y_test = sc_y.transform(y_test)"
   ]
  },
  {
   "cell_type": "markdown",
   "metadata": {},
   "source": [
    "!pip install tensorflow"
   ]
  },
  {
   "cell_type": "markdown",
   "metadata": {},
   "source": [
    "!pip install keras"
   ]
  },
  {
   "cell_type": "code",
   "execution_count": 4,
   "metadata": {},
   "outputs": [],
   "source": [
    "import keras\n",
    "from keras.models import Sequential\n",
    "from keras.layers import Dense"
   ]
  },
  {
   "cell_type": "markdown",
   "metadata": {},
   "source": [
    "Прописываем структуру нашей сети (стоит отметить, что структура, которая описана ниже была получена экспериментальным путём). Добавляем исходный слой. На входе 8 нейронов.У нас нейронная сеть с расширением. Выбранная функция-тангенс, так как нам подходит диапазон ёё изменения.Добавляем 2 слой.И добавляем последний слой."
   ]
  },
  {
   "cell_type": "code",
   "execution_count": 5,
   "metadata": {},
   "outputs": [],
   "source": [
    "rnn = Sequential()\n",
    "\n",
    "rnn.add(Dense(10, activation = 'tanh', input_dim = 8))\n",
    "\n",
    "rnn.add(Dense(6, activation = 'tanh'))\n",
    "\n",
    "rnn.add(Dense(1, activation = 'linear'))\n",
    "\n",
    "rnn.compile(optimizer='adam', loss='mean_squared_error', metrics = ['accuracy'])"
   ]
  },
  {
   "cell_type": "markdown",
   "metadata": {},
   "source": [
    "Проводим обучение. Отмечу, что я выбрала именно такой размер партии, так как при нём наилучшие показатели ошибок."
   ]
  },
  {
   "cell_type": "code",
   "execution_count": 6,
   "metadata": {},
   "outputs": [
    {
     "name": "stdout",
     "output_type": "stream",
     "text": [
      "Epoch 1/100\n",
      "91/91 [==============================] - 1s 2ms/step - loss: 1.4572 - accuracy: 0.0000e+00 - val_loss: 0.9315 - val_accuracy: 0.0000e+00\n",
      "Epoch 2/100\n",
      "91/91 [==============================] - 0s 1ms/step - loss: 0.9043 - accuracy: 0.0000e+00 - val_loss: 0.8073 - val_accuracy: 0.0000e+00\n",
      "Epoch 3/100\n",
      "91/91 [==============================] - 0s 1ms/step - loss: 0.7698 - accuracy: 0.0000e+00 - val_loss: 0.7948 - val_accuracy: 0.0000e+00\n",
      "Epoch 4/100\n",
      "91/91 [==============================] - 0s 2ms/step - loss: 0.7185 - accuracy: 0.0000e+00 - val_loss: 0.7833 - val_accuracy: 0.0000e+00\n",
      "Epoch 5/100\n",
      "91/91 [==============================] - 0s 2ms/step - loss: 0.6966 - accuracy: 0.0000e+00 - val_loss: 0.7883 - val_accuracy: 0.0000e+00\n",
      "Epoch 6/100\n",
      "91/91 [==============================] - 0s 2ms/step - loss: 0.6877 - accuracy: 0.0000e+00 - val_loss: 0.7999 - val_accuracy: 0.0000e+00\n",
      "Epoch 7/100\n",
      "91/91 [==============================] - 0s 2ms/step - loss: 0.6807 - accuracy: 0.0000e+00 - val_loss: 0.7893 - val_accuracy: 0.0000e+00\n",
      "Epoch 8/100\n",
      "91/91 [==============================] - 0s 2ms/step - loss: 0.6733 - accuracy: 0.0000e+00 - val_loss: 0.7880 - val_accuracy: 0.0000e+00\n",
      "Epoch 9/100\n",
      "91/91 [==============================] - 0s 2ms/step - loss: 0.6696 - accuracy: 0.0000e+00 - val_loss: 0.7935 - val_accuracy: 0.0000e+00\n",
      "Epoch 10/100\n",
      "91/91 [==============================] - 0s 2ms/step - loss: 0.6638 - accuracy: 0.0000e+00 - val_loss: 0.7962 - val_accuracy: 0.0000e+00\n",
      "Epoch 11/100\n",
      "91/91 [==============================] - 0s 2ms/step - loss: 0.6622 - accuracy: 0.0000e+00 - val_loss: 0.7930 - val_accuracy: 0.0000e+00\n",
      "Epoch 12/100\n",
      "91/91 [==============================] - 0s 2ms/step - loss: 0.6558 - accuracy: 0.0000e+00 - val_loss: 0.7779 - val_accuracy: 0.0000e+00\n",
      "Epoch 13/100\n",
      "91/91 [==============================] - 0s 1ms/step - loss: 0.6549 - accuracy: 0.0000e+00 - val_loss: 0.7893 - val_accuracy: 0.0000e+00\n",
      "Epoch 14/100\n",
      "91/91 [==============================] - 0s 1ms/step - loss: 0.6493 - accuracy: 0.0000e+00 - val_loss: 0.7983 - val_accuracy: 0.0000e+00\n",
      "Epoch 15/100\n",
      "91/91 [==============================] - 0s 1ms/step - loss: 0.6501 - accuracy: 0.0000e+00 - val_loss: 0.7959 - val_accuracy: 0.0000e+00\n",
      "Epoch 16/100\n",
      "91/91 [==============================] - 0s 1ms/step - loss: 0.6455 - accuracy: 0.0000e+00 - val_loss: 0.7787 - val_accuracy: 0.0000e+00\n",
      "Epoch 17/100\n",
      "91/91 [==============================] - 0s 1ms/step - loss: 0.6415 - accuracy: 0.0000e+00 - val_loss: 0.7984 - val_accuracy: 0.0000e+00\n",
      "Epoch 18/100\n",
      "91/91 [==============================] - 0s 1ms/step - loss: 0.6410 - accuracy: 0.0000e+00 - val_loss: 0.7792 - val_accuracy: 0.0000e+00\n",
      "Epoch 19/100\n",
      "91/91 [==============================] - 0s 1ms/step - loss: 0.6376 - accuracy: 0.0000e+00 - val_loss: 0.7778 - val_accuracy: 0.0000e+00\n",
      "Epoch 20/100\n",
      "91/91 [==============================] - 0s 1ms/step - loss: 0.6358 - accuracy: 0.0000e+00 - val_loss: 0.7833 - val_accuracy: 0.0000e+00\n",
      "Epoch 21/100\n",
      "91/91 [==============================] - 0s 1ms/step - loss: 0.6319 - accuracy: 0.0000e+00 - val_loss: 0.7963 - val_accuracy: 0.0000e+00\n",
      "Epoch 22/100\n",
      "91/91 [==============================] - 0s 1ms/step - loss: 0.6304 - accuracy: 0.0000e+00 - val_loss: 0.7770 - val_accuracy: 0.0000e+00\n",
      "Epoch 23/100\n",
      "91/91 [==============================] - 0s 1ms/step - loss: 0.6282 - accuracy: 0.0000e+00 - val_loss: 0.7664 - val_accuracy: 0.0000e+00\n",
      "Epoch 24/100\n",
      "91/91 [==============================] - 0s 1ms/step - loss: 0.6263 - accuracy: 0.0000e+00 - val_loss: 0.7924 - val_accuracy: 0.0000e+00\n",
      "Epoch 25/100\n",
      "91/91 [==============================] - 0s 1ms/step - loss: 0.6264 - accuracy: 0.0000e+00 - val_loss: 0.7939 - val_accuracy: 0.0000e+00\n",
      "Epoch 26/100\n",
      "91/91 [==============================] - 0s 1ms/step - loss: 0.6258 - accuracy: 0.0000e+00 - val_loss: 0.7790 - val_accuracy: 0.0000e+00\n",
      "Epoch 27/100\n",
      "91/91 [==============================] - 0s 1ms/step - loss: 0.6209 - accuracy: 0.0000e+00 - val_loss: 0.7674 - val_accuracy: 0.0000e+00\n",
      "Epoch 28/100\n",
      "91/91 [==============================] - 0s 1ms/step - loss: 0.6185 - accuracy: 0.0000e+00 - val_loss: 0.7809 - val_accuracy: 0.0000e+00\n",
      "Epoch 29/100\n",
      "91/91 [==============================] - 0s 1ms/step - loss: 0.6171 - accuracy: 0.0000e+00 - val_loss: 0.7839 - val_accuracy: 0.0000e+00\n",
      "Epoch 30/100\n",
      "91/91 [==============================] - 0s 1ms/step - loss: 0.6174 - accuracy: 0.0000e+00 - val_loss: 0.7715 - val_accuracy: 0.0000e+00\n",
      "Epoch 31/100\n",
      "91/91 [==============================] - 0s 1ms/step - loss: 0.6141 - accuracy: 0.0000e+00 - val_loss: 0.7752 - val_accuracy: 0.0000e+00\n",
      "Epoch 32/100\n",
      "91/91 [==============================] - 0s 1ms/step - loss: 0.6096 - accuracy: 0.0000e+00 - val_loss: 0.7606 - val_accuracy: 0.0000e+00\n",
      "Epoch 33/100\n",
      "91/91 [==============================] - 0s 1ms/step - loss: 0.6130 - accuracy: 0.0000e+00 - val_loss: 0.7695 - val_accuracy: 0.0000e+00\n",
      "Epoch 34/100\n",
      "91/91 [==============================] - 0s 1ms/step - loss: 0.6122 - accuracy: 0.0000e+00 - val_loss: 0.7745 - val_accuracy: 0.0000e+00\n",
      "Epoch 35/100\n",
      "91/91 [==============================] - 0s 1ms/step - loss: 0.6088 - accuracy: 0.0000e+00 - val_loss: 0.7589 - val_accuracy: 0.0000e+00\n",
      "Epoch 36/100\n",
      "91/91 [==============================] - 0s 1ms/step - loss: 0.6059 - accuracy: 0.0000e+00 - val_loss: 0.7692 - val_accuracy: 0.0000e+00\n",
      "Epoch 37/100\n",
      "91/91 [==============================] - 0s 1ms/step - loss: 0.6051 - accuracy: 0.0000e+00 - val_loss: 0.7675 - val_accuracy: 0.0000e+00\n",
      "Epoch 38/100\n",
      "91/91 [==============================] - 0s 1ms/step - loss: 0.6020 - accuracy: 0.0000e+00 - val_loss: 0.7748 - val_accuracy: 0.0000e+00\n",
      "Epoch 39/100\n",
      "91/91 [==============================] - 0s 1ms/step - loss: 0.6043 - accuracy: 0.0000e+00 - val_loss: 0.7724 - val_accuracy: 0.0000e+00\n",
      "Epoch 40/100\n",
      "91/91 [==============================] - 0s 846us/step - loss: 0.6010 - accuracy: 0.0000e+00 - val_loss: 0.7720 - val_accuracy: 0.0000e+00\n",
      "Epoch 41/100\n",
      "91/91 [==============================] - 0s 926us/step - loss: 0.5989 - accuracy: 0.0000e+00 - val_loss: 0.7703 - val_accuracy: 0.0000e+00\n",
      "Epoch 42/100\n",
      "91/91 [==============================] - 0s 927us/step - loss: 0.6008 - accuracy: 0.0000e+00 - val_loss: 0.7758 - val_accuracy: 0.0000e+00\n",
      "Epoch 43/100\n",
      "91/91 [==============================] - 0s 948us/step - loss: 0.6004 - accuracy: 0.0000e+00 - val_loss: 0.7622 - val_accuracy: 0.0000e+00\n",
      "Epoch 44/100\n",
      "91/91 [==============================] - 0s 907us/step - loss: 0.5946 - accuracy: 0.0000e+00 - val_loss: 0.7599 - val_accuracy: 0.0000e+00\n",
      "Epoch 45/100\n",
      "91/91 [==============================] - 0s 926us/step - loss: 0.5938 - accuracy: 0.0000e+00 - val_loss: 0.7632 - val_accuracy: 0.0000e+00\n",
      "Epoch 46/100\n",
      "91/91 [==============================] - 0s 977us/step - loss: 0.5926 - accuracy: 0.0000e+00 - val_loss: 0.7714 - val_accuracy: 0.0000e+00\n",
      "Epoch 47/100\n",
      "91/91 [==============================] - 0s 2ms/step - loss: 0.5898 - accuracy: 0.0000e+00 - val_loss: 0.7604 - val_accuracy: 0.0000e+00\n",
      "Epoch 48/100\n",
      "91/91 [==============================] - 0s 3ms/step - loss: 0.5905 - accuracy: 0.0000e+00 - val_loss: 0.7480 - val_accuracy: 0.0000e+00\n",
      "Epoch 49/100\n",
      "91/91 [==============================] - 0s 3ms/step - loss: 0.5892 - accuracy: 0.0000e+00 - val_loss: 0.7603 - val_accuracy: 0.0000e+00\n",
      "Epoch 50/100\n",
      "91/91 [==============================] - 0s 2ms/step - loss: 0.5862 - accuracy: 0.0000e+00 - val_loss: 0.7679 - val_accuracy: 0.0000e+00\n",
      "Epoch 51/100\n",
      "91/91 [==============================] - 0s 3ms/step - loss: 0.5852 - accuracy: 0.0000e+00 - val_loss: 0.7604 - val_accuracy: 0.0000e+00\n",
      "Epoch 52/100\n",
      "91/91 [==============================] - 0s 2ms/step - loss: 0.5842 - accuracy: 0.0000e+00 - val_loss: 0.7744 - val_accuracy: 0.0000e+00\n",
      "Epoch 53/100\n",
      "91/91 [==============================] - 0s 4ms/step - loss: 0.5826 - accuracy: 0.0000e+00 - val_loss: 0.7544 - val_accuracy: 0.0000e+00\n",
      "Epoch 54/100\n",
      "91/91 [==============================] - 0s 2ms/step - loss: 0.5849 - accuracy: 0.0000e+00 - val_loss: 0.7670 - val_accuracy: 0.0000e+00\n",
      "Epoch 55/100\n"
     ]
    },
    {
     "name": "stdout",
     "output_type": "stream",
     "text": [
      "91/91 [==============================] - 0s 2ms/step - loss: 0.5796 - accuracy: 0.0000e+00 - val_loss: 0.7767 - val_accuracy: 0.0000e+00\n",
      "Epoch 56/100\n",
      "91/91 [==============================] - 0s 3ms/step - loss: 0.5792 - accuracy: 0.0000e+00 - val_loss: 0.7502 - val_accuracy: 0.0000e+00\n",
      "Epoch 57/100\n",
      "91/91 [==============================] - 0s 1ms/step - loss: 0.5785 - accuracy: 0.0000e+00 - val_loss: 0.7704 - val_accuracy: 0.0000e+00\n",
      "Epoch 58/100\n",
      "91/91 [==============================] - 0s 1ms/step - loss: 0.5787 - accuracy: 0.0000e+00 - val_loss: 0.7576 - val_accuracy: 0.0000e+00\n",
      "Epoch 59/100\n",
      "91/91 [==============================] - 0s 801us/step - loss: 0.5763 - accuracy: 0.0000e+00 - val_loss: 0.7585 - val_accuracy: 0.0000e+00\n",
      "Epoch 60/100\n",
      "91/91 [==============================] - 0s 797us/step - loss: 0.5730 - accuracy: 0.0000e+00 - val_loss: 0.7593 - val_accuracy: 0.0000e+00\n",
      "Epoch 61/100\n",
      "91/91 [==============================] - 0s 2ms/step - loss: 0.5710 - accuracy: 0.0000e+00 - val_loss: 0.7862 - val_accuracy: 0.0000e+00\n",
      "Epoch 62/100\n",
      "91/91 [==============================] - 0s 2ms/step - loss: 0.5717 - accuracy: 0.0000e+00 - val_loss: 0.7752 - val_accuracy: 0.0000e+00\n",
      "Epoch 63/100\n",
      "91/91 [==============================] - 0s 2ms/step - loss: 0.5736 - accuracy: 0.0000e+00 - val_loss: 0.7610 - val_accuracy: 0.0000e+00\n",
      "Epoch 64/100\n",
      "91/91 [==============================] - 0s 2ms/step - loss: 0.5675 - accuracy: 0.0000e+00 - val_loss: 0.7539 - val_accuracy: 0.0000e+00\n",
      "Epoch 65/100\n",
      "91/91 [==============================] - 0s 4ms/step - loss: 0.5697 - accuracy: 0.0000e+00 - val_loss: 0.7573 - val_accuracy: 0.0000e+00\n",
      "Epoch 66/100\n",
      "91/91 [==============================] - 0s 3ms/step - loss: 0.5669 - accuracy: 0.0000e+00 - val_loss: 0.7705 - val_accuracy: 0.0000e+00\n",
      "Epoch 67/100\n",
      "91/91 [==============================] - 0s 2ms/step - loss: 0.5687 - accuracy: 0.0000e+00 - val_loss: 0.7812 - val_accuracy: 0.0000e+00\n",
      "Epoch 68/100\n",
      "91/91 [==============================] - 0s 1ms/step - loss: 0.5652 - accuracy: 0.0000e+00 - val_loss: 0.7653 - val_accuracy: 0.0000e+00\n",
      "Epoch 69/100\n",
      "91/91 [==============================] - 0s 1ms/step - loss: 0.5636 - accuracy: 0.0000e+00 - val_loss: 0.7625 - val_accuracy: 0.0000e+00\n",
      "Epoch 70/100\n",
      "91/91 [==============================] - 0s 1ms/step - loss: 0.5634 - accuracy: 0.0000e+00 - val_loss: 0.7675 - val_accuracy: 0.0000e+00\n",
      "Epoch 71/100\n",
      "91/91 [==============================] - 0s 966us/step - loss: 0.5614 - accuracy: 0.0000e+00 - val_loss: 0.7698 - val_accuracy: 0.0000e+00\n",
      "Epoch 72/100\n",
      "91/91 [==============================] - 0s 992us/step - loss: 0.5627 - accuracy: 0.0000e+00 - val_loss: 0.7588 - val_accuracy: 0.0000e+00\n",
      "Epoch 73/100\n",
      "91/91 [==============================] - 0s 847us/step - loss: 0.5598 - accuracy: 0.0000e+00 - val_loss: 0.7603 - val_accuracy: 0.0000e+00\n",
      "Epoch 74/100\n",
      "91/91 [==============================] - 0s 927us/step - loss: 0.5592 - accuracy: 0.0000e+00 - val_loss: 0.7685 - val_accuracy: 0.0000e+00\n",
      "Epoch 75/100\n",
      "91/91 [==============================] - 0s 1ms/step - loss: 0.5571 - accuracy: 0.0000e+00 - val_loss: 0.7611 - val_accuracy: 0.0000e+00\n",
      "Epoch 76/100\n",
      "91/91 [==============================] - 0s 891us/step - loss: 0.5571 - accuracy: 0.0000e+00 - val_loss: 0.7628 - val_accuracy: 0.0000e+00\n",
      "Epoch 77/100\n",
      "91/91 [==============================] - 0s 978us/step - loss: 0.5540 - accuracy: 0.0000e+00 - val_loss: 0.7620 - val_accuracy: 0.0000e+00\n",
      "Epoch 78/100\n",
      "91/91 [==============================] - 0s 1ms/step - loss: 0.5542 - accuracy: 0.0000e+00 - val_loss: 0.7603 - val_accuracy: 0.0000e+00\n",
      "Epoch 79/100\n",
      "91/91 [==============================] - 0s 958us/step - loss: 0.5526 - accuracy: 0.0000e+00 - val_loss: 0.7670 - val_accuracy: 0.0000e+00\n",
      "Epoch 80/100\n",
      "91/91 [==============================] - ETA: 0s - loss: 0.5719 - accuracy: 0.0000e+ - 0s 1ms/step - loss: 0.5506 - accuracy: 0.0000e+00 - val_loss: 0.7702 - val_accuracy: 0.0000e+00\n",
      "Epoch 81/100\n",
      "91/91 [==============================] - 0s 872us/step - loss: 0.5522 - accuracy: 0.0000e+00 - val_loss: 0.7516 - val_accuracy: 0.0000e+00\n",
      "Epoch 82/100\n",
      "91/91 [==============================] - 0s 989us/step - loss: 0.5522 - accuracy: 0.0000e+00 - val_loss: 0.7641 - val_accuracy: 0.0000e+00\n",
      "Epoch 83/100\n",
      "91/91 [==============================] - 0s 934us/step - loss: 0.5485 - accuracy: 0.0000e+00 - val_loss: 0.7590 - val_accuracy: 0.0000e+00\n",
      "Epoch 84/100\n",
      "91/91 [==============================] - 0s 2ms/step - loss: 0.5493 - accuracy: 0.0000e+00 - val_loss: 0.7682 - val_accuracy: 0.0000e+00\n",
      "Epoch 85/100\n",
      "91/91 [==============================] - 0s 2ms/step - loss: 0.5461 - accuracy: 0.0000e+00 - val_loss: 0.7570 - val_accuracy: 0.0000e+00\n",
      "Epoch 86/100\n",
      "91/91 [==============================] - 0s 2ms/step - loss: 0.5500 - accuracy: 0.0000e+00 - val_loss: 0.7594 - val_accuracy: 0.0000e+00\n",
      "Epoch 87/100\n",
      "91/91 [==============================] - 0s 3ms/step - loss: 0.5488 - accuracy: 0.0000e+00 - val_loss: 0.7678 - val_accuracy: 0.0000e+00\n",
      "Epoch 88/100\n",
      "91/91 [==============================] - 0s 2ms/step - loss: 0.5441 - accuracy: 0.0000e+00 - val_loss: 0.7618 - val_accuracy: 0.0000e+00\n",
      "Epoch 89/100\n",
      "91/91 [==============================] - 0s 2ms/step - loss: 0.5456 - accuracy: 0.0000e+00 - val_loss: 0.7691 - val_accuracy: 0.0000e+00\n",
      "Epoch 90/100\n",
      "91/91 [==============================] - 0s 2ms/step - loss: 0.5463 - accuracy: 0.0000e+00 - val_loss: 0.7595 - val_accuracy: 0.0000e+00\n",
      "Epoch 91/100\n",
      "91/91 [==============================] - 0s 2ms/step - loss: 0.5434 - accuracy: 0.0000e+00 - val_loss: 0.7600 - val_accuracy: 0.0000e+00\n",
      "Epoch 92/100\n",
      "91/91 [==============================] - 0s 1ms/step - loss: 0.5401 - accuracy: 0.0000e+00 - val_loss: 0.7570 - val_accuracy: 0.0000e+00\n",
      "Epoch 93/100\n",
      "91/91 [==============================] - 0s 889us/step - loss: 0.5420 - accuracy: 0.0000e+00 - val_loss: 0.7628 - val_accuracy: 0.0000e+00\n",
      "Epoch 94/100\n",
      "91/91 [==============================] - 0s 938us/step - loss: 0.5379 - accuracy: 0.0000e+00 - val_loss: 0.7875 - val_accuracy: 0.0000e+00\n",
      "Epoch 95/100\n",
      "91/91 [==============================] - 0s 920us/step - loss: 0.5425 - accuracy: 0.0000e+00 - val_loss: 0.7576 - val_accuracy: 0.0000e+00\n",
      "Epoch 96/100\n",
      "91/91 [==============================] - 0s 927us/step - loss: 0.5369 - accuracy: 0.0000e+00 - val_loss: 0.7594 - val_accuracy: 0.0000e+00\n",
      "Epoch 97/100\n",
      "91/91 [==============================] - 0s 1ms/step - loss: 0.5399 - accuracy: 0.0000e+00 - val_loss: 0.7558 - val_accuracy: 0.0000e+00\n",
      "Epoch 98/100\n",
      "91/91 [==============================] - 0s 2ms/step - loss: 0.5364 - accuracy: 0.0000e+00 - val_loss: 0.7651 - val_accuracy: 0.0000e+00\n",
      "Epoch 99/100\n",
      "91/91 [==============================] - 0s 3ms/step - loss: 0.5368 - accuracy: 0.0000e+00 - val_loss: 0.7561 - val_accuracy: 0.0000e+00\n",
      "Epoch 100/100\n",
      "91/91 [==============================] - 0s 3ms/step - loss: 0.5353 - accuracy: 0.0000e+00 - val_loss: 0.7734 - val_accuracy: 0.0000e+00\n"
     ]
    }
   ],
   "source": [
    "his=rnn.fit(X_train, y_train, batch_size = 12, validation_data=(X_test, y_test),epochs = 100)"
   ]
  },
  {
   "cell_type": "code",
   "execution_count": 7,
   "metadata": {},
   "outputs": [],
   "source": [
    "y_pred = rnn.predict(X_test)"
   ]
  },
  {
   "cell_type": "markdown",
   "metadata": {},
   "source": [
    "Посмотрим на графики ошибок обучения и тестирования. Видим, что модель начинает переобучаться после 5 эпох, поэтому построим ещё одну сеть rnn1."
   ]
  },
  {
   "cell_type": "code",
   "execution_count": 8,
   "metadata": {},
   "outputs": [
    {
     "data": {
      "image/png": "[encoded data removed]",
      "text/plain": [
       "<Figure size 432x288 with 1 Axes>"
      ]
     },
     "metadata": {
      "needs_background": "light"
     },
     "output_type": "display_data"
    }
   ],
   "source": [
    "plt.figure()\n",
    "plt.plot(his.history['loss'],'m')\n",
    "plt.plot(his.history['val_loss'],'k')\n",
    "plt.title('model loss')\n",
    "plt.ylabel('loss')\n",
    "plt.xlabel('epoch')\n",
    "plt.legend(['train', 'test'], loc='best')\n",
    "plt.show()"
   ]
  },
  {
   "cell_type": "code",
   "execution_count": 9,
   "metadata": {},
   "outputs": [],
   "source": [
    "rnn1 = Sequential()\n",
    "\n",
    "rnn1.add(Dense(10, activation = 'tanh', input_dim = 8))\n",
    "\n",
    "rnn1.add(Dense(6, activation = 'tanh'))\n",
    "\n",
    "rnn1.add(Dense(1, activation = 'linear'))\n",
    "\n",
    "rnn1.compile(optimizer='adam', loss='mean_squared_error', metrics = ['accuracy'])"
   ]
  },
  {
   "cell_type": "code",
   "execution_count": 10,
   "metadata": {},
   "outputs": [
    {
     "name": "stdout",
     "output_type": "stream",
     "text": [
      "Epoch 1/5\n",
      "91/91 [==============================] - 0s 2ms/step - loss: 1.2435 - accuracy: 0.0000e+00 - val_loss: 0.9896 - val_accuracy: 0.0000e+00\n",
      "Epoch 2/5\n",
      "91/91 [==============================] - 0s 1ms/step - loss: 0.8580 - accuracy: 0.0000e+00 - val_loss: 0.8581 - val_accuracy: 0.0000e+00\n",
      "Epoch 3/5\n",
      "91/91 [==============================] - 0s 1ms/step - loss: 0.7666 - accuracy: 0.0000e+00 - val_loss: 0.8211 - val_accuracy: 0.0000e+00\n",
      "Epoch 4/5\n",
      "91/91 [==============================] - 0s 2ms/step - loss: 0.7323 - accuracy: 0.0000e+00 - val_loss: 0.8217 - val_accuracy: 0.0000e+00\n",
      "Epoch 5/5\n",
      "91/91 [==============================] - 0s 4ms/step - loss: 0.7181 - accuracy: 0.0000e+00 - val_loss: 0.8074 - val_accuracy: 0.0000e+00\n"
     ]
    }
   ],
   "source": [
    "his1=rnn1.fit(X_train, y_train, batch_size = 12, validation_data=(X_test, y_test),epochs = 5)"
   ]
  },
  {
   "cell_type": "code",
   "execution_count": 11,
   "metadata": {},
   "outputs": [],
   "source": [
    "y_pred1 = rnn1.predict(X_test)"
   ]
  },
  {
   "cell_type": "code",
   "execution_count": 12,
   "metadata": {},
   "outputs": [
    {
     "data": {
      "image/png": "[encoded data removed]",
      "text/plain": [
       "<Figure size 432x288 with 1 Axes>"
      ]
     },
     "metadata": {
      "needs_background": "light"
     },
     "output_type": "display_data"
    }
   ],
   "source": [
    "plt.figure()\n",
    "plt.plot(his1.history['loss'],'m')\n",
    "plt.plot(his1.history['val_loss'],'k')\n",
    "plt.title('model loss')\n",
    "plt.ylabel('loss')\n",
    "plt.xlabel('epoch')\n",
    "plt.legend(['train', 'test'], loc='best')\n",
    "plt.show()"
   ]
  },
  {
   "cell_type": "markdown",
   "metadata": {},
   "source": [
    "Обратно шкалируем данные."
   ]
  },
  {
   "cell_type": "code",
   "execution_count": 13,
   "metadata": {},
   "outputs": [],
   "source": [
    "y_hat = sc_y.inverse_transform(y_pred)\n",
    "y_hat1 = sc_y.inverse_transform(y_pred1)\n",
    "y_test = sc_y.inverse_transform(y_test)\n",
    "X_test = sc_X.inverse_transform(X_test)"
   ]
  },
  {
   "cell_type": "markdown",
   "metadata": {},
   "source": [
    "Находим среднеквадратические ошибки для двух моделей. Сеть немного переобучена, но во втором случае разрыв между ошибками гораздо меньше."
   ]
  },
  {
   "cell_type": "code",
   "execution_count": 14,
   "metadata": {},
   "outputs": [
    {
     "data": {
      "text/plain": [
       "(11.78, 14.209)"
      ]
     },
     "execution_count": 14,
     "metadata": {},
     "output_type": "execute_result"
    }
   ],
   "source": [
    "from sklearn.metrics import mean_squared_error\n",
    "mean_squared_error(sc_y.inverse_transform(y_train), sc_y.inverse_transform(rnn.predict(X_train)), squared=False).round(3), mean_squared_error(y_test, y_hat, squared=False).round(3)"
   ]
  },
  {
   "cell_type": "code",
   "execution_count": 15,
   "metadata": {},
   "outputs": [
    {
     "data": {
      "text/plain": [
       "(13.559, 14.519)"
      ]
     },
     "execution_count": 15,
     "metadata": {},
     "output_type": "execute_result"
    }
   ],
   "source": [
    "from sklearn.metrics import mean_squared_error\n",
    "mean_squared_error(sc_y.inverse_transform(y_train), sc_y.inverse_transform(rnn1.predict(X_train)), squared=False).round(3), mean_squared_error(y_test, y_hat1, squared=False).round(3)"
   ]
  },
  {
   "cell_type": "markdown",
   "metadata": {},
   "source": [
    "Визуализация результатов второй модели."
   ]
  },
  {
   "cell_type": "code",
   "execution_count": 16,
   "metadata": {},
   "outputs": [
    {
     "data": {
      "image/png": "[encoded data removed]",
      "text/plain": [
       "<Figure size 432x288 with 1 Axes>"
      ]
     },
     "metadata": {
      "needs_background": "light"
     },
     "output_type": "display_data"
    }
   ],
   "source": [
    "plt.scatter(X_test[:,5], y_test, color = 'purple')\n",
    "plt.plot(X_test[:,5], y_hat1, 'yo')\n",
    "plt.title('Industry_Income vs Teaching (Test set)')\n",
    "plt.xlabel('Teaching')\n",
    "plt.ylabel('Industry_Income')\n",
    "plt.show()"
   ]
  },
  {
   "cell_type": "markdown",
   "metadata": {},
   "source": [
    "### Вывод: построив все модели и сравнив результаты, я смело могу сказать, что пока наиболее оптимальным методом является Catboost, так как именно там мы имеем самые низкие среднеквадратические ошибки (11.34 и 13.18) и модель наименее переобучена. Также там имеем самое высокое значение коэффициента детерминации 0.51, то есть модель Catboost \"объясняет\" наши данные на 51%, что гораздо превышает показатели остальных вариантов моделей ( в среднем на 20%). Вспомним нашу задачу исследования и сделаем вывод, что на доход университета самое большое влияние оказывает ВВП на душу населения (то есть чем выше уровень экономического развития страны, тем выше доход в сфере образования), немного менее значимое влияние имеет уровень преподавания (хотим хороший доход-нанимаем хороших сотрудников). Неожиданным фактом стало сильное влияние на Industry_Income процента женщин. На первый взгляд казалось, что это вовсе не будет влиять на доход.Наверное, я поднимаю щекотливую и спорную тему, но видим, что наше исследование показывает, чем меньше женщин, тем выше доход."
   ]
  }
 ],
 "metadata": {
  "kernelspec": {
   "display_name": "Python 3",
   "language": "python",
   "name": "python3"
  },
  "language_info": {
   "codemirror_mode": {
    "name": "ipython",
    "version": 3
   },
   "file_extension": ".py",
   "mimetype": "text/x-python",
   "name": "python",
   "nbconvert_exporter": "python",
   "pygments_lexer": "ipython3",
   "version": "3.8.5"
  }
 },
 "nbformat": 4,
 "nbformat_minor": 4
}
