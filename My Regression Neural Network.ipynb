{
 "cells": [
  {
   "cell_type": "markdown",
   "metadata": {},
   "source": [
    "# Регрессионная нейронная сеть"
   ]
  },
  {
   "cell_type": "code",
   "execution_count": 1,
   "metadata": {},
   "outputs": [],
   "source": [
    "import numpy as np\n",
    "import matplotlib.pyplot as plt\n",
    "import pandas as pd"
   ]
  },
  {
   "cell_type": "code",
   "execution_count": 2,
   "metadata": {},
   "outputs": [],
   "source": [
    "#Импортируем наш датасет\n",
    "import pickle\n",
    "input = open('data_reg.pkl', 'rb')\n",
    "obj = pickle.load(input)\n",
    "input.close()\n",
    "X_train = obj[\"X_train\"]\n",
    "X_test = obj[\"X_test\"]\n",
    "y_train = obj[\"y_train\"]\n",
    "y_test = obj[\"y_test\"]\n",
    "\n",
    "y_train = np.asarray(y_train).reshape(-1,1)\n",
    "y_test = np.asarray(y_test).reshape(-1,1)"
   ]
  },
  {
   "cell_type": "code",
   "execution_count": 3,
   "metadata": {},
   "outputs": [],
   "source": [
    "#Проводим шкалирование.\n",
    "from sklearn.preprocessing import StandardScaler\n",
    "sc_X = StandardScaler().fit(X_train)\n",
    "X_train = sc_X.transform(X_train)\n",
    "X_test = sc_X.transform(X_test)\n",
    "sc_y = StandardScaler().fit(y_train)\n",
    "y_train = sc_y.transform(y_train)\n",
    "y_test = sc_y.transform(y_test)"
   ]
  },
  {
   "cell_type": "code",
   "execution_count": 4,
   "metadata": {},
   "outputs": [],
   "source": [
    "#!pip install tensorflow\n",
    "#!pip install keras\n",
    "\n",
    "import keras\n",
    "from keras.models import Sequential\n",
    "from keras.layers import Dense"
   ]
  },
  {
   "cell_type": "code",
   "execution_count": 5,
   "metadata": {},
   "outputs": [],
   "source": [
    "#Прописываем структуру нашей сети (стоит отметить, что структура, которая описана ниже была получена экспериментальным путём)\n",
    "rnn = Sequential()\n",
    "\n",
    "#Добавляем исходный слой. На входе 8 нейронов.У нас нейронная сеть с расширением. Выбранная функция-тангенс, так как нам подходит диапазон ёё изменения.\n",
    "rnn.add(Dense(10, activation = 'tanh', input_dim = 8))\n",
    "\n",
    "#Добавляем 2 слой.\n",
    "rnn.add(Dense(6, activation = 'tanh'))\n",
    "\n",
    "#И добавляем последний слой.\n",
    "rnn.add(Dense(1, activation = 'linear'))\n",
    "\n",
    "rnn.compile(optimizer='adam', loss='mean_squared_error', metrics = ['accuracy'])"
   ]
  },
  {
   "cell_type": "code",
   "execution_count": 6,
   "metadata": {},
   "outputs": [
    {
     "name": "stdout",
     "output_type": "stream",
     "text": [
      "Epoch 1/100\n",
      "136/136 [==============================] - 1s 585us/step - loss: 1.2581 - accuracy: 0.0000e+00\n",
      "Epoch 2/100\n",
      "136/136 [==============================] - 0s 542us/step - loss: 0.8964 - accuracy: 0.0000e+00\n",
      "Epoch 3/100\n",
      "136/136 [==============================] - 0s 548us/step - loss: 0.8186 - accuracy: 0.0000e+00\n",
      "Epoch 4/100\n",
      "136/136 [==============================] - 0s 601us/step - loss: 0.7760 - accuracy: 0.0000e+00\n",
      "Epoch 5/100\n",
      "136/136 [==============================] - 0s 588us/step - loss: 0.7517 - accuracy: 0.0000e+00\n",
      "Epoch 6/100\n",
      "136/136 [==============================] - 0s 537us/step - loss: 0.7348 - accuracy: 0.0000e+00\n",
      "Epoch 7/100\n",
      "136/136 [==============================] - 0s 569us/step - loss: 0.7196 - accuracy: 0.0000e+00\n",
      "Epoch 8/100\n",
      "136/136 [==============================] - 0s 576us/step - loss: 0.7085 - accuracy: 0.0000e+00\n",
      "Epoch 9/100\n",
      "136/136 [==============================] - 0s 547us/step - loss: 0.7010 - accuracy: 0.0000e+00\n",
      "Epoch 10/100\n",
      "136/136 [==============================] - 0s 591us/step - loss: 0.6932 - accuracy: 0.0000e+00\n",
      "Epoch 11/100\n",
      "136/136 [==============================] - 0s 569us/step - loss: 0.6860 - accuracy: 0.0000e+00\n",
      "Epoch 12/100\n",
      "136/136 [==============================] - 0s 569us/step - loss: 0.6803 - accuracy: 0.0000e+00\n",
      "Epoch 13/100\n",
      "136/136 [==============================] - 0s 591us/step - loss: 0.6728 - accuracy: 0.0000e+00\n",
      "Epoch 14/100\n",
      "136/136 [==============================] - 0s 554us/step - loss: 0.6700 - accuracy: 0.0000e+00\n",
      "Epoch 15/100\n",
      "136/136 [==============================] - 0s 584us/step - loss: 0.6640 - accuracy: 0.0000e+00\n",
      "Epoch 16/100\n",
      "136/136 [==============================] - 0s 584us/step - loss: 0.6621 - accuracy: 0.0000e+00\n",
      "Epoch 17/100\n",
      "136/136 [==============================] - 0s 606us/step - loss: 0.6569 - accuracy: 0.0000e+00\n",
      "Epoch 18/100\n",
      "136/136 [==============================] - 0s 569us/step - loss: 0.6505 - accuracy: 0.0000e+00\n",
      "Epoch 19/100\n",
      "136/136 [==============================] - 0s 539us/step - loss: 0.6491 - accuracy: 0.0000e+00\n",
      "Epoch 20/100\n",
      "136/136 [==============================] - 0s 545us/step - loss: 0.6452 - accuracy: 0.0000e+00\n",
      "Epoch 21/100\n",
      "136/136 [==============================] - 0s 569us/step - loss: 0.6406 - accuracy: 0.0000e+00\n",
      "Epoch 22/100\n",
      "136/136 [==============================] - 0s 547us/step - loss: 0.6381 - accuracy: 0.0000e+00\n",
      "Epoch 23/100\n",
      "136/136 [==============================] - 0s 554us/step - loss: 0.6365 - accuracy: 0.0000e+00\n",
      "Epoch 24/100\n",
      "136/136 [==============================] - 0s 591us/step - loss: 0.6310 - accuracy: 0.0000e+00\n",
      "Epoch 25/100\n",
      "136/136 [==============================] - 0s 584us/step - loss: 0.6283 - accuracy: 0.0000e+00\n",
      "Epoch 26/100\n",
      "136/136 [==============================] - 0s 598us/step - loss: 0.6269 - accuracy: 0.0000e+00\n",
      "Epoch 27/100\n",
      "136/136 [==============================] - 0s 569us/step - loss: 0.6225 - accuracy: 0.0000e+00\n",
      "Epoch 28/100\n",
      "136/136 [==============================] - 0s 561us/step - loss: 0.6236 - accuracy: 0.0000e+00\n",
      "Epoch 29/100\n",
      "136/136 [==============================] - 0s 584us/step - loss: 0.6202 - accuracy: 0.0000e+00\n",
      "Epoch 30/100\n",
      "136/136 [==============================] - 0s 656us/step - loss: 0.6200 - accuracy: 0.0000e+00\n",
      "Epoch 31/100\n",
      "136/136 [==============================] - 0s 561us/step - loss: 0.6145 - accuracy: 0.0000e+00\n",
      "Epoch 32/100\n",
      "136/136 [==============================] - 0s 554us/step - loss: 0.6131 - accuracy: 0.0000e+00\n",
      "Epoch 33/100\n",
      "136/136 [==============================] - 0s 537us/step - loss: 0.6106 - accuracy: 0.0000e+00\n",
      "Epoch 34/100\n",
      "136/136 [==============================] - 0s 554us/step - loss: 0.6087 - accuracy: 0.0000e+00\n",
      "Epoch 35/100\n",
      "136/136 [==============================] - 0s 562us/step - loss: 0.6081 - accuracy: 0.0000e+00\n",
      "Epoch 36/100\n",
      "136/136 [==============================] - 0s 554us/step - loss: 0.6053 - accuracy: 0.0000e+00\n",
      "Epoch 37/100\n",
      "136/136 [==============================] - 0s 558us/step - loss: 0.6046 - accuracy: 0.0000e+00\n",
      "Epoch 38/100\n",
      "136/136 [==============================] - 0s 566us/step - loss: 0.6021 - accuracy: 0.0000e+00\n",
      "Epoch 39/100\n",
      "136/136 [==============================] - 0s 575us/step - loss: 0.6000 - accuracy: 0.0000e+00\n",
      "Epoch 40/100\n",
      "136/136 [==============================] - 0s 561us/step - loss: 0.5947 - accuracy: 0.0000e+00\n",
      "Epoch 41/100\n",
      "136/136 [==============================] - 0s 557us/step - loss: 0.6002 - accuracy: 0.0000e+00\n",
      "Epoch 42/100\n",
      "136/136 [==============================] - 0s 566us/step - loss: 0.5983 - accuracy: 0.0000e+00\n",
      "Epoch 43/100\n",
      "136/136 [==============================] - 0s 589us/step - loss: 0.5934 - accuracy: 0.0000e+00\n",
      "Epoch 44/100\n",
      "136/136 [==============================] - 0s 598us/step - loss: 0.5932 - accuracy: 0.0000e+00\n",
      "Epoch 45/100\n",
      "136/136 [==============================] - 0s 576us/step - loss: 0.5920 - accuracy: 0.0000e+00\n",
      "Epoch 46/100\n",
      "136/136 [==============================] - 0s 576us/step - loss: 0.5914 - accuracy: 0.0000e+00\n",
      "Epoch 47/100\n",
      "136/136 [==============================] - 0s 576us/step - loss: 0.5900 - accuracy: 0.0000e+00\n",
      "Epoch 48/100\n",
      "136/136 [==============================] - 0s 576us/step - loss: 0.5883 - accuracy: 0.0000e+00\n",
      "Epoch 49/100\n",
      "136/136 [==============================] - 0s 592us/step - loss: 0.5855 - accuracy: 0.0000e+00\n",
      "Epoch 50/100\n",
      "136/136 [==============================] - 0s 584us/step - loss: 0.5839 - accuracy: 0.0000e+00\n",
      "Epoch 51/100\n",
      "136/136 [==============================] - 0s 598us/step - loss: 0.5802 - accuracy: 0.0000e+00\n",
      "Epoch 52/100\n",
      "136/136 [==============================] - 0s 637us/step - loss: 0.5842 - accuracy: 0.0000e+00\n",
      "Epoch 53/100\n",
      "136/136 [==============================] - 0s 554us/step - loss: 0.5791 - accuracy: 0.0000e+00\n",
      "Epoch 54/100\n",
      "136/136 [==============================] - 0s 650us/step - loss: 0.5770 - accuracy: 0.0000e+00\n",
      "Epoch 55/100\n",
      "136/136 [==============================] - 0s 554us/step - loss: 0.5768 - accuracy: 0.0000e+00\n",
      "Epoch 56/100\n",
      "136/136 [==============================] - 0s 643us/step - loss: 0.5743 - accuracy: 0.0000e+00\n",
      "Epoch 57/100\n",
      "136/136 [==============================] - 0s 547us/step - loss: 0.5746 - accuracy: 0.0000e+00\n",
      "Epoch 58/100\n",
      "136/136 [==============================] - 0s 539us/step - loss: 0.5718 - accuracy: 0.0000e+00\n",
      "Epoch 59/100\n",
      "136/136 [==============================] - 0s 554us/step - loss: 0.5713 - accuracy: 0.0000e+00\n",
      "Epoch 60/100\n",
      "136/136 [==============================] - 0s 539us/step - loss: 0.5713 - accuracy: 0.0000e+00\n",
      "Epoch 61/100\n",
      "136/136 [==============================] - 0s 554us/step - loss: 0.5690 - accuracy: 0.0000e+00\n",
      "Epoch 62/100\n",
      "136/136 [==============================] - 0s 551us/step - loss: 0.5699 - accuracy: 0.0000e+00\n",
      "Epoch 63/100\n",
      "136/136 [==============================] - 0s 559us/step - loss: 0.5652 - accuracy: 0.0000e+00\n",
      "Epoch 64/100\n",
      "136/136 [==============================] - 0s 547us/step - loss: 0.5648 - accuracy: 0.0000e+00\n",
      "Epoch 65/100\n",
      "136/136 [==============================] - 0s 584us/step - loss: 0.5639 - accuracy: 0.0000e+00\n",
      "Epoch 66/100\n",
      "136/136 [==============================] - 0s 539us/step - loss: 0.5619 - accuracy: 0.0000e+00\n",
      "Epoch 67/100\n",
      "136/136 [==============================] - 0s 556us/step - loss: 0.5594 - accuracy: 0.0000e+00\n",
      "Epoch 68/100\n",
      "136/136 [==============================] - 0s 539us/step - loss: 0.5586 - accuracy: 0.0000e+00\n",
      "Epoch 69/100\n",
      "136/136 [==============================] - 0s 635us/step - loss: 0.5571 - accuracy: 0.0000e+00\n",
      "Epoch 70/100\n",
      "136/136 [==============================] - 0s 547us/step - loss: 0.5571 - accuracy: 0.0000e+00\n",
      "Epoch 71/100\n",
      "136/136 [==============================] - 0s 547us/step - loss: 0.5547 - accuracy: 0.0000e+00\n",
      "Epoch 72/100\n",
      "136/136 [==============================] - 0s 556us/step - loss: 0.5541 - accuracy: 0.0000e+00\n",
      "Epoch 73/100\n",
      "136/136 [==============================] - 0s 551us/step - loss: 0.5489 - accuracy: 0.0000e+00\n",
      "Epoch 74/100\n",
      "136/136 [==============================] - 0s 547us/step - loss: 0.5513 - accuracy: 0.0000e+00\n",
      "Epoch 75/100\n",
      "136/136 [==============================] - 0s 558us/step - loss: 0.5480 - accuracy: 0.0000e+00\n",
      "Epoch 76/100\n",
      "136/136 [==============================] - 0s 544us/step - loss: 0.5465 - accuracy: 0.0000e+00\n"
     ]
    },
    {
     "name": "stdout",
     "output_type": "stream",
     "text": [
      "Epoch 77/100\n",
      "136/136 [==============================] - 0s 524us/step - loss: 0.5461 - accuracy: 0.0000e+00\n",
      "Epoch 78/100\n",
      "136/136 [==============================] - 0s 551us/step - loss: 0.5458 - accuracy: 0.0000e+00\n",
      "Epoch 79/100\n",
      "136/136 [==============================] - 0s 526us/step - loss: 0.5437 - accuracy: 0.0000e+00\n",
      "Epoch 80/100\n",
      "136/136 [==============================] - 0s 513us/step - loss: 0.5441 - accuracy: 0.0000e+00\n",
      "Epoch 81/100\n",
      "136/136 [==============================] - 0s 502us/step - loss: 0.5441 - accuracy: 0.0000e+00\n",
      "Epoch 82/100\n",
      "136/136 [==============================] - 0s 556us/step - loss: 0.5399 - accuracy: 0.0000e+00\n",
      "Epoch 83/100\n",
      "136/136 [==============================] - 0s 519us/step - loss: 0.5400 - accuracy: 0.0000e+00\n",
      "Epoch 84/100\n",
      "136/136 [==============================] - 0s 505us/step - loss: 0.5372 - accuracy: 0.0000e+00\n",
      "Epoch 85/100\n",
      "136/136 [==============================] - 0s 519us/step - loss: 0.5360 - accuracy: 0.0000e+00\n",
      "Epoch 86/100\n",
      "136/136 [==============================] - 0s 509us/step - loss: 0.5362 - accuracy: 0.0000e+00\n",
      "Epoch 87/100\n",
      "136/136 [==============================] - 0s 510us/step - loss: 0.5335 - accuracy: 0.0000e+00\n",
      "Epoch 88/100\n",
      "136/136 [==============================] - 0s 522us/step - loss: 0.5317 - accuracy: 0.0000e+00\n",
      "Epoch 89/100\n",
      "136/136 [==============================] - 0s 509us/step - loss: 0.5318 - accuracy: 0.0000e+00\n",
      "Epoch 90/100\n",
      "136/136 [==============================] - 0s 510us/step - loss: 0.5311 - accuracy: 0.0000e+00\n",
      "Epoch 91/100\n",
      "136/136 [==============================] - 0s 528us/step - loss: 0.5309 - accuracy: 0.0000e+00\n",
      "Epoch 92/100\n",
      "136/136 [==============================] - 0s 539us/step - loss: 0.5279 - accuracy: 0.0000e+00\n",
      "Epoch 93/100\n",
      "136/136 [==============================] - 0s 529us/step - loss: 0.5267 - accuracy: 0.0000e+00\n",
      "Epoch 94/100\n",
      "136/136 [==============================] - 0s 516us/step - loss: 0.5285 - accuracy: 0.0000e+00\n",
      "Epoch 95/100\n",
      "136/136 [==============================] - 0s 510us/step - loss: 0.5265 - accuracy: 0.0000e+00\n",
      "Epoch 96/100\n",
      "136/136 [==============================] - 0s 529us/step - loss: 0.5245 - accuracy: 0.0000e+00\n",
      "Epoch 97/100\n",
      "136/136 [==============================] - 0s 525us/step - loss: 0.5248 - accuracy: 0.0000e+00\n",
      "Epoch 98/100\n",
      "136/136 [==============================] - 0s 521us/step - loss: 0.5272 - accuracy: 0.0000e+00\n",
      "Epoch 99/100\n",
      "136/136 [==============================] - 0s 524us/step - loss: 0.5226 - accuracy: 0.0000e+00\n",
      "Epoch 100/100\n",
      "136/136 [==============================] - 0s 522us/step - loss: 0.5221 - accuracy: 0.0000e+00\n"
     ]
    },
    {
     "data": {
      "text/plain": [
       "<keras.callbacks.History at 0x249d402d6d0>"
      ]
     },
     "execution_count": 6,
     "metadata": {},
     "output_type": "execute_result"
    }
   ],
   "source": [
    "#Проводим обучение.\n",
    "rnn.fit(X_train, y_train, batch_size = 8, epochs = 100)"
   ]
  },
  {
   "cell_type": "code",
   "execution_count": 7,
   "metadata": {},
   "outputs": [],
   "source": [
    "y_pred = rnn.predict(X_test)"
   ]
  },
  {
   "cell_type": "code",
   "execution_count": 8,
   "metadata": {},
   "outputs": [],
   "source": [
    "#Обратно шкалируем данные.\n",
    "y_hat = sc_y.inverse_transform(y_pred)\n",
    "y_test = sc_y.inverse_transform(y_test)\n",
    "X_test = sc_X.inverse_transform(X_test)"
   ]
  },
  {
   "cell_type": "code",
   "execution_count": 9,
   "metadata": {},
   "outputs": [
    {
     "data": {
      "text/plain": [
       "(11.566, 13.911)"
      ]
     },
     "execution_count": 9,
     "metadata": {},
     "output_type": "execute_result"
    }
   ],
   "source": [
    "#Находим среднеквадратические ошибки. Сеть немного переобучена.\n",
    "from sklearn.metrics import mean_squared_error\n",
    "mean_squared_error(sc_y.inverse_transform(y_train), sc_y.inverse_transform(rnn.predict(X_train)), squared=False).round(3), mean_squared_error(y_test, y_hat, squared=False).round(3)"
   ]
  },
  {
   "cell_type": "code",
   "execution_count": 11,
   "metadata": {},
   "outputs": [
    {
     "data": {
      "image/png": "[encoded data removed]",
      "text/plain": [
       "<Figure size 432x288 with 1 Axes>"
      ]
     },
     "metadata": {
      "needs_background": "light"
     },
     "output_type": "display_data"
    }
   ],
   "source": [
    "#Визуализация.\n",
    "plt.scatter(X_test[:,5], y_test, color = 'purple')\n",
    "plt.plot(X_test[:,5], y_hat, 'yo')\n",
    "plt.title('Industry_Income vs Teaching (Test set)')\n",
    "plt.xlabel('Teaching')\n",
    "plt.ylabel('Industry_Income')\n",
    "plt.show()"
   ]
  },
  {
   "cell_type": "markdown",
   "metadata": {},
   "source": [
    "Вывод: построив все модели и сравнив результаты, я смело могу сказать, что пока наиболее оптимальным методом является Catboost, так как именно там мы имеем самые низкие среднеквадратические ошибки (11.34 и 13.18) и моедль наименее переобучена. Также там имеем самое высокое значение коэффициента детерминации 0.51."
   ]
  }
 ],
 "metadata": {
  "kernelspec": {
   "display_name": "Python 3",
   "language": "python",
   "name": "python3"
  },
  "language_info": {
   "codemirror_mode": {
    "name": "ipython",
    "version": 3
   },
   "file_extension": ".py",
   "mimetype": "text/x-python",
   "name": "python",
   "nbconvert_exporter": "python",
   "pygments_lexer": "ipython3",
   "version": "3.8.5"
  }
 },
 "nbformat": 4,
 "nbformat_minor": 4
}
