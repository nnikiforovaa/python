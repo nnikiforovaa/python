{
 "cells": [
  {
   "cell_type": "markdown",
   "metadata": {},
   "source": [
    "## Classification Neural Network"
   ]
  },
  {
   "cell_type": "markdown",
   "metadata": {},
   "source": [
    "Импортируем библиотеки и \"законсервированный\" подготовленный датасет."
   ]
  },
  {
   "cell_type": "code",
   "execution_count": 1,
   "metadata": {},
   "outputs": [],
   "source": [
    "import numpy as np\n",
    "import matplotlib.pyplot as plt\n",
    "import pandas as pd"
   ]
  },
  {
   "cell_type": "code",
   "execution_count": 2,
   "metadata": {},
   "outputs": [],
   "source": [
    "import pickle\n",
    "input = open('data.pkl', 'rb')\n",
    "obj = pickle.load(input)\n",
    "input.close()\n",
    "X_train = obj[\"X_train\"]\n",
    "X_test = obj[\"X_test\"]\n",
    "y_train = obj[\"y_train\"]\n",
    "y_test = obj[\"y_test\"]"
   ]
  },
  {
   "cell_type": "markdown",
   "metadata": {},
   "source": [
    "!pip install Tensorflow. Обновили файл requirements."
   ]
  },
  {
   "cell_type": "code",
   "execution_count": 3,
   "metadata": {},
   "outputs": [],
   "source": [
    "import keras\n",
    "from keras.models import Sequential\n",
    "from keras.layers import Dense"
   ]
  },
  {
   "cell_type": "markdown",
   "metadata": {},
   "source": [
    "Прописываем структуру нейронной сети. Стоит обратить внимание на то, что в задачах классификации наша сеть идёт не на расширение (как раньше мы делали), а на сужение. Функцию тангенса мы не используем, так как нам не подходит её диапазон. Наиболее оптимальным вариантом является sigmoid. На выходе у нас 1 нейрон."
   ]
  },
  {
   "cell_type": "code",
   "execution_count": 4,
   "metadata": {},
   "outputs": [],
   "source": [
    "cnn = Sequential()\n",
    "\n",
    "cnn.add(Dense(5, activation = 'sigmoid', input_dim = 5))\n",
    "\n",
    "cnn.add(Dense(3, activation = 'sigmoid'))\n",
    "\n",
    "cnn.add(Dense(1, activation = 'sigmoid'))\n",
    "\n",
    "cnn.compile(optimizer = 'adam', loss = 'binary_crossentropy', metrics = ['accuracy'])"
   ]
  },
  {
   "cell_type": "code",
   "execution_count": 5,
   "metadata": {},
   "outputs": [],
   "source": [
    "import sys\n",
    "sys.setrecursionlimit(10000)"
   ]
  },
  {
   "cell_type": "markdown",
   "metadata": {},
   "source": [
    "Проводим обучение нашей сети. Эспериментальным путём получили, что оптимальный размер партии = 24 , а количество эпох = 25."
   ]
  },
  {
   "cell_type": "code",
   "execution_count": 6,
   "metadata": {},
   "outputs": [
    {
     "name": "stdout",
     "output_type": "stream",
     "text": [
      "Epoch 1/25\n",
      "136/136 [==============================] - 1s 4ms/step - loss: 0.9562 - accuracy: 0.3007 - val_loss: 0.8576 - val_accuracy: 0.2978\n",
      "Epoch 2/25\n",
      "136/136 [==============================] - 0s 3ms/step - loss: 0.7889 - accuracy: 0.3007 - val_loss: 0.7296 - val_accuracy: 0.2978\n",
      "Epoch 3/25\n",
      "136/136 [==============================] - 0s 2ms/step - loss: 0.6931 - accuracy: 0.5175 - val_loss: 0.6603 - val_accuracy: 0.7757\n",
      "Epoch 4/25\n",
      "136/136 [==============================] - 0s 3ms/step - loss: 0.6414 - accuracy: 0.7186 - val_loss: 0.6236 - val_accuracy: 0.7022\n",
      "Epoch 5/25\n",
      "136/136 [==============================] - 0s 3ms/step - loss: 0.6152 - accuracy: 0.6993 - val_loss: 0.6045 - val_accuracy: 0.7022\n",
      "Epoch 6/25\n",
      "136/136 [==============================] - 0s 3ms/step - loss: 0.6013 - accuracy: 0.6993 - val_loss: 0.5939 - val_accuracy: 0.7022\n",
      "Epoch 7/25\n",
      "136/136 [==============================] - 0s 3ms/step - loss: 0.5929 - accuracy: 0.6993 - val_loss: 0.5867 - val_accuracy: 0.7022\n",
      "Epoch 8/25\n",
      "136/136 [==============================] - 0s 3ms/step - loss: 0.5863 - accuracy: 0.6993 - val_loss: 0.5804 - val_accuracy: 0.7022\n",
      "Epoch 9/25\n",
      "136/136 [==============================] - 1s 4ms/step - loss: 0.5808 - accuracy: 0.6993 - val_loss: 0.5748 - val_accuracy: 0.7022\n",
      "Epoch 10/25\n",
      "136/136 [==============================] - 1s 4ms/step - loss: 0.5751 - accuracy: 0.6993 - val_loss: 0.5692 - val_accuracy: 0.7022\n",
      "Epoch 11/25\n",
      "136/136 [==============================] - 0s 4ms/step - loss: 0.5691 - accuracy: 0.6993 - val_loss: 0.5632 - val_accuracy: 0.7022\n",
      "Epoch 12/25\n",
      "136/136 [==============================] - 0s 3ms/step - loss: 0.5628 - accuracy: 0.6993 - val_loss: 0.5573 - val_accuracy: 0.7022\n",
      "Epoch 13/25\n",
      "136/136 [==============================] - 1s 4ms/step - loss: 0.5560 - accuracy: 0.6993 - val_loss: 0.5512 - val_accuracy: 0.7022\n",
      "Epoch 14/25\n",
      "136/136 [==============================] - 0s 2ms/step - loss: 0.5492 - accuracy: 0.7002 - val_loss: 0.5451 - val_accuracy: 0.7279\n",
      "Epoch 15/25\n",
      "136/136 [==============================] - 0s 2ms/step - loss: 0.5421 - accuracy: 0.7325 - val_loss: 0.5394 - val_accuracy: 0.7757\n",
      "Epoch 16/25\n",
      "136/136 [==============================] - 0s 3ms/step - loss: 0.5354 - accuracy: 0.7491 - val_loss: 0.5341 - val_accuracy: 0.7868\n",
      "Epoch 17/25\n",
      "136/136 [==============================] - 0s 3ms/step - loss: 0.5290 - accuracy: 0.7601 - val_loss: 0.5290 - val_accuracy: 0.7831\n",
      "Epoch 18/25\n",
      "136/136 [==============================] - 0s 3ms/step - loss: 0.5230 - accuracy: 0.7703 - val_loss: 0.5253 - val_accuracy: 0.7831\n",
      "Epoch 19/25\n",
      "136/136 [==============================] - 0s 3ms/step - loss: 0.5181 - accuracy: 0.7721 - val_loss: 0.5217 - val_accuracy: 0.7757\n",
      "Epoch 20/25\n",
      "136/136 [==============================] - 1s 4ms/step - loss: 0.5135 - accuracy: 0.7694 - val_loss: 0.5191 - val_accuracy: 0.7794\n",
      "Epoch 21/25\n",
      "136/136 [==============================] - 0s 2ms/step - loss: 0.5096 - accuracy: 0.7694 - val_loss: 0.5173 - val_accuracy: 0.7684\n",
      "Epoch 22/25\n",
      "136/136 [==============================] - 0s 3ms/step - loss: 0.5064 - accuracy: 0.7731 - val_loss: 0.5153 - val_accuracy: 0.7721\n",
      "Epoch 23/25\n",
      "136/136 [==============================] - 1s 4ms/step - loss: 0.5039 - accuracy: 0.7740 - val_loss: 0.5142 - val_accuracy: 0.7757\n",
      "Epoch 24/25\n",
      "136/136 [==============================] - 0s 3ms/step - loss: 0.5016 - accuracy: 0.7712 - val_loss: 0.5136 - val_accuracy: 0.7647\n",
      "Epoch 25/25\n",
      "136/136 [==============================] - 0s 3ms/step - loss: 0.4998 - accuracy: 0.7712 - val_loss: 0.5128 - val_accuracy: 0.7647\n"
     ]
    }
   ],
   "source": [
    "history = cnn.fit(X_train, y_train, batch_size = 8, epochs = 25, validation_data=(X_test, y_test))"
   ]
  },
  {
   "cell_type": "markdown",
   "metadata": {},
   "source": [
    "Теперь проанализируем графики ошибок обучения и тестирования. Ошибки сводятся к минимуму к 25 эпохе, при этом сеть остается не переобученной."
   ]
  },
  {
   "cell_type": "code",
   "execution_count": 7,
   "metadata": {},
   "outputs": [
    {
     "data": {
      "image/png": "[encoded data removed]",
      "text/plain": [
       "<Figure size 432x288 with 1 Axes>"
      ]
     },
     "metadata": {
      "needs_background": "light"
     },
     "output_type": "display_data"
    }
   ],
   "source": [
    "plt.figure()\n",
    "plt.plot(history.history['loss'],'m')\n",
    "plt.plot(history.history['val_loss'],'k')\n",
    "plt.title('model loss')\n",
    "plt.ylabel('loss')\n",
    "plt.xlabel('epoch')\n",
    "plt.legend(['train', 'test'], loc='best')\n",
    "plt.show()"
   ]
  },
  {
   "cell_type": "markdown",
   "metadata": {},
   "source": [
    "Выбираем порог отсечения также путём множества экспериментов. И в итоге имеем его равным 0,8."
   ]
  },
  {
   "cell_type": "code",
   "execution_count": 8,
   "metadata": {},
   "outputs": [],
   "source": [
    "y_pred = cnn.predict(X_test)\n",
    "y_pred = (y_pred > 0.8)"
   ]
  },
  {
   "cell_type": "markdown",
   "metadata": {},
   "source": [
    "Проанализируем таблицу сопряжённости. Видим, что сеть 160 объектов распознала верно и 112 нет. Точность модели: 59%. Доля ошибок: 41%. Это максимально хороший результат, которого мне удалось добиться, экспериментируя с параметрами сети и тд."
   ]
  },
  {
   "cell_type": "code",
   "execution_count": 9,
   "metadata": {},
   "outputs": [
    {
     "name": "stdout",
     "output_type": "stream",
     "text": [
      "[[64 17]\n",
      " [95 96]]\n"
     ]
    }
   ],
   "source": [
    "from sklearn.metrics import confusion_matrix\n",
    "cm = confusion_matrix(y_test, y_pred)\n",
    "print(cm)"
   ]
  },
  {
   "cell_type": "markdown",
   "metadata": {},
   "source": [
    "## Вывод: сравнивая логистическую регрессию и НС сети для классификации, делаем вывод, что логистическая регрессия дала более точную модель, которая позволила распознать верно 77% объектов. Напомню, что мы работали с классификацией по уровню дохода университетов, где были ВУЗы с высоким и низким уровнем дохода. "
   ]
  }
 ],
 "metadata": {
  "kernelspec": {
   "display_name": "Python 3",
   "language": "python",
   "name": "python3"
  },
  "language_info": {
   "codemirror_mode": {
    "name": "ipython",
    "version": 3
   },
   "file_extension": ".py",
   "mimetype": "text/x-python",
   "name": "python",
   "nbconvert_exporter": "python",
   "pygments_lexer": "ipython3",
   "version": "3.8.5"
  }
 },
 "nbformat": 4,
 "nbformat_minor": 4
}
