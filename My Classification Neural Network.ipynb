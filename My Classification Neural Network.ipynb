{
 "cells": [
  {
   "cell_type": "markdown",
   "metadata": {},
   "source": [
    "## Classification Neural Network"
   ]
  },
  {
   "cell_type": "markdown",
   "metadata": {},
   "source": [
    "Импортируем библиотеки и \"законсервированный\" подготовленный датасет."
   ]
  },
  {
   "cell_type": "code",
   "execution_count": 1,
   "metadata": {},
   "outputs": [],
   "source": [
    "import numpy as np\n",
    "import matplotlib.pyplot as plt\n",
    "import pandas as pd"
   ]
  },
  {
   "cell_type": "code",
   "execution_count": 2,
   "metadata": {},
   "outputs": [],
   "source": [
    "import pickle\n",
    "input = open('data.pkl', 'rb')\n",
    "obj = pickle.load(input)\n",
    "input.close()\n",
    "X_train = obj[\"X_train\"]\n",
    "X_test = obj[\"X_test\"]\n",
    "y_train = obj[\"y_train\"]\n",
    "y_test = obj[\"y_test\"]"
   ]
  },
  {
   "cell_type": "markdown",
   "metadata": {},
   "source": [
    "!pip install Tensorflow. Обновили файл requirements."
   ]
  },
  {
   "cell_type": "code",
   "execution_count": 3,
   "metadata": {},
   "outputs": [],
   "source": [
    "import keras\n",
    "from keras.models import Sequential\n",
    "from keras.layers import Dense"
   ]
  },
  {
   "cell_type": "markdown",
   "metadata": {},
   "source": [
    "Прописываем структуру нейронной сети. Стоит обратить внимание на то, что в задачах классификации наша сеть идёт не на расширение (как раньше мы делали), а на сужение. Функцию тангенса мы не используем, так как нам не подходит её диапазон. Наиболее оптимальным вариантом является sigmoid. На выходе у нас 1 нейрон."
   ]
  },
  {
   "cell_type": "code",
   "execution_count": 4,
   "metadata": {},
   "outputs": [],
   "source": [
    "cnn = Sequential()\n",
    "\n",
    "cnn.add(Dense(3, activation = 'sigmoid', input_dim = 3))\n",
    "\n",
    "cnn.add(Dense(2, activation = 'sigmoid'))\n",
    "\n",
    "cnn.add(Dense(1, activation = 'sigmoid'))\n",
    "\n",
    "cnn.compile(optimizer = 'adam', loss = 'binary_crossentropy', metrics = ['accuracy'])"
   ]
  },
  {
   "cell_type": "code",
   "execution_count": 5,
   "metadata": {},
   "outputs": [],
   "source": [
    "import sys\n",
    "sys.setrecursionlimit(10000)"
   ]
  },
  {
   "cell_type": "markdown",
   "metadata": {},
   "source": [
    "Проводим обучение нашей сети. Экспериментальным путём получили, что оптимальный размер партии = 8 , а количество эпох = 17."
   ]
  },
  {
   "cell_type": "code",
   "execution_count": 6,
   "metadata": {},
   "outputs": [
    {
     "name": "stdout",
     "output_type": "stream",
     "text": [
      "Epoch 1/17\n",
      "136/136 [==============================] - 2s 5ms/step - loss: 0.7490 - accuracy: 0.5166 - val_loss: 0.7601 - val_accuracy: 0.4632\n",
      "Epoch 2/17\n",
      "136/136 [==============================] - 0s 3ms/step - loss: 0.7160 - accuracy: 0.5166 - val_loss: 0.7262 - val_accuracy: 0.4632\n",
      "Epoch 3/17\n",
      "136/136 [==============================] - 0s 3ms/step - loss: 0.6990 - accuracy: 0.5166 - val_loss: 0.7086 - val_accuracy: 0.4632\n",
      "Epoch 4/17\n",
      "136/136 [==============================] - 0s 3ms/step - loss: 0.6903 - accuracy: 0.5166 - val_loss: 0.6984 - val_accuracy: 0.4632\n",
      "Epoch 5/17\n",
      "136/136 [==============================] - 0s 2ms/step - loss: 0.6850 - accuracy: 0.5166 - val_loss: 0.6911 - val_accuracy: 0.4632\n",
      "Epoch 6/17\n",
      "136/136 [==============================] - 0s 3ms/step - loss: 0.6815 - accuracy: 0.5295 - val_loss: 0.6856 - val_accuracy: 0.5331\n",
      "Epoch 7/17\n",
      "136/136 [==============================] - 0s 3ms/step - loss: 0.6784 - accuracy: 0.5692 - val_loss: 0.6814 - val_accuracy: 0.6029\n",
      "Epoch 8/17\n",
      "136/136 [==============================] - 0s 3ms/step - loss: 0.6749 - accuracy: 0.6116 - val_loss: 0.6773 - val_accuracy: 0.6287\n",
      "Epoch 9/17\n",
      "136/136 [==============================] - 0s 2ms/step - loss: 0.6711 - accuracy: 0.6494 - val_loss: 0.6725 - val_accuracy: 0.6213\n",
      "Epoch 10/17\n",
      "136/136 [==============================] - 0s 3ms/step - loss: 0.6667 - accuracy: 0.6624 - val_loss: 0.6679 - val_accuracy: 0.6287\n",
      "Epoch 11/17\n",
      "136/136 [==============================] - 1s 5ms/step - loss: 0.6616 - accuracy: 0.6697 - val_loss: 0.6629 - val_accuracy: 0.6397\n",
      "Epoch 12/17\n",
      "136/136 [==============================] - 1s 5ms/step - loss: 0.6561 - accuracy: 0.6697 - val_loss: 0.6568 - val_accuracy: 0.6544\n",
      "Epoch 13/17\n",
      "136/136 [==============================] - 1s 4ms/step - loss: 0.6500 - accuracy: 0.6762 - val_loss: 0.6507 - val_accuracy: 0.6654\n",
      "Epoch 14/17\n",
      "136/136 [==============================] - 1s 5ms/step - loss: 0.6436 - accuracy: 0.6744 - val_loss: 0.6439 - val_accuracy: 0.6691\n",
      "Epoch 15/17\n",
      "136/136 [==============================] - 1s 4ms/step - loss: 0.6372 - accuracy: 0.6799 - val_loss: 0.6383 - val_accuracy: 0.6654\n",
      "Epoch 16/17\n",
      "136/136 [==============================] - 1s 4ms/step - loss: 0.6309 - accuracy: 0.6799 - val_loss: 0.6325 - val_accuracy: 0.6654\n",
      "Epoch 17/17\n",
      "136/136 [==============================] - 1s 5ms/step - loss: 0.6251 - accuracy: 0.6799 - val_loss: 0.6269 - val_accuracy: 0.6765\n"
     ]
    }
   ],
   "source": [
    "history = cnn.fit(X_train, y_train, batch_size = 8, epochs = 17, validation_data=(X_test, y_test))"
   ]
  },
  {
   "cell_type": "markdown",
   "metadata": {},
   "source": [
    "Теперь проанализируем графики ошибок обучения и тестирования. Ошибки сводятся к минимуму к 17 эпохе, при этом сеть остается не переобученной."
   ]
  },
  {
   "cell_type": "code",
   "execution_count": 7,
   "metadata": {},
   "outputs": [
    {
     "data": {
      "image/png": "[encoded data removed]",
      "text/plain": [
       "<Figure size 432x288 with 1 Axes>"
      ]
     },
     "metadata": {
      "needs_background": "light"
     },
     "output_type": "display_data"
    }
   ],
   "source": [
    "plt.figure()\n",
    "plt.plot(history.history['loss'],'m')\n",
    "plt.plot(history.history['val_loss'],'k')\n",
    "plt.title('model loss')\n",
    "plt.ylabel('loss')\n",
    "plt.xlabel('epoch')\n",
    "plt.legend(['train', 'test'], loc='best')\n",
    "plt.show()"
   ]
  },
  {
   "cell_type": "markdown",
   "metadata": {},
   "source": [
    "Выбираем порог отсечения также путём множества экспериментов. И в итоге имеем его равным 0,5."
   ]
  },
  {
   "cell_type": "code",
   "execution_count": 10,
   "metadata": {},
   "outputs": [],
   "source": [
    "y_pred = cnn.predict(X_test)\n",
    "y_pred = (y_pred > 0.5)"
   ]
  },
  {
   "cell_type": "markdown",
   "metadata": {},
   "source": [
    "Проанализируем таблицу сопряжённости. Видим, что сеть 184 объектов распознала верно и 88 нет. Точность модели: 67,6%. Доля ошибок: 32,4%. Это максимально хороший результат, которого мне удалось добиться, экспериментируя с параметрами сети и тд."
   ]
  },
  {
   "cell_type": "code",
   "execution_count": 11,
   "metadata": {},
   "outputs": [
    {
     "name": "stdout",
     "output_type": "stream",
     "text": [
      "[[91 55]\n",
      " [33 93]]\n"
     ]
    }
   ],
   "source": [
    "from sklearn.metrics import confusion_matrix\n",
    "cm = confusion_matrix(y_test, y_pred)\n",
    "print(cm)"
   ]
  },
  {
   "cell_type": "markdown",
   "metadata": {},
   "source": [
    "## Вывод"
   ]
  },
  {
   "cell_type": "markdown",
   "metadata": {},
   "source": [
    "Сравнивая логистическую регрессию и НС сети для классификации, делаем вывод, что логистическая регрессия дала немного точнее модель, которая позволила распознать верно 68,1% объектов. Напомню, что мы работали с классификацией по уровню дохода университетов, где были ВУЗы с высоким и низким уровнем дохода. "
   ]
  }
 ],
 "metadata": {
  "kernelspec": {
   "display_name": "Python 3",
   "language": "python",
   "name": "python3"
  },
  "language_info": {
   "codemirror_mode": {
    "name": "ipython",
    "version": 3
   },
   "file_extension": ".py",
   "mimetype": "text/x-python",
   "name": "python",
   "nbconvert_exporter": "python",
   "pygments_lexer": "ipython3",
   "version": "3.8.5"
  }
 },
 "nbformat": 4,
 "nbformat_minor": 4
}
