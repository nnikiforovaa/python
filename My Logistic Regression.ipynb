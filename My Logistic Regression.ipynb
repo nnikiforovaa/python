{
 "cells": [
  {
   "cell_type": "markdown",
   "metadata": {},
   "source": [
    "## Логистическая регрессия"
   ]
  },
  {
   "cell_type": "markdown",
   "metadata": {},
   "source": [
    "Импортируем библиотеки под более удобным именем."
   ]
  },
  {
   "cell_type": "code",
   "execution_count": 1,
   "metadata": {},
   "outputs": [],
   "source": [
    "import numpy as np\n",
    "import matplotlib.pyplot as plt\n",
    "import pandas as pd"
   ]
  },
  {
   "cell_type": "markdown",
   "metadata": {},
   "source": [
    "Импортируем наш датасет, который получили после этапа подготовки данных. Стоит отметить, что мне пришлось создать собственную переменную для классификации Industry_Income, где значение YES при уровне дохода выше 46 пунктов (пусть будут \"Высокий доход\"), NO - при более низком доходе(\"Низкий доход\"). Напомню, что эта переменная показывает какой доход от исследований университет получает и его способность привлекать финансирование на коммерческом рынке. Эта оценка для удобства приведена к 100-балльной шкале. Таким образом, классификация поможет нам понять в случае появления нового университета его принадлежность к той или иной категории."
   ]
  },
  {
   "cell_type": "code",
   "execution_count": 2,
   "metadata": {},
   "outputs": [
    {
     "data": {
      "text/html": [
       "<div>\n",
       "<style scoped>\n",
       "    .dataframe tbody tr th:only-of-type {\n",
       "        vertical-align: middle;\n",
       "    }\n",
       "\n",
       "    .dataframe tbody tr th {\n",
       "        vertical-align: top;\n",
       "    }\n",
       "\n",
       "    .dataframe thead th {\n",
       "        text-align: right;\n",
       "    }\n",
       "</style>\n",
       "<table border=\"1\" class=\"dataframe\">\n",
       "  <thead>\n",
       "    <tr style=\"text-align: right;\">\n",
       "      <th></th>\n",
       "      <th>Number_students</th>\n",
       "      <th>Numb_students_per_Staff</th>\n",
       "      <th>International_Students</th>\n",
       "      <th>Percentage_Female</th>\n",
       "      <th>Percentage_Male</th>\n",
       "      <th>Teaching</th>\n",
       "      <th>Citations</th>\n",
       "      <th>GDP</th>\n",
       "      <th>Industry_Income</th>\n",
       "    </tr>\n",
       "  </thead>\n",
       "  <tbody>\n",
       "    <tr>\n",
       "      <th>0</th>\n",
       "      <td>20664</td>\n",
       "      <td>11.2</td>\n",
       "      <td>8472.0</td>\n",
       "      <td>0.46</td>\n",
       "      <td>0.54</td>\n",
       "      <td>90.5</td>\n",
       "      <td>98.4</td>\n",
       "      <td>41627.0</td>\n",
       "      <td>YES</td>\n",
       "    </tr>\n",
       "    <tr>\n",
       "      <th>1</th>\n",
       "      <td>2240</td>\n",
       "      <td>6.4</td>\n",
       "      <td>672.0</td>\n",
       "      <td>0.34</td>\n",
       "      <td>0.66</td>\n",
       "      <td>92.1</td>\n",
       "      <td>97.9</td>\n",
       "      <td>60236.0</td>\n",
       "      <td>YES</td>\n",
       "    </tr>\n",
       "    <tr>\n",
       "      <th>2</th>\n",
       "      <td>18978</td>\n",
       "      <td>10.9</td>\n",
       "      <td>7022.0</td>\n",
       "      <td>0.47</td>\n",
       "      <td>0.53</td>\n",
       "      <td>91.4</td>\n",
       "      <td>95.8</td>\n",
       "      <td>41627.0</td>\n",
       "      <td>YES</td>\n",
       "    </tr>\n",
       "    <tr>\n",
       "      <th>3</th>\n",
       "      <td>16135</td>\n",
       "      <td>7.3</td>\n",
       "      <td>3711.0</td>\n",
       "      <td>0.43</td>\n",
       "      <td>0.57</td>\n",
       "      <td>92.8</td>\n",
       "      <td>99.9</td>\n",
       "      <td>60236.0</td>\n",
       "      <td>YES</td>\n",
       "    </tr>\n",
       "    <tr>\n",
       "      <th>4</th>\n",
       "      <td>11247</td>\n",
       "      <td>8.6</td>\n",
       "      <td>3824.0</td>\n",
       "      <td>0.39</td>\n",
       "      <td>0.61</td>\n",
       "      <td>90.5</td>\n",
       "      <td>99.5</td>\n",
       "      <td>60236.0</td>\n",
       "      <td>YES</td>\n",
       "    </tr>\n",
       "    <tr>\n",
       "      <th>...</th>\n",
       "      <td>...</td>\n",
       "      <td>...</td>\n",
       "      <td>...</td>\n",
       "      <td>...</td>\n",
       "      <td>...</td>\n",
       "      <td>...</td>\n",
       "      <td>...</td>\n",
       "      <td>...</td>\n",
       "      <td>...</td>\n",
       "    </tr>\n",
       "    <tr>\n",
       "      <th>1351</th>\n",
       "      <td>20174</td>\n",
       "      <td>17.8</td>\n",
       "      <td>0.0</td>\n",
       "      <td>0.55</td>\n",
       "      <td>0.45</td>\n",
       "      <td>16.2</td>\n",
       "      <td>6.1</td>\n",
       "      <td>14064.0</td>\n",
       "      <td>NO</td>\n",
       "    </tr>\n",
       "    <tr>\n",
       "      <th>1352</th>\n",
       "      <td>34101</td>\n",
       "      <td>21.3</td>\n",
       "      <td>0.0</td>\n",
       "      <td>0.57</td>\n",
       "      <td>0.43</td>\n",
       "      <td>15.3</td>\n",
       "      <td>6.7</td>\n",
       "      <td>14064.0</td>\n",
       "      <td>NO</td>\n",
       "    </tr>\n",
       "    <tr>\n",
       "      <th>1353</th>\n",
       "      <td>15236</td>\n",
       "      <td>11.1</td>\n",
       "      <td>3.0</td>\n",
       "      <td>0.63</td>\n",
       "      <td>0.37</td>\n",
       "      <td>17.0</td>\n",
       "      <td>4.5</td>\n",
       "      <td>28053.0</td>\n",
       "      <td>NO</td>\n",
       "    </tr>\n",
       "    <tr>\n",
       "      <th>1354</th>\n",
       "      <td>17101</td>\n",
       "      <td>24.9</td>\n",
       "      <td>0.0</td>\n",
       "      <td>0.54</td>\n",
       "      <td>0.46</td>\n",
       "      <td>13.8</td>\n",
       "      <td>7.6</td>\n",
       "      <td>14064.0</td>\n",
       "      <td>NO</td>\n",
       "    </tr>\n",
       "    <tr>\n",
       "      <th>1355</th>\n",
       "      <td>9285</td>\n",
       "      <td>25.6</td>\n",
       "      <td>2.0</td>\n",
       "      <td>0.12</td>\n",
       "      <td>0.88</td>\n",
       "      <td>15.2</td>\n",
       "      <td>3.4</td>\n",
       "      <td>41380.0</td>\n",
       "      <td>NO</td>\n",
       "    </tr>\n",
       "  </tbody>\n",
       "</table>\n",
       "<p>1356 rows × 9 columns</p>\n",
       "</div>"
      ],
      "text/plain": [
       "      Number_students  Numb_students_per_Staff  International_Students  \\\n",
       "0               20664                     11.2                  8472.0   \n",
       "1                2240                      6.4                   672.0   \n",
       "2               18978                     10.9                  7022.0   \n",
       "3               16135                      7.3                  3711.0   \n",
       "4               11247                      8.6                  3824.0   \n",
       "...               ...                      ...                     ...   \n",
       "1351            20174                     17.8                     0.0   \n",
       "1352            34101                     21.3                     0.0   \n",
       "1353            15236                     11.1                     3.0   \n",
       "1354            17101                     24.9                     0.0   \n",
       "1355             9285                     25.6                     2.0   \n",
       "\n",
       "      Percentage_Female  Percentage_Male  Teaching  Citations      GDP  \\\n",
       "0                  0.46             0.54      90.5       98.4  41627.0   \n",
       "1                  0.34             0.66      92.1       97.9  60236.0   \n",
       "2                  0.47             0.53      91.4       95.8  41627.0   \n",
       "3                  0.43             0.57      92.8       99.9  60236.0   \n",
       "4                  0.39             0.61      90.5       99.5  60236.0   \n",
       "...                 ...              ...       ...        ...      ...   \n",
       "1351               0.55             0.45      16.2        6.1  14064.0   \n",
       "1352               0.57             0.43      15.3        6.7  14064.0   \n",
       "1353               0.63             0.37      17.0        4.5  28053.0   \n",
       "1354               0.54             0.46      13.8        7.6  14064.0   \n",
       "1355               0.12             0.88      15.2        3.4  41380.0   \n",
       "\n",
       "     Industry_Income  \n",
       "0                YES  \n",
       "1                YES  \n",
       "2                YES  \n",
       "3                YES  \n",
       "4                YES  \n",
       "...              ...  \n",
       "1351              NO  \n",
       "1352              NO  \n",
       "1353              NO  \n",
       "1354              NO  \n",
       "1355              NO  \n",
       "\n",
       "[1356 rows x 9 columns]"
      ]
     },
     "execution_count": 2,
     "metadata": {},
     "output_type": "execute_result"
    }
   ],
   "source": [
    "df = pd.read_csv('University_prep_kl.csv', sep=';')\n",
    "df"
   ]
  },
  {
   "cell_type": "markdown",
   "metadata": {},
   "source": [
    "Пропишем функцию для кодирования."
   ]
  },
  {
   "cell_type": "code",
   "execution_count": 3,
   "metadata": {},
   "outputs": [],
   "source": [
    "def encoding_char(x):\n",
    "    char_var = list(set(x.columns) - set(x._get_numeric_data().columns))\n",
    "    for col_names in char_var:\n",
    "        f = pd.factorize(x[col_names])\n",
    "        x[col_names] = pd.factorize(x[col_names])[0]\n",
    "    return(x)"
   ]
  },
  {
   "cell_type": "markdown",
   "metadata": {},
   "source": [
    "Применяем её к нашим данным. "
   ]
  },
  {
   "cell_type": "code",
   "execution_count": 4,
   "metadata": {},
   "outputs": [
    {
     "data": {
      "text/html": [
       "<div>\n",
       "<style scoped>\n",
       "    .dataframe tbody tr th:only-of-type {\n",
       "        vertical-align: middle;\n",
       "    }\n",
       "\n",
       "    .dataframe tbody tr th {\n",
       "        vertical-align: top;\n",
       "    }\n",
       "\n",
       "    .dataframe thead th {\n",
       "        text-align: right;\n",
       "    }\n",
       "</style>\n",
       "<table border=\"1\" class=\"dataframe\">\n",
       "  <thead>\n",
       "    <tr style=\"text-align: right;\">\n",
       "      <th></th>\n",
       "      <th>Number_students</th>\n",
       "      <th>Numb_students_per_Staff</th>\n",
       "      <th>International_Students</th>\n",
       "      <th>Percentage_Female</th>\n",
       "      <th>Percentage_Male</th>\n",
       "      <th>Teaching</th>\n",
       "      <th>Citations</th>\n",
       "      <th>GDP</th>\n",
       "      <th>Industry_Income</th>\n",
       "    </tr>\n",
       "  </thead>\n",
       "  <tbody>\n",
       "    <tr>\n",
       "      <th>0</th>\n",
       "      <td>20664</td>\n",
       "      <td>11.2</td>\n",
       "      <td>8472.0</td>\n",
       "      <td>0.46</td>\n",
       "      <td>0.54</td>\n",
       "      <td>90.5</td>\n",
       "      <td>98.4</td>\n",
       "      <td>41627.0</td>\n",
       "      <td>0</td>\n",
       "    </tr>\n",
       "    <tr>\n",
       "      <th>1</th>\n",
       "      <td>2240</td>\n",
       "      <td>6.4</td>\n",
       "      <td>672.0</td>\n",
       "      <td>0.34</td>\n",
       "      <td>0.66</td>\n",
       "      <td>92.1</td>\n",
       "      <td>97.9</td>\n",
       "      <td>60236.0</td>\n",
       "      <td>0</td>\n",
       "    </tr>\n",
       "    <tr>\n",
       "      <th>2</th>\n",
       "      <td>18978</td>\n",
       "      <td>10.9</td>\n",
       "      <td>7022.0</td>\n",
       "      <td>0.47</td>\n",
       "      <td>0.53</td>\n",
       "      <td>91.4</td>\n",
       "      <td>95.8</td>\n",
       "      <td>41627.0</td>\n",
       "      <td>0</td>\n",
       "    </tr>\n",
       "    <tr>\n",
       "      <th>3</th>\n",
       "      <td>16135</td>\n",
       "      <td>7.3</td>\n",
       "      <td>3711.0</td>\n",
       "      <td>0.43</td>\n",
       "      <td>0.57</td>\n",
       "      <td>92.8</td>\n",
       "      <td>99.9</td>\n",
       "      <td>60236.0</td>\n",
       "      <td>0</td>\n",
       "    </tr>\n",
       "    <tr>\n",
       "      <th>4</th>\n",
       "      <td>11247</td>\n",
       "      <td>8.6</td>\n",
       "      <td>3824.0</td>\n",
       "      <td>0.39</td>\n",
       "      <td>0.61</td>\n",
       "      <td>90.5</td>\n",
       "      <td>99.5</td>\n",
       "      <td>60236.0</td>\n",
       "      <td>0</td>\n",
       "    </tr>\n",
       "    <tr>\n",
       "      <th>...</th>\n",
       "      <td>...</td>\n",
       "      <td>...</td>\n",
       "      <td>...</td>\n",
       "      <td>...</td>\n",
       "      <td>...</td>\n",
       "      <td>...</td>\n",
       "      <td>...</td>\n",
       "      <td>...</td>\n",
       "      <td>...</td>\n",
       "    </tr>\n",
       "    <tr>\n",
       "      <th>1351</th>\n",
       "      <td>20174</td>\n",
       "      <td>17.8</td>\n",
       "      <td>0.0</td>\n",
       "      <td>0.55</td>\n",
       "      <td>0.45</td>\n",
       "      <td>16.2</td>\n",
       "      <td>6.1</td>\n",
       "      <td>14064.0</td>\n",
       "      <td>1</td>\n",
       "    </tr>\n",
       "    <tr>\n",
       "      <th>1352</th>\n",
       "      <td>34101</td>\n",
       "      <td>21.3</td>\n",
       "      <td>0.0</td>\n",
       "      <td>0.57</td>\n",
       "      <td>0.43</td>\n",
       "      <td>15.3</td>\n",
       "      <td>6.7</td>\n",
       "      <td>14064.0</td>\n",
       "      <td>1</td>\n",
       "    </tr>\n",
       "    <tr>\n",
       "      <th>1353</th>\n",
       "      <td>15236</td>\n",
       "      <td>11.1</td>\n",
       "      <td>3.0</td>\n",
       "      <td>0.63</td>\n",
       "      <td>0.37</td>\n",
       "      <td>17.0</td>\n",
       "      <td>4.5</td>\n",
       "      <td>28053.0</td>\n",
       "      <td>1</td>\n",
       "    </tr>\n",
       "    <tr>\n",
       "      <th>1354</th>\n",
       "      <td>17101</td>\n",
       "      <td>24.9</td>\n",
       "      <td>0.0</td>\n",
       "      <td>0.54</td>\n",
       "      <td>0.46</td>\n",
       "      <td>13.8</td>\n",
       "      <td>7.6</td>\n",
       "      <td>14064.0</td>\n",
       "      <td>1</td>\n",
       "    </tr>\n",
       "    <tr>\n",
       "      <th>1355</th>\n",
       "      <td>9285</td>\n",
       "      <td>25.6</td>\n",
       "      <td>2.0</td>\n",
       "      <td>0.12</td>\n",
       "      <td>0.88</td>\n",
       "      <td>15.2</td>\n",
       "      <td>3.4</td>\n",
       "      <td>41380.0</td>\n",
       "      <td>1</td>\n",
       "    </tr>\n",
       "  </tbody>\n",
       "</table>\n",
       "<p>1356 rows × 9 columns</p>\n",
       "</div>"
      ],
      "text/plain": [
       "      Number_students  Numb_students_per_Staff  International_Students  \\\n",
       "0               20664                     11.2                  8472.0   \n",
       "1                2240                      6.4                   672.0   \n",
       "2               18978                     10.9                  7022.0   \n",
       "3               16135                      7.3                  3711.0   \n",
       "4               11247                      8.6                  3824.0   \n",
       "...               ...                      ...                     ...   \n",
       "1351            20174                     17.8                     0.0   \n",
       "1352            34101                     21.3                     0.0   \n",
       "1353            15236                     11.1                     3.0   \n",
       "1354            17101                     24.9                     0.0   \n",
       "1355             9285                     25.6                     2.0   \n",
       "\n",
       "      Percentage_Female  Percentage_Male  Teaching  Citations      GDP  \\\n",
       "0                  0.46             0.54      90.5       98.4  41627.0   \n",
       "1                  0.34             0.66      92.1       97.9  60236.0   \n",
       "2                  0.47             0.53      91.4       95.8  41627.0   \n",
       "3                  0.43             0.57      92.8       99.9  60236.0   \n",
       "4                  0.39             0.61      90.5       99.5  60236.0   \n",
       "...                 ...              ...       ...        ...      ...   \n",
       "1351               0.55             0.45      16.2        6.1  14064.0   \n",
       "1352               0.57             0.43      15.3        6.7  14064.0   \n",
       "1353               0.63             0.37      17.0        4.5  28053.0   \n",
       "1354               0.54             0.46      13.8        7.6  14064.0   \n",
       "1355               0.12             0.88      15.2        3.4  41380.0   \n",
       "\n",
       "      Industry_Income  \n",
       "0                   0  \n",
       "1                   0  \n",
       "2                   0  \n",
       "3                   0  \n",
       "4                   0  \n",
       "...               ...  \n",
       "1351                1  \n",
       "1352                1  \n",
       "1353                1  \n",
       "1354                1  \n",
       "1355                1  \n",
       "\n",
       "[1356 rows x 9 columns]"
      ]
     },
     "execution_count": 4,
     "metadata": {},
     "output_type": "execute_result"
    }
   ],
   "source": [
    "df = encoding_char(df)\n",
    "df"
   ]
  },
  {
   "cell_type": "markdown",
   "metadata": {},
   "source": [
    "Разбиваем датасет на обучающую и тестовую выборки в соотношении 80%/20%."
   ]
  },
  {
   "cell_type": "code",
   "execution_count": 5,
   "metadata": {},
   "outputs": [],
   "source": [
    "X = df.iloc[:, :-1].values\n",
    "y = df.iloc[:, -1].values\n",
    "from sklearn.model_selection import train_test_split\n",
    "X_train, X_test, y_train, y_test = train_test_split(X, y, test_size=0.2, random_state=13)"
   ]
  },
  {
   "cell_type": "markdown",
   "metadata": {},
   "source": [
    "Для работы с логистической регрессией нам нужны шкалированные данные, поэтому займёмся этим."
   ]
  },
  {
   "cell_type": "code",
   "execution_count": 6,
   "metadata": {},
   "outputs": [],
   "source": [
    "from sklearn.preprocessing import StandardScaler\n",
    "sc_X = StandardScaler().fit(X_train)\n",
    "X_train = sc_X.transform(X_train)\n",
    "X_test = sc_X.transform(X_test)"
   ]
  },
  {
   "cell_type": "markdown",
   "metadata": {},
   "source": [
    "Построим базовую модель логистической регрессии, заодно посмотрим на значимость каждой переменной. Видим, что у нас наиболее значимые Количество студентов на преподавателя, % женщин, % мужчин и уровень преподавания."
   ]
  },
  {
   "cell_type": "code",
   "execution_count": 7,
   "metadata": {},
   "outputs": [
    {
     "name": "stdout",
     "output_type": "stream",
     "text": [
      "Optimization terminated successfully.\n",
      "         Current function value: 0.568646\n",
      "         Iterations 6\n",
      "                         Results: Logit\n",
      "=================================================================\n",
      "Model:              Logit            Pseudo R-squared: 0.070     \n",
      "Dependent Variable: y                AIC:              1248.8251 \n",
      "Date:               2021-10-30 15:38 BIC:              1288.7325 \n",
      "No. Observations:   1084             Log-Likelihood:   -616.41   \n",
      "Df Model:           7                LL-Null:          -662.85   \n",
      "Df Residuals:       1076             LLR p-value:      3.1637e-17\n",
      "Converged:          1.0000           Scale:            1.0000    \n",
      "No. Iterations:     6.0000                                       \n",
      "--------------------------------------------------------------------\n",
      "       Coef.     Std.Err.       z       P>|z|      [0.025     0.975]\n",
      "--------------------------------------------------------------------\n",
      "x1     0.1033      0.0804     1.2856    0.1986    -0.0542     0.2608\n",
      "x2    -0.3565      0.0851    -4.1876    0.0000    -0.5234    -0.1897\n",
      "x3    -0.0090      0.1028    -0.0880    0.9299    -0.2106     0.1925\n",
      "x4     0.4995      0.0756     6.6034    0.0000     0.3512     0.6477\n",
      "x5    -0.2113      0.0748    -2.8246    0.0047    -0.3579    -0.0647\n",
      "x6    -1.2298      0.1242    -9.9002    0.0000    -1.4733    -0.9864\n",
      "x7     0.0866      0.0947     0.9152    0.3601    -0.0989     0.2721\n",
      "x8     0.0306      0.0830     0.3692    0.7120    -0.1320     0.1933\n",
      "=================================================================\n",
      "\n"
     ]
    }
   ],
   "source": [
    "import statsmodels.api as sm\n",
    "lr = sm.Logit(y_train, X_train).fit()\n",
    "print(lr.summary2())"
   ]
  },
  {
   "cell_type": "markdown",
   "metadata": {},
   "source": [
    "Теперь неоходимо провести отбор переменных. Это можно автоматизировать, прописав функцию, а можно сделать вручную. Получили 5 значимых переменных Number_students, Numb_students_per_Staff, Percentage_Female, Percentage_Male, Teaching."
   ]
  },
  {
   "cell_type": "code",
   "execution_count": 8,
   "metadata": {},
   "outputs": [
    {
     "name": "stdout",
     "output_type": "stream",
     "text": [
      "5\n",
      "[ True  True False  True  True  True False False]\n",
      "[1 1 2 1 1 1 3 4]\n"
     ]
    }
   ],
   "source": [
    "from sklearn.feature_selection import RFECV\n",
    "from sklearn.linear_model import LogisticRegression\n",
    "estimator=LogisticRegression(random_state=123)\n",
    "selector=RFECV(estimator, step=1)\n",
    "selector=selector.fit(X_train, y_train)\n",
    "print(selector.n_features_)\n",
    "print(selector.support_)\n",
    "print(selector.ranking_)"
   ]
  },
  {
   "cell_type": "code",
   "execution_count": 9,
   "metadata": {},
   "outputs": [
    {
     "name": "stdout",
     "output_type": "stream",
     "text": [
      "[0, 1, 3, 4, 5]\n",
      "№\tIndex\tFeature\n",
      "0\t0\tNumber_students\n",
      "1\t1\tNumb_students_per_Staff\n",
      "2\t3\tPercentage_Female\n",
      "3\t4\tPercentage_Male\n",
      "4\t5\tTeaching\n"
     ]
    }
   ],
   "source": [
    "selected_columns=[]\n",
    "for i in range(len(X_train[0])):\n",
    "    if selector.support_[i]==1:\n",
    "        selected_columns.append(i)\n",
    "print(selected_columns)\n",
    "print('№\\tIndex\\tFeature')\n",
    "i=0\n",
    "for column in selected_columns:\n",
    "    print(str(i)+'\\t'+str(column)+'\\t'+str(df.columns[column]))\n",
    "    i=i+1"
   ]
  },
  {
   "cell_type": "markdown",
   "metadata": {},
   "source": [
    "Оставляем только отобранные переменные."
   ]
  },
  {
   "cell_type": "code",
   "execution_count": 10,
   "metadata": {},
   "outputs": [],
   "source": [
    "X_train_select=X_train[:, selected_columns]\n",
    "X_test_select=X_test[:, selected_columns]"
   ]
  },
  {
   "cell_type": "code",
   "execution_count": 11,
   "metadata": {},
   "outputs": [],
   "source": [
    "X_train = X_train[:,[True, True, False, True, True, True, False, False]]\n",
    "X_test = X_test[:,[True, True, False, True, True, True, False, False]]"
   ]
  },
  {
   "cell_type": "markdown",
   "metadata": {},
   "source": [
    "Строим логистическую регрессию только на значимых факторах."
   ]
  },
  {
   "cell_type": "code",
   "execution_count": 12,
   "metadata": {},
   "outputs": [],
   "source": [
    "from sklearn.linear_model import LogisticRegression\n",
    "lr = LogisticRegression(random_state = 13).fit(X_train, y_train)"
   ]
  },
  {
   "cell_type": "code",
   "execution_count": 13,
   "metadata": {},
   "outputs": [],
   "source": [
    "y_pred = lr.predict(X_test)"
   ]
  },
  {
   "cell_type": "code",
   "execution_count": 14,
   "metadata": {},
   "outputs": [
    {
     "data": {
      "text/plain": [
       "0.7683823529411765"
      ]
     },
     "execution_count": 14,
     "metadata": {},
     "output_type": "execute_result"
    }
   ],
   "source": [
    "lr.score(X_test,y_test)"
   ]
  },
  {
   "cell_type": "markdown",
   "metadata": {},
   "source": [
    "Посмотрим на матрицу сопряженности. Видим, что модель 209 объектов распознала верно и 63 нет. Точность модели: 76,8%. Доля ошибок: 23,2%. "
   ]
  },
  {
   "cell_type": "code",
   "execution_count": 15,
   "metadata": {},
   "outputs": [
    {
     "name": "stdout",
     "output_type": "stream",
     "text": [
      "[[ 40  41]\n",
      " [ 22 169]]\n"
     ]
    }
   ],
   "source": [
    "from sklearn.metrics import confusion_matrix\n",
    "cm = confusion_matrix(y_test, y_pred)\n",
    "print(cm)"
   ]
  },
  {
   "cell_type": "markdown",
   "metadata": {},
   "source": [
    "\"Консервируем\" наш результат."
   ]
  },
  {
   "cell_type": "code",
   "execution_count": 16,
   "metadata": {},
   "outputs": [],
   "source": [
    "import pickle\n",
    "obj = {'X_train': X_train, 'X_test': X_test,'y_train': y_train,'y_test': y_test}\n",
    "output = open('data.pkl', 'wb')\n",
    "pickle.dump(obj, output, 2)\n",
    "output.close()"
   ]
  },
  {
   "cell_type": "markdown",
   "metadata": {},
   "source": [
    "## Классификация с помощью логистической регрессии определила, что 40 университетов относятся к высокодоходным, а 169 - к низкодоходным. При этом 63 заведения были ошибочно отнесены к категориям. Классификация проводится на основе количества студентов, количества студентов на 1 сотрудника, % женщин и мужчин и уровня преподавания. В итоге с точностью почти 77% мы можем определять принадлежность университета к ВУЗам с высоким или низким доходом."
   ]
  }
 ],
 "metadata": {
  "kernelspec": {
   "display_name": "Python 3",
   "language": "python",
   "name": "python3"
  },
  "language_info": {
   "codemirror_mode": {
    "name": "ipython",
    "version": 3
   },
   "file_extension": ".py",
   "mimetype": "text/x-python",
   "name": "python",
   "nbconvert_exporter": "python",
   "pygments_lexer": "ipython3",
   "version": "3.8.5"
  }
 },
 "nbformat": 4,
 "nbformat_minor": 4
}
