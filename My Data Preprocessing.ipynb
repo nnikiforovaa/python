{
 "cells": [
  {
   "cell_type": "markdown",
   "metadata": {},
   "source": [
    "## Источник: https://www.kaggle.com/joeshamen/world-university-rankings-2020¶"
   ]
  },
  {
   "cell_type": "markdown",
   "metadata": {},
   "source": [
    "## Описание"
   ]
  },
  {
   "cell_type": "markdown",
   "metadata": {},
   "source": [
    "Times Higher Education предоставляет достоверные данные об университетах с 2004 года. Это единственная глобальная таблица рейтинга университетов, в которой оцениваются научно-исследовательские университеты по всем их основным задачам.\n",
    "Почему же я выбрала именно такой датасет? Во-первых, тема образования и его качества всегда являлась актуальной и интересной (особенно, когда ты сам студент). Во-вторых, этот рейтинг имеет много интересных переменных, достаточное количество объектов, что явно будет плюсом в работе с ним. "
   ]
  },
  {
   "cell_type": "markdown",
   "metadata": {},
   "source": [
    "Теперь подробнее опишем сами переменные. Сразу отмечу, что в качестве зависимой переменной я выбрала Industry_Income (доход заведения), так как мне кажется, что тема финансов интересна, да и этот аспект является показательным для многих. Любопытно узнать, что и как влияет на доход. \n",
    "Количество студентов, как и количество студентов на одного преподавателя, общая сумма иностраннных студентов отображают масштабность заведения, его популярность. Процентное соотношение мужчин и женщин на первый взгляд бессмысленные переменные, но посмотрим, играет ли она всё-таки роль в нашем исследовании. Оценки преподавания, исследований, цитирования, упоминаний в иностранных источниках - это оценки по 100-балльной шкале, которые поданы в таком виде для удобства. Их присутствие в рейтинге логично и понятно. ВВП на душу населения-показатель, который добавила в рейтинг лично я, так как очень интересно его влияние на доход университета (а может его и нет вовсе). "
   ]
  },
  {
   "cell_type": "markdown",
   "metadata": {},
   "source": [
    "Задачей моего исследования является определение наиболее влияющих на доход университета факторов. \"И для чего это?\"-спросите вы. Результаты могут быть полезны для администрации университета, которая хочет поднять доходы, для правительства, так как доход университета напрямую связан с гос. бюджетом, для абитуриентов, которые выбирают ВУЗ для поступления, для потенциальных инвесторов и для многого другого."
   ]
  },
  {
   "cell_type": "markdown",
   "metadata": {},
   "source": [
    "Займемся установкой пакетов, которые записаны нами же ранее в отдельном файле."
   ]
  },
  {
   "cell_type": "markdown",
   "metadata": {},
   "source": [
    "!pip install -r requirements.txt"
   ]
  },
  {
   "cell_type": "markdown",
   "metadata": {},
   "source": [
    "Эти библиотеки были установлены ранее и добавлены в requirements.txt, поэтому сейчас поданы в виде комментария."
   ]
  },
  {
   "cell_type": "markdown",
   "metadata": {},
   "source": [
    "!pip install numpy"
   ]
  },
  {
   "cell_type": "markdown",
   "metadata": {},
   "source": [
    "!pip install matplotlib"
   ]
  },
  {
   "cell_type": "markdown",
   "metadata": {},
   "source": [
    "!pip install pandas"
   ]
  },
  {
   "cell_type": "markdown",
   "metadata": {},
   "source": [
    "## Импорт датасета"
   ]
  },
  {
   "cell_type": "markdown",
   "metadata": {},
   "source": [
    "Импортируем указанные библиотеки под сокращенным именем для удобства."
   ]
  },
  {
   "cell_type": "code",
   "execution_count": 11,
   "metadata": {},
   "outputs": [],
   "source": [
    "import numpy as np\n",
    "import matplotlib.pyplot as plt\n",
    "import pandas as pd"
   ]
  },
  {
   "cell_type": "markdown",
   "metadata": {},
   "source": [
    "Записываем в переменную df наш датасет."
   ]
  },
  {
   "cell_type": "code",
   "execution_count": 14,
   "metadata": {},
   "outputs": [],
   "source": [
    "df = pd.read_csv('University2020.csv', sep=';')"
   ]
  },
  {
   "cell_type": "markdown",
   "metadata": {},
   "source": [
    "Выведем датасет для проверки. Видим, что всё отображается корректно."
   ]
  },
  {
   "cell_type": "code",
   "execution_count": 15,
   "metadata": {},
   "outputs": [
    {
     "data": {
      "text/html": [
       "<div>\n",
       "<style scoped>\n",
       "    .dataframe tbody tr th:only-of-type {\n",
       "        vertical-align: middle;\n",
       "    }\n",
       "\n",
       "    .dataframe tbody tr th {\n",
       "        vertical-align: top;\n",
       "    }\n",
       "\n",
       "    .dataframe thead th {\n",
       "        text-align: right;\n",
       "    }\n",
       "</style>\n",
       "<table border=\"1\" class=\"dataframe\">\n",
       "  <thead>\n",
       "    <tr style=\"text-align: right;\">\n",
       "      <th></th>\n",
       "      <th>Rank_Char</th>\n",
       "      <th>University</th>\n",
       "      <th>Country</th>\n",
       "      <th>Number_students</th>\n",
       "      <th>Numb_students_per_Staff</th>\n",
       "      <th>International_Students</th>\n",
       "      <th>Percentage_Female</th>\n",
       "      <th>Percentage_Male</th>\n",
       "      <th>Teaching</th>\n",
       "      <th>Research</th>\n",
       "      <th>Citations</th>\n",
       "      <th>International_Outlook</th>\n",
       "      <th>GDP</th>\n",
       "      <th>Industry_Income</th>\n",
       "    </tr>\n",
       "  </thead>\n",
       "  <tbody>\n",
       "    <tr>\n",
       "      <th>0</th>\n",
       "      <td>1</td>\n",
       "      <td>University of Oxford</td>\n",
       "      <td>United Kingdom</td>\n",
       "      <td>20664</td>\n",
       "      <td>11.2</td>\n",
       "      <td>8472.0</td>\n",
       "      <td>0.46</td>\n",
       "      <td>0.54</td>\n",
       "      <td>90.5</td>\n",
       "      <td>99.6</td>\n",
       "      <td>98.4</td>\n",
       "      <td>96.4</td>\n",
       "      <td>41627.0</td>\n",
       "      <td>65.5</td>\n",
       "    </tr>\n",
       "    <tr>\n",
       "      <th>1</th>\n",
       "      <td>2</td>\n",
       "      <td>California Institute of Technology</td>\n",
       "      <td>United States</td>\n",
       "      <td>2240</td>\n",
       "      <td>6.4</td>\n",
       "      <td>672.0</td>\n",
       "      <td>0.34</td>\n",
       "      <td>0.66</td>\n",
       "      <td>92.1</td>\n",
       "      <td>97.2</td>\n",
       "      <td>97.9</td>\n",
       "      <td>82.5</td>\n",
       "      <td>60236.0</td>\n",
       "      <td>88.0</td>\n",
       "    </tr>\n",
       "    <tr>\n",
       "      <th>2</th>\n",
       "      <td>3</td>\n",
       "      <td>University of Cambridge</td>\n",
       "      <td>United Kingdom</td>\n",
       "      <td>18978</td>\n",
       "      <td>10.9</td>\n",
       "      <td>7022.0</td>\n",
       "      <td>0.47</td>\n",
       "      <td>0.53</td>\n",
       "      <td>91.4</td>\n",
       "      <td>98.7</td>\n",
       "      <td>95.8</td>\n",
       "      <td>95.0</td>\n",
       "      <td>41627.0</td>\n",
       "      <td>59.3</td>\n",
       "    </tr>\n",
       "    <tr>\n",
       "      <th>3</th>\n",
       "      <td>4</td>\n",
       "      <td>Stanford University</td>\n",
       "      <td>United States</td>\n",
       "      <td>16135</td>\n",
       "      <td>7.3</td>\n",
       "      <td>3711.0</td>\n",
       "      <td>0.43</td>\n",
       "      <td>0.57</td>\n",
       "      <td>92.8</td>\n",
       "      <td>96.4</td>\n",
       "      <td>99.9</td>\n",
       "      <td>79.5</td>\n",
       "      <td>60236.0</td>\n",
       "      <td>66.2</td>\n",
       "    </tr>\n",
       "    <tr>\n",
       "      <th>4</th>\n",
       "      <td>5</td>\n",
       "      <td>Massachusetts Institute of Technology</td>\n",
       "      <td>United States</td>\n",
       "      <td>11247</td>\n",
       "      <td>8.6</td>\n",
       "      <td>3824.0</td>\n",
       "      <td>0.39</td>\n",
       "      <td>0.61</td>\n",
       "      <td>90.5</td>\n",
       "      <td>92.4</td>\n",
       "      <td>99.5</td>\n",
       "      <td>89.0</td>\n",
       "      <td>60236.0</td>\n",
       "      <td>86.9</td>\n",
       "    </tr>\n",
       "    <tr>\n",
       "      <th>...</th>\n",
       "      <td>...</td>\n",
       "      <td>...</td>\n",
       "      <td>...</td>\n",
       "      <td>...</td>\n",
       "      <td>...</td>\n",
       "      <td>...</td>\n",
       "      <td>...</td>\n",
       "      <td>...</td>\n",
       "      <td>...</td>\n",
       "      <td>...</td>\n",
       "      <td>...</td>\n",
       "      <td>...</td>\n",
       "      <td>...</td>\n",
       "      <td>...</td>\n",
       "    </tr>\n",
       "    <tr>\n",
       "      <th>1391</th>\n",
       "      <td>1392</td>\n",
       "      <td>Cear? State University</td>\n",
       "      <td>Brazil</td>\n",
       "      <td>20174</td>\n",
       "      <td>17.8</td>\n",
       "      <td>0.0</td>\n",
       "      <td>0.55</td>\n",
       "      <td>0.45</td>\n",
       "      <td>16.2</td>\n",
       "      <td>8.3</td>\n",
       "      <td>6.1</td>\n",
       "      <td>16.3</td>\n",
       "      <td>14064.0</td>\n",
       "      <td>35.6</td>\n",
       "    </tr>\n",
       "    <tr>\n",
       "      <th>1392</th>\n",
       "      <td>1393</td>\n",
       "      <td>Pontifical Catholic University of Minas Gerais</td>\n",
       "      <td>Brazil</td>\n",
       "      <td>34101</td>\n",
       "      <td>21.3</td>\n",
       "      <td>0.0</td>\n",
       "      <td>0.57</td>\n",
       "      <td>0.43</td>\n",
       "      <td>15.3</td>\n",
       "      <td>7.7</td>\n",
       "      <td>6.7</td>\n",
       "      <td>19.4</td>\n",
       "      <td>14064.0</td>\n",
       "      <td>35.1</td>\n",
       "    </tr>\n",
       "    <tr>\n",
       "      <th>1393</th>\n",
       "      <td>1394</td>\n",
       "      <td>Bashkir State University</td>\n",
       "      <td>Russian Federation</td>\n",
       "      <td>15236</td>\n",
       "      <td>11.1</td>\n",
       "      <td>3.0</td>\n",
       "      <td>0.63</td>\n",
       "      <td>0.37</td>\n",
       "      <td>17.0</td>\n",
       "      <td>8.1</td>\n",
       "      <td>4.5</td>\n",
       "      <td>16.7</td>\n",
       "      <td>28053.0</td>\n",
       "      <td>36.9</td>\n",
       "    </tr>\n",
       "    <tr>\n",
       "      <th>1394</th>\n",
       "      <td>1395</td>\n",
       "      <td>University of Caxias do Sul</td>\n",
       "      <td>Brazil</td>\n",
       "      <td>17101</td>\n",
       "      <td>24.9</td>\n",
       "      <td>0.0</td>\n",
       "      <td>0.54</td>\n",
       "      <td>0.46</td>\n",
       "      <td>13.8</td>\n",
       "      <td>7.8</td>\n",
       "      <td>7.6</td>\n",
       "      <td>17.7</td>\n",
       "      <td>14064.0</td>\n",
       "      <td>35.0</td>\n",
       "    </tr>\n",
       "    <tr>\n",
       "      <th>1395</th>\n",
       "      <td>1396</td>\n",
       "      <td>Tokyo Denki University</td>\n",
       "      <td>Japan</td>\n",
       "      <td>9285</td>\n",
       "      <td>25.6</td>\n",
       "      <td>2.0</td>\n",
       "      <td>0.12</td>\n",
       "      <td>0.88</td>\n",
       "      <td>15.2</td>\n",
       "      <td>9.3</td>\n",
       "      <td>3.4</td>\n",
       "      <td>17.7</td>\n",
       "      <td>41380.0</td>\n",
       "      <td>39.6</td>\n",
       "    </tr>\n",
       "  </tbody>\n",
       "</table>\n",
       "<p>1396 rows × 14 columns</p>\n",
       "</div>"
      ],
      "text/plain": [
       "      Rank_Char                                      University  \\\n",
       "0             1                            University of Oxford   \n",
       "1             2              California Institute of Technology   \n",
       "2             3                         University of Cambridge   \n",
       "3             4                             Stanford University   \n",
       "4             5           Massachusetts Institute of Technology   \n",
       "...         ...                                             ...   \n",
       "1391       1392                          Cear? State University   \n",
       "1392       1393  Pontifical Catholic University of Minas Gerais   \n",
       "1393       1394                        Bashkir State University   \n",
       "1394       1395                     University of Caxias do Sul   \n",
       "1395       1396                          Tokyo Denki University   \n",
       "\n",
       "                 Country  Number_students  Numb_students_per_Staff  \\\n",
       "0         United Kingdom            20664                     11.2   \n",
       "1          United States             2240                      6.4   \n",
       "2         United Kingdom            18978                     10.9   \n",
       "3          United States            16135                      7.3   \n",
       "4          United States            11247                      8.6   \n",
       "...                  ...              ...                      ...   \n",
       "1391              Brazil            20174                     17.8   \n",
       "1392              Brazil            34101                     21.3   \n",
       "1393  Russian Federation            15236                     11.1   \n",
       "1394              Brazil            17101                     24.9   \n",
       "1395               Japan             9285                     25.6   \n",
       "\n",
       "      International_Students  Percentage_Female  Percentage_Male  Teaching  \\\n",
       "0                     8472.0               0.46             0.54      90.5   \n",
       "1                      672.0               0.34             0.66      92.1   \n",
       "2                     7022.0               0.47             0.53      91.4   \n",
       "3                     3711.0               0.43             0.57      92.8   \n",
       "4                     3824.0               0.39             0.61      90.5   \n",
       "...                      ...                ...              ...       ...   \n",
       "1391                     0.0               0.55             0.45      16.2   \n",
       "1392                     0.0               0.57             0.43      15.3   \n",
       "1393                     3.0               0.63             0.37      17.0   \n",
       "1394                     0.0               0.54             0.46      13.8   \n",
       "1395                     2.0               0.12             0.88      15.2   \n",
       "\n",
       "      Research  Citations  International_Outlook      GDP  Industry_Income  \n",
       "0         99.6       98.4                   96.4  41627.0             65.5  \n",
       "1         97.2       97.9                   82.5  60236.0             88.0  \n",
       "2         98.7       95.8                   95.0  41627.0             59.3  \n",
       "3         96.4       99.9                   79.5  60236.0             66.2  \n",
       "4         92.4       99.5                   89.0  60236.0             86.9  \n",
       "...        ...        ...                    ...      ...              ...  \n",
       "1391       8.3        6.1                   16.3  14064.0             35.6  \n",
       "1392       7.7        6.7                   19.4  14064.0             35.1  \n",
       "1393       8.1        4.5                   16.7  28053.0             36.9  \n",
       "1394       7.8        7.6                   17.7  14064.0             35.0  \n",
       "1395       9.3        3.4                   17.7  41380.0             39.6  \n",
       "\n",
       "[1396 rows x 14 columns]"
      ]
     },
     "execution_count": 15,
     "metadata": {},
     "output_type": "execute_result"
    }
   ],
   "source": [
    "df"
   ]
  },
  {
   "cell_type": "markdown",
   "metadata": {},
   "source": [
    "Теперь немного проанализируем наши данные. У нас 1396 элементов, 14 столбцов. "
   ]
  },
  {
   "cell_type": "code",
   "execution_count": 16,
   "metadata": {},
   "outputs": [
    {
     "name": "stdout",
     "output_type": "stream",
     "text": [
      "<class 'pandas.core.frame.DataFrame'>\n",
      "RangeIndex: 1396 entries, 0 to 1395\n",
      "Data columns (total 14 columns):\n",
      " #   Column                   Non-Null Count  Dtype  \n",
      "---  ------                   --------------  -----  \n",
      " 0   Rank_Char                1396 non-null   int64  \n",
      " 1   University               1396 non-null   object \n",
      " 2   Country                  1396 non-null   object \n",
      " 3   Number_students          1396 non-null   int64  \n",
      " 4   Numb_students_per_Staff  1396 non-null   float64\n",
      " 5   International_Students   1394 non-null   float64\n",
      " 6   Percentage_Female        1396 non-null   float64\n",
      " 7   Percentage_Male          1396 non-null   float64\n",
      " 8   Teaching                 1396 non-null   float64\n",
      " 9   Research                 1396 non-null   float64\n",
      " 10  Citations                1396 non-null   float64\n",
      " 11  International_Outlook    1396 non-null   float64\n",
      " 12  GDP                      1395 non-null   float64\n",
      " 13  Industry_Income          1396 non-null   float64\n",
      "dtypes: float64(10), int64(2), object(2)\n",
      "memory usage: 152.8+ KB\n"
     ]
    }
   ],
   "source": [
    "df.info()"
   ]
  },
  {
   "cell_type": "markdown",
   "metadata": {},
   "source": [
    "Конечно же, мы заметили, что есть столбцы с совершенно бесполезными в нашем случае для анализа данными. Например, название университета, страна и номер ВУЗа в рейтинге. "
   ]
  },
  {
   "cell_type": "code",
   "execution_count": 18,
   "metadata": {},
   "outputs": [
    {
     "data": {
      "text/html": [
       "<div>\n",
       "<style scoped>\n",
       "    .dataframe tbody tr th:only-of-type {\n",
       "        vertical-align: middle;\n",
       "    }\n",
       "\n",
       "    .dataframe tbody tr th {\n",
       "        vertical-align: top;\n",
       "    }\n",
       "\n",
       "    .dataframe thead th {\n",
       "        text-align: right;\n",
       "    }\n",
       "</style>\n",
       "<table border=\"1\" class=\"dataframe\">\n",
       "  <thead>\n",
       "    <tr style=\"text-align: right;\">\n",
       "      <th></th>\n",
       "      <th>Number_students</th>\n",
       "      <th>Numb_students_per_Staff</th>\n",
       "      <th>International_Students</th>\n",
       "      <th>Percentage_Female</th>\n",
       "      <th>Percentage_Male</th>\n",
       "      <th>Teaching</th>\n",
       "      <th>Research</th>\n",
       "      <th>Citations</th>\n",
       "      <th>International_Outlook</th>\n",
       "      <th>GDP</th>\n",
       "      <th>Industry_Income</th>\n",
       "    </tr>\n",
       "  </thead>\n",
       "  <tbody>\n",
       "    <tr>\n",
       "      <th>0</th>\n",
       "      <td>20664</td>\n",
       "      <td>11.2</td>\n",
       "      <td>8472.0</td>\n",
       "      <td>0.46</td>\n",
       "      <td>0.54</td>\n",
       "      <td>90.5</td>\n",
       "      <td>99.6</td>\n",
       "      <td>98.4</td>\n",
       "      <td>96.4</td>\n",
       "      <td>41627.0</td>\n",
       "      <td>65.5</td>\n",
       "    </tr>\n",
       "    <tr>\n",
       "      <th>1</th>\n",
       "      <td>2240</td>\n",
       "      <td>6.4</td>\n",
       "      <td>672.0</td>\n",
       "      <td>0.34</td>\n",
       "      <td>0.66</td>\n",
       "      <td>92.1</td>\n",
       "      <td>97.2</td>\n",
       "      <td>97.9</td>\n",
       "      <td>82.5</td>\n",
       "      <td>60236.0</td>\n",
       "      <td>88.0</td>\n",
       "    </tr>\n",
       "    <tr>\n",
       "      <th>2</th>\n",
       "      <td>18978</td>\n",
       "      <td>10.9</td>\n",
       "      <td>7022.0</td>\n",
       "      <td>0.47</td>\n",
       "      <td>0.53</td>\n",
       "      <td>91.4</td>\n",
       "      <td>98.7</td>\n",
       "      <td>95.8</td>\n",
       "      <td>95.0</td>\n",
       "      <td>41627.0</td>\n",
       "      <td>59.3</td>\n",
       "    </tr>\n",
       "    <tr>\n",
       "      <th>3</th>\n",
       "      <td>16135</td>\n",
       "      <td>7.3</td>\n",
       "      <td>3711.0</td>\n",
       "      <td>0.43</td>\n",
       "      <td>0.57</td>\n",
       "      <td>92.8</td>\n",
       "      <td>96.4</td>\n",
       "      <td>99.9</td>\n",
       "      <td>79.5</td>\n",
       "      <td>60236.0</td>\n",
       "      <td>66.2</td>\n",
       "    </tr>\n",
       "    <tr>\n",
       "      <th>4</th>\n",
       "      <td>11247</td>\n",
       "      <td>8.6</td>\n",
       "      <td>3824.0</td>\n",
       "      <td>0.39</td>\n",
       "      <td>0.61</td>\n",
       "      <td>90.5</td>\n",
       "      <td>92.4</td>\n",
       "      <td>99.5</td>\n",
       "      <td>89.0</td>\n",
       "      <td>60236.0</td>\n",
       "      <td>86.9</td>\n",
       "    </tr>\n",
       "  </tbody>\n",
       "</table>\n",
       "</div>"
      ],
      "text/plain": [
       "   Number_students  Numb_students_per_Staff  International_Students  \\\n",
       "0            20664                     11.2                  8472.0   \n",
       "1             2240                      6.4                   672.0   \n",
       "2            18978                     10.9                  7022.0   \n",
       "3            16135                      7.3                  3711.0   \n",
       "4            11247                      8.6                  3824.0   \n",
       "\n",
       "   Percentage_Female  Percentage_Male  Teaching  Research  Citations  \\\n",
       "0               0.46             0.54      90.5      99.6       98.4   \n",
       "1               0.34             0.66      92.1      97.2       97.9   \n",
       "2               0.47             0.53      91.4      98.7       95.8   \n",
       "3               0.43             0.57      92.8      96.4       99.9   \n",
       "4               0.39             0.61      90.5      92.4       99.5   \n",
       "\n",
       "   International_Outlook      GDP  Industry_Income  \n",
       "0                   96.4  41627.0             65.5  \n",
       "1                   82.5  60236.0             88.0  \n",
       "2                   95.0  41627.0             59.3  \n",
       "3                   79.5  60236.0             66.2  \n",
       "4                   89.0  60236.0             86.9  "
      ]
     },
     "execution_count": 18,
     "metadata": {},
     "output_type": "execute_result"
    }
   ],
   "source": [
    "df = df.drop(['Rank_Char','University','Country'], axis='columns', inplace=False)\n",
    "df.head(5)"
   ]
  },
  {
   "cell_type": "markdown",
   "metadata": {},
   "source": [
    "## Статистика"
   ]
  },
  {
   "cell_type": "markdown",
   "metadata": {},
   "source": [
    "Посмотрим на статистику наших данных. Она будет крайне полезна при дальнейшей обработке."
   ]
  },
  {
   "cell_type": "code",
   "execution_count": 19,
   "metadata": {},
   "outputs": [
    {
     "data": {
      "text/html": [
       "<div>\n",
       "<style scoped>\n",
       "    .dataframe tbody tr th:only-of-type {\n",
       "        vertical-align: middle;\n",
       "    }\n",
       "\n",
       "    .dataframe tbody tr th {\n",
       "        vertical-align: top;\n",
       "    }\n",
       "\n",
       "    .dataframe thead th {\n",
       "        text-align: right;\n",
       "    }\n",
       "</style>\n",
       "<table border=\"1\" class=\"dataframe\">\n",
       "  <thead>\n",
       "    <tr style=\"text-align: right;\">\n",
       "      <th></th>\n",
       "      <th>Number_students</th>\n",
       "      <th>Numb_students_per_Staff</th>\n",
       "      <th>International_Students</th>\n",
       "      <th>Percentage_Female</th>\n",
       "      <th>Percentage_Male</th>\n",
       "      <th>Teaching</th>\n",
       "      <th>Research</th>\n",
       "      <th>Citations</th>\n",
       "      <th>International_Outlook</th>\n",
       "      <th>GDP</th>\n",
       "      <th>Industry_Income</th>\n",
       "    </tr>\n",
       "  </thead>\n",
       "  <tbody>\n",
       "    <tr>\n",
       "      <th>count</th>\n",
       "      <td>1396.000000</td>\n",
       "      <td>1396.000000</td>\n",
       "      <td>1394.000000</td>\n",
       "      <td>1396.000000</td>\n",
       "      <td>1396.000000</td>\n",
       "      <td>1396.000000</td>\n",
       "      <td>1396.000000</td>\n",
       "      <td>1396.000000</td>\n",
       "      <td>1396.000000</td>\n",
       "      <td>1395.000000</td>\n",
       "      <td>1396.000000</td>\n",
       "    </tr>\n",
       "    <tr>\n",
       "      <th>mean</th>\n",
       "      <td>23723.029370</td>\n",
       "      <td>18.966905</td>\n",
       "      <td>1903.202296</td>\n",
       "      <td>0.475279</td>\n",
       "      <td>0.477443</td>\n",
       "      <td>28.229083</td>\n",
       "      <td>23.981160</td>\n",
       "      <td>48.113109</td>\n",
       "      <td>47.114542</td>\n",
       "      <td>36352.659498</td>\n",
       "      <td>46.477292</td>\n",
       "    </tr>\n",
       "    <tr>\n",
       "      <th>std</th>\n",
       "      <td>32826.064794</td>\n",
       "      <td>16.835492</td>\n",
       "      <td>2797.823205</td>\n",
       "      <td>0.160516</td>\n",
       "      <td>0.160835</td>\n",
       "      <td>14.149550</td>\n",
       "      <td>17.537044</td>\n",
       "      <td>27.735626</td>\n",
       "      <td>23.288723</td>\n",
       "      <td>18059.003796</td>\n",
       "      <td>16.273498</td>\n",
       "    </tr>\n",
       "    <tr>\n",
       "      <th>min</th>\n",
       "      <td>558.000000</td>\n",
       "      <td>0.900000</td>\n",
       "      <td>0.000000</td>\n",
       "      <td>0.000000</td>\n",
       "      <td>0.000000</td>\n",
       "      <td>11.200000</td>\n",
       "      <td>6.800000</td>\n",
       "      <td>1.700000</td>\n",
       "      <td>13.100000</td>\n",
       "      <td>2178.000000</td>\n",
       "      <td>34.400000</td>\n",
       "    </tr>\n",
       "    <tr>\n",
       "      <th>25%</th>\n",
       "      <td>10262.000000</td>\n",
       "      <td>12.375000</td>\n",
       "      <td>4.000000</td>\n",
       "      <td>0.410000</td>\n",
       "      <td>0.410000</td>\n",
       "      <td>18.300000</td>\n",
       "      <td>11.600000</td>\n",
       "      <td>23.375000</td>\n",
       "      <td>27.475000</td>\n",
       "      <td>17287.000000</td>\n",
       "      <td>35.775000</td>\n",
       "    </tr>\n",
       "    <tr>\n",
       "      <th>50%</th>\n",
       "      <td>17832.500000</td>\n",
       "      <td>16.350000</td>\n",
       "      <td>657.500000</td>\n",
       "      <td>0.520000</td>\n",
       "      <td>0.470000</td>\n",
       "      <td>23.800000</td>\n",
       "      <td>18.000000</td>\n",
       "      <td>45.650000</td>\n",
       "      <td>43.100000</td>\n",
       "      <td>41380.000000</td>\n",
       "      <td>39.400000</td>\n",
       "    </tr>\n",
       "    <tr>\n",
       "      <th>75%</th>\n",
       "      <td>29434.000000</td>\n",
       "      <td>21.900000</td>\n",
       "      <td>2883.250000</td>\n",
       "      <td>0.570000</td>\n",
       "      <td>0.560000</td>\n",
       "      <td>33.600000</td>\n",
       "      <td>30.100000</td>\n",
       "      <td>71.950000</td>\n",
       "      <td>62.800000</td>\n",
       "      <td>48698.000000</td>\n",
       "      <td>49.825000</td>\n",
       "    </tr>\n",
       "    <tr>\n",
       "      <th>max</th>\n",
       "      <td>830104.000000</td>\n",
       "      <td>493.500000</td>\n",
       "      <td>21797.000000</td>\n",
       "      <td>1.000000</td>\n",
       "      <td>1.000000</td>\n",
       "      <td>92.800000</td>\n",
       "      <td>99.600000</td>\n",
       "      <td>100.000000</td>\n",
       "      <td>99.700000</td>\n",
       "      <td>110261.000000</td>\n",
       "      <td>100.000000</td>\n",
       "    </tr>\n",
       "  </tbody>\n",
       "</table>\n",
       "</div>"
      ],
      "text/plain": [
       "       Number_students  Numb_students_per_Staff  International_Students  \\\n",
       "count      1396.000000              1396.000000             1394.000000   \n",
       "mean      23723.029370                18.966905             1903.202296   \n",
       "std       32826.064794                16.835492             2797.823205   \n",
       "min         558.000000                 0.900000                0.000000   \n",
       "25%       10262.000000                12.375000                4.000000   \n",
       "50%       17832.500000                16.350000              657.500000   \n",
       "75%       29434.000000                21.900000             2883.250000   \n",
       "max      830104.000000               493.500000            21797.000000   \n",
       "\n",
       "       Percentage_Female  Percentage_Male     Teaching     Research  \\\n",
       "count        1396.000000      1396.000000  1396.000000  1396.000000   \n",
       "mean            0.475279         0.477443    28.229083    23.981160   \n",
       "std             0.160516         0.160835    14.149550    17.537044   \n",
       "min             0.000000         0.000000    11.200000     6.800000   \n",
       "25%             0.410000         0.410000    18.300000    11.600000   \n",
       "50%             0.520000         0.470000    23.800000    18.000000   \n",
       "75%             0.570000         0.560000    33.600000    30.100000   \n",
       "max             1.000000         1.000000    92.800000    99.600000   \n",
       "\n",
       "         Citations  International_Outlook            GDP  Industry_Income  \n",
       "count  1396.000000            1396.000000    1395.000000      1396.000000  \n",
       "mean     48.113109              47.114542   36352.659498        46.477292  \n",
       "std      27.735626              23.288723   18059.003796        16.273498  \n",
       "min       1.700000              13.100000    2178.000000        34.400000  \n",
       "25%      23.375000              27.475000   17287.000000        35.775000  \n",
       "50%      45.650000              43.100000   41380.000000        39.400000  \n",
       "75%      71.950000              62.800000   48698.000000        49.825000  \n",
       "max     100.000000              99.700000  110261.000000       100.000000  "
      ]
     },
     "execution_count": 19,
     "metadata": {},
     "output_type": "execute_result"
    }
   ],
   "source": [
    "df.describe()"
   ]
  },
  {
   "cell_type": "markdown",
   "metadata": {},
   "source": [
    "## Выбросы"
   ]
  },
  {
   "cell_type": "markdown",
   "metadata": {},
   "source": [
    "Совсем нетипичные данные будут только мешать, поэтому удалим объекты, где количество студентов выше, чем 100000, а также, где количесвто иностранных студентов выше, чем 10000. Видим, что было удалено всего лишь 40 университетов. Это немного, если сравнивать с общим количеством. "
   ]
  },
  {
   "cell_type": "code",
   "execution_count": 20,
   "metadata": {},
   "outputs": [
    {
     "data": {
      "text/html": [
       "<div>\n",
       "<style scoped>\n",
       "    .dataframe tbody tr th:only-of-type {\n",
       "        vertical-align: middle;\n",
       "    }\n",
       "\n",
       "    .dataframe tbody tr th {\n",
       "        vertical-align: top;\n",
       "    }\n",
       "\n",
       "    .dataframe thead th {\n",
       "        text-align: right;\n",
       "    }\n",
       "</style>\n",
       "<table border=\"1\" class=\"dataframe\">\n",
       "  <thead>\n",
       "    <tr style=\"text-align: right;\">\n",
       "      <th></th>\n",
       "      <th>Number_students</th>\n",
       "      <th>Numb_students_per_Staff</th>\n",
       "      <th>International_Students</th>\n",
       "      <th>Percentage_Female</th>\n",
       "      <th>Percentage_Male</th>\n",
       "      <th>Teaching</th>\n",
       "      <th>Research</th>\n",
       "      <th>Citations</th>\n",
       "      <th>International_Outlook</th>\n",
       "      <th>GDP</th>\n",
       "      <th>Industry_Income</th>\n",
       "    </tr>\n",
       "  </thead>\n",
       "  <tbody>\n",
       "    <tr>\n",
       "      <th>count</th>\n",
       "      <td>1356.000000</td>\n",
       "      <td>1356.000000</td>\n",
       "      <td>1354.000000</td>\n",
       "      <td>1356.000000</td>\n",
       "      <td>1356.000000</td>\n",
       "      <td>1356.000000</td>\n",
       "      <td>1356.000000</td>\n",
       "      <td>1356.000000</td>\n",
       "      <td>1356.000000</td>\n",
       "      <td>1355.000000</td>\n",
       "      <td>1356.000000</td>\n",
       "    </tr>\n",
       "    <tr>\n",
       "      <th>mean</th>\n",
       "      <td>20786.775811</td>\n",
       "      <td>18.301622</td>\n",
       "      <td>1716.901773</td>\n",
       "      <td>0.474130</td>\n",
       "      <td>0.477935</td>\n",
       "      <td>27.989602</td>\n",
       "      <td>23.609513</td>\n",
       "      <td>47.877729</td>\n",
       "      <td>46.694543</td>\n",
       "      <td>36491.912177</td>\n",
       "      <td>46.445133</td>\n",
       "    </tr>\n",
       "    <tr>\n",
       "      <th>std</th>\n",
       "      <td>14584.730967</td>\n",
       "      <td>10.203205</td>\n",
       "      <td>2310.899676</td>\n",
       "      <td>0.161705</td>\n",
       "      <td>0.162269</td>\n",
       "      <td>13.805243</td>\n",
       "      <td>17.001762</td>\n",
       "      <td>27.574358</td>\n",
       "      <td>23.085085</td>\n",
       "      <td>18050.941259</td>\n",
       "      <td>16.251138</td>\n",
       "    </tr>\n",
       "    <tr>\n",
       "      <th>min</th>\n",
       "      <td>558.000000</td>\n",
       "      <td>0.900000</td>\n",
       "      <td>0.000000</td>\n",
       "      <td>0.000000</td>\n",
       "      <td>0.000000</td>\n",
       "      <td>11.200000</td>\n",
       "      <td>6.800000</td>\n",
       "      <td>1.700000</td>\n",
       "      <td>13.100000</td>\n",
       "      <td>2178.000000</td>\n",
       "      <td>34.400000</td>\n",
       "    </tr>\n",
       "    <tr>\n",
       "      <th>25%</th>\n",
       "      <td>10022.500000</td>\n",
       "      <td>12.275000</td>\n",
       "      <td>4.000000</td>\n",
       "      <td>0.400000</td>\n",
       "      <td>0.410000</td>\n",
       "      <td>18.375000</td>\n",
       "      <td>11.600000</td>\n",
       "      <td>23.300000</td>\n",
       "      <td>27.100000</td>\n",
       "      <td>17287.000000</td>\n",
       "      <td>35.800000</td>\n",
       "    </tr>\n",
       "    <tr>\n",
       "      <th>50%</th>\n",
       "      <td>17366.000000</td>\n",
       "      <td>16.250000</td>\n",
       "      <td>624.500000</td>\n",
       "      <td>0.520000</td>\n",
       "      <td>0.470000</td>\n",
       "      <td>23.800000</td>\n",
       "      <td>17.900000</td>\n",
       "      <td>45.500000</td>\n",
       "      <td>42.600000</td>\n",
       "      <td>41380.000000</td>\n",
       "      <td>39.400000</td>\n",
       "    </tr>\n",
       "    <tr>\n",
       "      <th>75%</th>\n",
       "      <td>28334.500000</td>\n",
       "      <td>21.600000</td>\n",
       "      <td>2734.000000</td>\n",
       "      <td>0.572500</td>\n",
       "      <td>0.560000</td>\n",
       "      <td>33.225000</td>\n",
       "      <td>29.825000</td>\n",
       "      <td>71.200000</td>\n",
       "      <td>62.100000</td>\n",
       "      <td>50268.500000</td>\n",
       "      <td>49.750000</td>\n",
       "    </tr>\n",
       "    <tr>\n",
       "      <th>max</th>\n",
       "      <td>97843.000000</td>\n",
       "      <td>108.800000</td>\n",
       "      <td>9837.000000</td>\n",
       "      <td>1.000000</td>\n",
       "      <td>1.000000</td>\n",
       "      <td>92.800000</td>\n",
       "      <td>99.600000</td>\n",
       "      <td>100.000000</td>\n",
       "      <td>99.700000</td>\n",
       "      <td>110261.000000</td>\n",
       "      <td>100.000000</td>\n",
       "    </tr>\n",
       "  </tbody>\n",
       "</table>\n",
       "</div>"
      ],
      "text/plain": [
       "       Number_students  Numb_students_per_Staff  International_Students  \\\n",
       "count      1356.000000              1356.000000             1354.000000   \n",
       "mean      20786.775811                18.301622             1716.901773   \n",
       "std       14584.730967                10.203205             2310.899676   \n",
       "min         558.000000                 0.900000                0.000000   \n",
       "25%       10022.500000                12.275000                4.000000   \n",
       "50%       17366.000000                16.250000              624.500000   \n",
       "75%       28334.500000                21.600000             2734.000000   \n",
       "max       97843.000000               108.800000             9837.000000   \n",
       "\n",
       "       Percentage_Female  Percentage_Male     Teaching     Research  \\\n",
       "count        1356.000000      1356.000000  1356.000000  1356.000000   \n",
       "mean            0.474130         0.477935    27.989602    23.609513   \n",
       "std             0.161705         0.162269    13.805243    17.001762   \n",
       "min             0.000000         0.000000    11.200000     6.800000   \n",
       "25%             0.400000         0.410000    18.375000    11.600000   \n",
       "50%             0.520000         0.470000    23.800000    17.900000   \n",
       "75%             0.572500         0.560000    33.225000    29.825000   \n",
       "max             1.000000         1.000000    92.800000    99.600000   \n",
       "\n",
       "         Citations  International_Outlook            GDP  Industry_Income  \n",
       "count  1356.000000            1356.000000    1355.000000      1356.000000  \n",
       "mean     47.877729              46.694543   36491.912177        46.445133  \n",
       "std      27.574358              23.085085   18050.941259        16.251138  \n",
       "min       1.700000              13.100000    2178.000000        34.400000  \n",
       "25%      23.300000              27.100000   17287.000000        35.800000  \n",
       "50%      45.500000              42.600000   41380.000000        39.400000  \n",
       "75%      71.200000              62.100000   50268.500000        49.750000  \n",
       "max     100.000000              99.700000  110261.000000       100.000000  "
      ]
     },
     "execution_count": 20,
     "metadata": {},
     "output_type": "execute_result"
    }
   ],
   "source": [
    "df = df.drop(df[df.Number_students > 100000].index)\n",
    "df = df.drop(df[df.International_Students > 10000].index)\n",
    "df.describe()"
   ]
  },
  {
   "cell_type": "markdown",
   "metadata": {},
   "source": [
    "Визуализируем данные по количеству студентов, по количеству иностранных студентов и по ВВП."
   ]
  },
  {
   "cell_type": "code",
   "execution_count": 21,
   "metadata": {},
   "outputs": [
    {
     "data": {
      "text/plain": [
       "<AxesSubplot:ylabel='Frequency'>"
      ]
     },
     "execution_count": 21,
     "metadata": {},
     "output_type": "execute_result"
    },
    {
     "data": {
      "image/png": "[encoded data removed]",
      "text/plain": [
       "<Figure size 432x288 with 1 Axes>"
      ]
     },
     "metadata": {
      "needs_background": "light"
     },
     "output_type": "display_data"
    }
   ],
   "source": [
    "df['Number_students'].plot(kind = 'hist')"
   ]
  },
  {
   "cell_type": "code",
   "execution_count": 22,
   "metadata": {},
   "outputs": [
    {
     "data": {
      "text/plain": [
       "<AxesSubplot:ylabel='Frequency'>"
      ]
     },
     "execution_count": 22,
     "metadata": {},
     "output_type": "execute_result"
    },
    {
     "data": {
      "image/png": "[encoded data removed]",
      "text/plain": [
       "<Figure size 432x288 with 1 Axes>"
      ]
     },
     "metadata": {
      "needs_background": "light"
     },
     "output_type": "display_data"
    }
   ],
   "source": [
    "df['International_Students'].plot(kind = 'hist')"
   ]
  },
  {
   "cell_type": "code",
   "execution_count": 23,
   "metadata": {},
   "outputs": [
    {
     "data": {
      "text/plain": [
       "<AxesSubplot:ylabel='Frequency'>"
      ]
     },
     "execution_count": 23,
     "metadata": {},
     "output_type": "execute_result"
    },
    {
     "data": {
      "image/png": "[encoded data removed]",
      "text/plain": [
       "<Figure size 432x288 with 1 Axes>"
      ]
     },
     "metadata": {
      "needs_background": "light"
     },
     "output_type": "display_data"
    }
   ],
   "source": [
    "df['GDP'].plot(kind = 'hist')"
   ]
  },
  {
   "cell_type": "markdown",
   "metadata": {},
   "source": [
    "## Пропуски"
   ]
  },
  {
   "cell_type": "markdown",
   "metadata": {},
   "source": [
    "Проверим данные на наличие пропусков."
   ]
  },
  {
   "cell_type": "code",
   "execution_count": 24,
   "metadata": {},
   "outputs": [
    {
     "data": {
      "text/html": [
       "<div>\n",
       "<style scoped>\n",
       "    .dataframe tbody tr th:only-of-type {\n",
       "        vertical-align: middle;\n",
       "    }\n",
       "\n",
       "    .dataframe tbody tr th {\n",
       "        vertical-align: top;\n",
       "    }\n",
       "\n",
       "    .dataframe thead th {\n",
       "        text-align: right;\n",
       "    }\n",
       "</style>\n",
       "<table border=\"1\" class=\"dataframe\">\n",
       "  <thead>\n",
       "    <tr style=\"text-align: right;\">\n",
       "      <th></th>\n",
       "      <th>Total</th>\n",
       "      <th>Percent</th>\n",
       "    </tr>\n",
       "  </thead>\n",
       "  <tbody>\n",
       "    <tr>\n",
       "      <th>International_Students</th>\n",
       "      <td>2</td>\n",
       "      <td>0.001475</td>\n",
       "    </tr>\n",
       "    <tr>\n",
       "      <th>GDP</th>\n",
       "      <td>1</td>\n",
       "      <td>0.000737</td>\n",
       "    </tr>\n",
       "    <tr>\n",
       "      <th>Industry_Income</th>\n",
       "      <td>0</td>\n",
       "      <td>0.000000</td>\n",
       "    </tr>\n",
       "    <tr>\n",
       "      <th>International_Outlook</th>\n",
       "      <td>0</td>\n",
       "      <td>0.000000</td>\n",
       "    </tr>\n",
       "    <tr>\n",
       "      <th>Citations</th>\n",
       "      <td>0</td>\n",
       "      <td>0.000000</td>\n",
       "    </tr>\n",
       "    <tr>\n",
       "      <th>Research</th>\n",
       "      <td>0</td>\n",
       "      <td>0.000000</td>\n",
       "    </tr>\n",
       "    <tr>\n",
       "      <th>Teaching</th>\n",
       "      <td>0</td>\n",
       "      <td>0.000000</td>\n",
       "    </tr>\n",
       "    <tr>\n",
       "      <th>Percentage_Male</th>\n",
       "      <td>0</td>\n",
       "      <td>0.000000</td>\n",
       "    </tr>\n",
       "    <tr>\n",
       "      <th>Percentage_Female</th>\n",
       "      <td>0</td>\n",
       "      <td>0.000000</td>\n",
       "    </tr>\n",
       "    <tr>\n",
       "      <th>Numb_students_per_Staff</th>\n",
       "      <td>0</td>\n",
       "      <td>0.000000</td>\n",
       "    </tr>\n",
       "    <tr>\n",
       "      <th>Number_students</th>\n",
       "      <td>0</td>\n",
       "      <td>0.000000</td>\n",
       "    </tr>\n",
       "  </tbody>\n",
       "</table>\n",
       "</div>"
      ],
      "text/plain": [
       "                         Total   Percent\n",
       "International_Students       2  0.001475\n",
       "GDP                          1  0.000737\n",
       "Industry_Income              0  0.000000\n",
       "International_Outlook        0  0.000000\n",
       "Citations                    0  0.000000\n",
       "Research                     0  0.000000\n",
       "Teaching                     0  0.000000\n",
       "Percentage_Male              0  0.000000\n",
       "Percentage_Female            0  0.000000\n",
       "Numb_students_per_Staff      0  0.000000\n",
       "Number_students              0  0.000000"
      ]
     },
     "execution_count": 24,
     "metadata": {},
     "output_type": "execute_result"
    }
   ],
   "source": [
    "total = df.isnull().sum().sort_values(ascending=False)\n",
    "percent = (df.isnull().sum()/df.isnull().count()).sort_values(ascending=False)\n",
    "missing_data = pd.concat([total, percent], axis=1, keys=['Total', 'Percent'])\n",
    "missing_data"
   ]
  },
  {
   "cell_type": "markdown",
   "metadata": {},
   "source": [
    "Обнаружено 2 пропуска по иностранным студентам и 1 по ВВП. Заполним их средним значением по соответствующим категориям. Для этого пропишем функцию fill_missing_num."
   ]
  },
  {
   "cell_type": "code",
   "execution_count": 28,
   "metadata": {},
   "outputs": [],
   "source": [
    "def fill_missing_num(x):\n",
    "    num_var = list(x._get_numeric_data().columns)\n",
    "    for col_names in num_var:        \n",
    "        prep_med = SimpleImputer(missing_values=np.nan, strategy='mean')\n",
    "        prep_med.fit(x[num_var])\n",
    "        x[num_var] = prep_med.transform(x[num_var])\n",
    "    return(x)"
   ]
  },
  {
   "cell_type": "markdown",
   "metadata": {},
   "source": [
    "Применяем прописанную функцию для заполнения пропусков."
   ]
  },
  {
   "cell_type": "code",
   "execution_count": 29,
   "metadata": {},
   "outputs": [],
   "source": [
    "from sklearn.impute import SimpleImputer\n",
    "df = fill_missing_num(df)"
   ]
  },
  {
   "cell_type": "markdown",
   "metadata": {},
   "source": [
    "Проверим ещё раз на пропуски. Видим, что теперь их нет."
   ]
  },
  {
   "cell_type": "code",
   "execution_count": 30,
   "metadata": {},
   "outputs": [
    {
     "data": {
      "text/html": [
       "<div>\n",
       "<style scoped>\n",
       "    .dataframe tbody tr th:only-of-type {\n",
       "        vertical-align: middle;\n",
       "    }\n",
       "\n",
       "    .dataframe tbody tr th {\n",
       "        vertical-align: top;\n",
       "    }\n",
       "\n",
       "    .dataframe thead th {\n",
       "        text-align: right;\n",
       "    }\n",
       "</style>\n",
       "<table border=\"1\" class=\"dataframe\">\n",
       "  <thead>\n",
       "    <tr style=\"text-align: right;\">\n",
       "      <th></th>\n",
       "      <th>Total</th>\n",
       "      <th>Percent</th>\n",
       "    </tr>\n",
       "  </thead>\n",
       "  <tbody>\n",
       "    <tr>\n",
       "      <th>Industry_Income</th>\n",
       "      <td>0</td>\n",
       "      <td>0.0</td>\n",
       "    </tr>\n",
       "    <tr>\n",
       "      <th>GDP</th>\n",
       "      <td>0</td>\n",
       "      <td>0.0</td>\n",
       "    </tr>\n",
       "    <tr>\n",
       "      <th>International_Outlook</th>\n",
       "      <td>0</td>\n",
       "      <td>0.0</td>\n",
       "    </tr>\n",
       "    <tr>\n",
       "      <th>Citations</th>\n",
       "      <td>0</td>\n",
       "      <td>0.0</td>\n",
       "    </tr>\n",
       "    <tr>\n",
       "      <th>Research</th>\n",
       "      <td>0</td>\n",
       "      <td>0.0</td>\n",
       "    </tr>\n",
       "    <tr>\n",
       "      <th>Teaching</th>\n",
       "      <td>0</td>\n",
       "      <td>0.0</td>\n",
       "    </tr>\n",
       "    <tr>\n",
       "      <th>Percentage_Male</th>\n",
       "      <td>0</td>\n",
       "      <td>0.0</td>\n",
       "    </tr>\n",
       "    <tr>\n",
       "      <th>Percentage_Female</th>\n",
       "      <td>0</td>\n",
       "      <td>0.0</td>\n",
       "    </tr>\n",
       "    <tr>\n",
       "      <th>International_Students</th>\n",
       "      <td>0</td>\n",
       "      <td>0.0</td>\n",
       "    </tr>\n",
       "    <tr>\n",
       "      <th>Numb_students_per_Staff</th>\n",
       "      <td>0</td>\n",
       "      <td>0.0</td>\n",
       "    </tr>\n",
       "    <tr>\n",
       "      <th>Number_students</th>\n",
       "      <td>0</td>\n",
       "      <td>0.0</td>\n",
       "    </tr>\n",
       "  </tbody>\n",
       "</table>\n",
       "</div>"
      ],
      "text/plain": [
       "                         Total  Percent\n",
       "Industry_Income              0      0.0\n",
       "GDP                          0      0.0\n",
       "International_Outlook        0      0.0\n",
       "Citations                    0      0.0\n",
       "Research                     0      0.0\n",
       "Teaching                     0      0.0\n",
       "Percentage_Male              0      0.0\n",
       "Percentage_Female            0      0.0\n",
       "International_Students       0      0.0\n",
       "Numb_students_per_Staff      0      0.0\n",
       "Number_students              0      0.0"
      ]
     },
     "execution_count": 30,
     "metadata": {},
     "output_type": "execute_result"
    }
   ],
   "source": [
    "total = df.isnull().sum().sort_values(ascending=False)\n",
    "percent = (df.isnull().sum()/df.isnull().count()).sort_values(ascending=False)\n",
    "missing_data = pd.concat([total, percent], axis=1, keys=['Total', 'Percent'])\n",
    "missing_data"
   ]
  },
  {
   "cell_type": "markdown",
   "metadata": {},
   "source": [
    "## Корреляционная матрица"
   ]
  },
  {
   "cell_type": "markdown",
   "metadata": {},
   "source": [
    "Выводим матрицу корреляций, чтобы посмотреть на зависимости переменных."
   ]
  },
  {
   "cell_type": "code",
   "execution_count": 31,
   "metadata": {},
   "outputs": [
    {
     "data": {
      "image/png": "[encoded data removed]",
      "text/plain": [
       "<Figure size 864x648 with 2 Axes>"
      ]
     },
     "metadata": {
      "needs_background": "light"
     },
     "output_type": "display_data"
    }
   ],
   "source": [
    "import seaborn as sns\n",
    "corrmat = df.corr()\n",
    "f, ax = plt.subplots(figsize=(12, 9))\n",
    "sns.heatmap(corrmat, annot=True)\n",
    "plt.show()"
   ]
  },
  {
   "cell_type": "markdown",
   "metadata": {},
   "source": [
    "Видим, что исследования достаточно сильно коррелируют с преподаванием, а упоминания в иностранных источниках с цитированием, поэтому удалим их."
   ]
  },
  {
   "cell_type": "code",
   "execution_count": 32,
   "metadata": {
    "scrolled": true
   },
   "outputs": [
    {
     "data": {
      "text/html": [
       "<div>\n",
       "<style scoped>\n",
       "    .dataframe tbody tr th:only-of-type {\n",
       "        vertical-align: middle;\n",
       "    }\n",
       "\n",
       "    .dataframe tbody tr th {\n",
       "        vertical-align: top;\n",
       "    }\n",
       "\n",
       "    .dataframe thead th {\n",
       "        text-align: right;\n",
       "    }\n",
       "</style>\n",
       "<table border=\"1\" class=\"dataframe\">\n",
       "  <thead>\n",
       "    <tr style=\"text-align: right;\">\n",
       "      <th></th>\n",
       "      <th>Number_students</th>\n",
       "      <th>Numb_students_per_Staff</th>\n",
       "      <th>International_Students</th>\n",
       "      <th>Percentage_Female</th>\n",
       "      <th>Percentage_Male</th>\n",
       "      <th>Teaching</th>\n",
       "      <th>Citations</th>\n",
       "      <th>GDP</th>\n",
       "      <th>Industry_Income</th>\n",
       "    </tr>\n",
       "  </thead>\n",
       "  <tbody>\n",
       "    <tr>\n",
       "      <th>0</th>\n",
       "      <td>20664.0</td>\n",
       "      <td>11.2</td>\n",
       "      <td>8472.0</td>\n",
       "      <td>0.46</td>\n",
       "      <td>0.54</td>\n",
       "      <td>90.5</td>\n",
       "      <td>98.4</td>\n",
       "      <td>41627.0</td>\n",
       "      <td>65.5</td>\n",
       "    </tr>\n",
       "    <tr>\n",
       "      <th>1</th>\n",
       "      <td>2240.0</td>\n",
       "      <td>6.4</td>\n",
       "      <td>672.0</td>\n",
       "      <td>0.34</td>\n",
       "      <td>0.66</td>\n",
       "      <td>92.1</td>\n",
       "      <td>97.9</td>\n",
       "      <td>60236.0</td>\n",
       "      <td>88.0</td>\n",
       "    </tr>\n",
       "    <tr>\n",
       "      <th>2</th>\n",
       "      <td>18978.0</td>\n",
       "      <td>10.9</td>\n",
       "      <td>7022.0</td>\n",
       "      <td>0.47</td>\n",
       "      <td>0.53</td>\n",
       "      <td>91.4</td>\n",
       "      <td>95.8</td>\n",
       "      <td>41627.0</td>\n",
       "      <td>59.3</td>\n",
       "    </tr>\n",
       "    <tr>\n",
       "      <th>3</th>\n",
       "      <td>16135.0</td>\n",
       "      <td>7.3</td>\n",
       "      <td>3711.0</td>\n",
       "      <td>0.43</td>\n",
       "      <td>0.57</td>\n",
       "      <td>92.8</td>\n",
       "      <td>99.9</td>\n",
       "      <td>60236.0</td>\n",
       "      <td>66.2</td>\n",
       "    </tr>\n",
       "    <tr>\n",
       "      <th>4</th>\n",
       "      <td>11247.0</td>\n",
       "      <td>8.6</td>\n",
       "      <td>3824.0</td>\n",
       "      <td>0.39</td>\n",
       "      <td>0.61</td>\n",
       "      <td>90.5</td>\n",
       "      <td>99.5</td>\n",
       "      <td>60236.0</td>\n",
       "      <td>86.9</td>\n",
       "    </tr>\n",
       "  </tbody>\n",
       "</table>\n",
       "</div>"
      ],
      "text/plain": [
       "   Number_students  Numb_students_per_Staff  International_Students  \\\n",
       "0          20664.0                     11.2                  8472.0   \n",
       "1           2240.0                      6.4                   672.0   \n",
       "2          18978.0                     10.9                  7022.0   \n",
       "3          16135.0                      7.3                  3711.0   \n",
       "4          11247.0                      8.6                  3824.0   \n",
       "\n",
       "   Percentage_Female  Percentage_Male  Teaching  Citations      GDP  \\\n",
       "0               0.46             0.54      90.5       98.4  41627.0   \n",
       "1               0.34             0.66      92.1       97.9  60236.0   \n",
       "2               0.47             0.53      91.4       95.8  41627.0   \n",
       "3               0.43             0.57      92.8       99.9  60236.0   \n",
       "4               0.39             0.61      90.5       99.5  60236.0   \n",
       "\n",
       "   Industry_Income  \n",
       "0             65.5  \n",
       "1             88.0  \n",
       "2             59.3  \n",
       "3             66.2  \n",
       "4             86.9  "
      ]
     },
     "execution_count": 32,
     "metadata": {},
     "output_type": "execute_result"
    }
   ],
   "source": [
    "df = df.drop(['Research','International_Outlook'], axis='columns', inplace=False)\n",
    "df.head(5)"
   ]
  },
  {
   "cell_type": "markdown",
   "metadata": {},
   "source": [
    "## Экспорт датасета"
   ]
  },
  {
   "cell_type": "markdown",
   "metadata": {},
   "source": [
    "Сохраняем наш подготовленный датасет."
   ]
  },
  {
   "cell_type": "code",
   "execution_count": 33,
   "metadata": {},
   "outputs": [],
   "source": [
    "df.to_csv('University_prep.csv', sep=';', index=False)"
   ]
  }
 ],
 "metadata": {
  "kernelspec": {
   "display_name": "Python 3",
   "language": "python",
   "name": "python3"
  },
  "language_info": {
   "codemirror_mode": {
    "name": "ipython",
    "version": 3
   },
   "file_extension": ".py",
   "mimetype": "text/x-python",
   "name": "python",
   "nbconvert_exporter": "python",
   "pygments_lexer": "ipython3",
   "version": "3.8.5"
  }
 },
 "nbformat": 4,
 "nbformat_minor": 5
}
