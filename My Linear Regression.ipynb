{
 "cells": [
  {
   "cell_type": "markdown",
   "metadata": {},
   "source": [
    "## Импорт датасета"
   ]
  },
  {
   "cell_type": "markdown",
   "metadata": {},
   "source": [
    "Импортируем указанные библиотеки под сокращенным именем для удобства."
   ]
  },
  {
   "cell_type": "code",
   "execution_count": 5,
   "metadata": {},
   "outputs": [],
   "source": [
    "import numpy as np\n",
    "import matplotlib.pyplot as plt\n",
    "import pandas as pd"
   ]
  },
  {
   "cell_type": "markdown",
   "metadata": {},
   "source": [
    "Загружаем наш подготовленный датасет."
   ]
  },
  {
   "cell_type": "code",
   "execution_count": 6,
   "metadata": {},
   "outputs": [
    {
     "data": {
      "text/html": [
       "<div>\n",
       "<style scoped>\n",
       "    .dataframe tbody tr th:only-of-type {\n",
       "        vertical-align: middle;\n",
       "    }\n",
       "\n",
       "    .dataframe tbody tr th {\n",
       "        vertical-align: top;\n",
       "    }\n",
       "\n",
       "    .dataframe thead th {\n",
       "        text-align: right;\n",
       "    }\n",
       "</style>\n",
       "<table border=\"1\" class=\"dataframe\">\n",
       "  <thead>\n",
       "    <tr style=\"text-align: right;\">\n",
       "      <th></th>\n",
       "      <th>Number_students</th>\n",
       "      <th>Numb_students_per_Staff</th>\n",
       "      <th>International_Students</th>\n",
       "      <th>Percentage_Female</th>\n",
       "      <th>Percentage_Male</th>\n",
       "      <th>Teaching</th>\n",
       "      <th>Citations</th>\n",
       "      <th>GDP</th>\n",
       "      <th>Industry_Income</th>\n",
       "    </tr>\n",
       "  </thead>\n",
       "  <tbody>\n",
       "    <tr>\n",
       "      <th>0</th>\n",
       "      <td>20664.0</td>\n",
       "      <td>11.2</td>\n",
       "      <td>8472.0</td>\n",
       "      <td>0.46</td>\n",
       "      <td>0.54</td>\n",
       "      <td>90.5</td>\n",
       "      <td>98.4</td>\n",
       "      <td>41627.0</td>\n",
       "      <td>65.5</td>\n",
       "    </tr>\n",
       "    <tr>\n",
       "      <th>1</th>\n",
       "      <td>2240.0</td>\n",
       "      <td>6.4</td>\n",
       "      <td>672.0</td>\n",
       "      <td>0.34</td>\n",
       "      <td>0.66</td>\n",
       "      <td>92.1</td>\n",
       "      <td>97.9</td>\n",
       "      <td>60236.0</td>\n",
       "      <td>88.0</td>\n",
       "    </tr>\n",
       "    <tr>\n",
       "      <th>2</th>\n",
       "      <td>18978.0</td>\n",
       "      <td>10.9</td>\n",
       "      <td>7022.0</td>\n",
       "      <td>0.47</td>\n",
       "      <td>0.53</td>\n",
       "      <td>91.4</td>\n",
       "      <td>95.8</td>\n",
       "      <td>41627.0</td>\n",
       "      <td>59.3</td>\n",
       "    </tr>\n",
       "    <tr>\n",
       "      <th>3</th>\n",
       "      <td>16135.0</td>\n",
       "      <td>7.3</td>\n",
       "      <td>3711.0</td>\n",
       "      <td>0.43</td>\n",
       "      <td>0.57</td>\n",
       "      <td>92.8</td>\n",
       "      <td>99.9</td>\n",
       "      <td>60236.0</td>\n",
       "      <td>66.2</td>\n",
       "    </tr>\n",
       "    <tr>\n",
       "      <th>4</th>\n",
       "      <td>11247.0</td>\n",
       "      <td>8.6</td>\n",
       "      <td>3824.0</td>\n",
       "      <td>0.39</td>\n",
       "      <td>0.61</td>\n",
       "      <td>90.5</td>\n",
       "      <td>99.5</td>\n",
       "      <td>60236.0</td>\n",
       "      <td>86.9</td>\n",
       "    </tr>\n",
       "    <tr>\n",
       "      <th>...</th>\n",
       "      <td>...</td>\n",
       "      <td>...</td>\n",
       "      <td>...</td>\n",
       "      <td>...</td>\n",
       "      <td>...</td>\n",
       "      <td>...</td>\n",
       "      <td>...</td>\n",
       "      <td>...</td>\n",
       "      <td>...</td>\n",
       "    </tr>\n",
       "    <tr>\n",
       "      <th>1351</th>\n",
       "      <td>20174.0</td>\n",
       "      <td>17.8</td>\n",
       "      <td>0.0</td>\n",
       "      <td>0.55</td>\n",
       "      <td>0.45</td>\n",
       "      <td>16.2</td>\n",
       "      <td>6.1</td>\n",
       "      <td>14064.0</td>\n",
       "      <td>35.6</td>\n",
       "    </tr>\n",
       "    <tr>\n",
       "      <th>1352</th>\n",
       "      <td>34101.0</td>\n",
       "      <td>21.3</td>\n",
       "      <td>0.0</td>\n",
       "      <td>0.57</td>\n",
       "      <td>0.43</td>\n",
       "      <td>15.3</td>\n",
       "      <td>6.7</td>\n",
       "      <td>14064.0</td>\n",
       "      <td>35.1</td>\n",
       "    </tr>\n",
       "    <tr>\n",
       "      <th>1353</th>\n",
       "      <td>15236.0</td>\n",
       "      <td>11.1</td>\n",
       "      <td>3.0</td>\n",
       "      <td>0.63</td>\n",
       "      <td>0.37</td>\n",
       "      <td>17.0</td>\n",
       "      <td>4.5</td>\n",
       "      <td>28053.0</td>\n",
       "      <td>36.9</td>\n",
       "    </tr>\n",
       "    <tr>\n",
       "      <th>1354</th>\n",
       "      <td>17101.0</td>\n",
       "      <td>24.9</td>\n",
       "      <td>0.0</td>\n",
       "      <td>0.54</td>\n",
       "      <td>0.46</td>\n",
       "      <td>13.8</td>\n",
       "      <td>7.6</td>\n",
       "      <td>14064.0</td>\n",
       "      <td>35.0</td>\n",
       "    </tr>\n",
       "    <tr>\n",
       "      <th>1355</th>\n",
       "      <td>9285.0</td>\n",
       "      <td>25.6</td>\n",
       "      <td>2.0</td>\n",
       "      <td>0.12</td>\n",
       "      <td>0.88</td>\n",
       "      <td>15.2</td>\n",
       "      <td>3.4</td>\n",
       "      <td>41380.0</td>\n",
       "      <td>39.6</td>\n",
       "    </tr>\n",
       "  </tbody>\n",
       "</table>\n",
       "<p>1356 rows × 9 columns</p>\n",
       "</div>"
      ],
      "text/plain": [
       "      Number_students  Numb_students_per_Staff  International_Students  \\\n",
       "0             20664.0                     11.2                  8472.0   \n",
       "1              2240.0                      6.4                   672.0   \n",
       "2             18978.0                     10.9                  7022.0   \n",
       "3             16135.0                      7.3                  3711.0   \n",
       "4             11247.0                      8.6                  3824.0   \n",
       "...               ...                      ...                     ...   \n",
       "1351          20174.0                     17.8                     0.0   \n",
       "1352          34101.0                     21.3                     0.0   \n",
       "1353          15236.0                     11.1                     3.0   \n",
       "1354          17101.0                     24.9                     0.0   \n",
       "1355           9285.0                     25.6                     2.0   \n",
       "\n",
       "      Percentage_Female  Percentage_Male  Teaching  Citations      GDP  \\\n",
       "0                  0.46             0.54      90.5       98.4  41627.0   \n",
       "1                  0.34             0.66      92.1       97.9  60236.0   \n",
       "2                  0.47             0.53      91.4       95.8  41627.0   \n",
       "3                  0.43             0.57      92.8       99.9  60236.0   \n",
       "4                  0.39             0.61      90.5       99.5  60236.0   \n",
       "...                 ...              ...       ...        ...      ...   \n",
       "1351               0.55             0.45      16.2        6.1  14064.0   \n",
       "1352               0.57             0.43      15.3        6.7  14064.0   \n",
       "1353               0.63             0.37      17.0        4.5  28053.0   \n",
       "1354               0.54             0.46      13.8        7.6  14064.0   \n",
       "1355               0.12             0.88      15.2        3.4  41380.0   \n",
       "\n",
       "      Industry_Income  \n",
       "0                65.5  \n",
       "1                88.0  \n",
       "2                59.3  \n",
       "3                66.2  \n",
       "4                86.9  \n",
       "...               ...  \n",
       "1351             35.6  \n",
       "1352             35.1  \n",
       "1353             36.9  \n",
       "1354             35.0  \n",
       "1355             39.6  \n",
       "\n",
       "[1356 rows x 9 columns]"
      ]
     },
     "execution_count": 6,
     "metadata": {},
     "output_type": "execute_result"
    }
   ],
   "source": [
    "df = pd.read_csv('University_prep.csv', sep=';')\n",
    "df"
   ]
  },
  {
   "cell_type": "markdown",
   "metadata": {},
   "source": [
    "## Корреляционная матрица"
   ]
  },
  {
   "cell_type": "markdown",
   "metadata": {},
   "source": [
    "Снова выведем эту матрицу, но уже с удалёнными переременными."
   ]
  },
  {
   "cell_type": "code",
   "execution_count": 7,
   "metadata": {},
   "outputs": [
    {
     "data": {
      "image/png": "[encoded data removed]",
      "text/plain": [
       "<Figure size 864x648 with 2 Axes>"
      ]
     },
     "metadata": {
      "needs_background": "light"
     },
     "output_type": "display_data"
    }
   ],
   "source": [
    "import seaborn as sns\n",
    "corrmat = df.corr()\n",
    "f, ax = plt.subplots(figsize=(12, 9))\n",
    "sns.heatmap(corrmat, annot=True)\n",
    "plt.show()"
   ]
  },
  {
   "cell_type": "markdown",
   "metadata": {},
   "source": [
    "## Разбиение"
   ]
  },
  {
   "cell_type": "markdown",
   "metadata": {},
   "source": [
    "Поделим датасет на обучающую train (80%) и тестовую test (20%) выборки. В Х запишем все переменные, кроме зависимой. У нас таковой является доход (Industry_Income). Его мы запишем в Y."
   ]
  },
  {
   "cell_type": "code",
   "execution_count": 8,
   "metadata": {},
   "outputs": [],
   "source": [
    "X = df.iloc[:, :-1]\n",
    "y = df['Industry_Income']\n",
    "from sklearn.model_selection import train_test_split\n",
    "X_train, X_test, y_train, y_test = train_test_split(X, y, test_size=0.2, random_state=10)"
   ]
  },
  {
   "cell_type": "markdown",
   "metadata": {},
   "source": [
    "## Простая линейная регрессия"
   ]
  },
  {
   "cell_type": "markdown",
   "metadata": {},
   "source": [
    "Преподавание(Teaching) имеет самое сильное влияние на Industry_Income (см. Корреляционную матрицу), поэтому его мы и будем использовать для простой линейной регрессии."
   ]
  },
  {
   "cell_type": "code",
   "execution_count": 9,
   "metadata": {},
   "outputs": [
    {
     "data": {
      "text/plain": [
       "(array([0.50357519]), 32.30548865484572)"
      ]
     },
     "execution_count": 9,
     "metadata": {},
     "output_type": "execute_result"
    }
   ],
   "source": [
    "f1 = ['Teaching']\n",
    "\n",
    "from sklearn.linear_model import LinearRegression\n",
    "sr = LinearRegression().fit(X_train[f1], y_train)\n",
    "\n",
    "sr.coef_, sr.intercept_"
   ]
  },
  {
   "cell_type": "markdown",
   "metadata": {},
   "source": [
    "Прогнозируем данные для тестовой выборки.Вычисляем коэффициент детерминации. Видим, что он достаточно низкий. Хотя пока рано что-либо конкретно говорить, так как не с чем сравнивать."
   ]
  },
  {
   "cell_type": "code",
   "execution_count": 10,
   "metadata": {},
   "outputs": [
    {
     "data": {
      "text/plain": [
       "0.187"
      ]
     },
     "execution_count": 10,
     "metadata": {},
     "output_type": "execute_result"
    }
   ],
   "source": [
    "y_pred = sr.predict(X_test[f1])\n",
    "\n",
    "sr.score(X_train[f1], y_train).round(3)"
   ]
  },
  {
   "cell_type": "markdown",
   "metadata": {},
   "source": [
    "Теперь находим среднеквадратические ошибки для обучающей и тестовой выборки. Модель немного переобучена, но не критично."
   ]
  },
  {
   "cell_type": "code",
   "execution_count": 11,
   "metadata": {},
   "outputs": [
    {
     "data": {
      "text/plain": [
       "(14.57, 14.65)"
      ]
     },
     "execution_count": 11,
     "metadata": {},
     "output_type": "execute_result"
    }
   ],
   "source": [
    " from sklearn.metrics import mean_squared_error\n",
    "mean_squared_error(y_train, sr.predict(X_train[f1]), squared=False).round(2), mean_squared_error(y_test, y_pred, squared=False).round(2)"
   ]
  },
  {
   "cell_type": "markdown",
   "metadata": {},
   "source": [
    "Визуализируем результат. Видим, что модель плохо описывает данные. Вывод пока один-проводим исследование дальше."
   ]
  },
  {
   "cell_type": "code",
   "execution_count": 12,
   "metadata": {},
   "outputs": [
    {
     "data": {
      "image/png": "[encoded data removed]",
      "text/plain": [
       "<Figure size 432x288 with 1 Axes>"
      ]
     },
     "metadata": {
      "needs_background": "light"
     },
     "output_type": "display_data"
    }
   ],
   "source": [
    "plt.scatter(X_test['Teaching'], y_test, color = 'purple')\n",
    "plt.plot(X_test['Teaching'], sr.predict(X_test[f1]), 'yo')\n",
    "plt.title('Industry_Income vs Teaching (Test set)')\n",
    "plt.xlabel('Teaching')\n",
    "plt.ylabel('Industry_Income')\n",
    "plt.show()"
   ]
  },
  {
   "cell_type": "markdown",
   "metadata": {},
   "source": [
    "### Промежуточный вывод: ожидаемо, что простая линейная регрессия плохо объясняет наши данные (18%), но отмечу, что эта модель наименее переобучена. Строили мы её исходя из того, что на доход влияет преподавание. Я считаю, что эта модель слишком простая для нашего исследования."
   ]
  },
  {
   "cell_type": "markdown",
   "metadata": {},
   "source": [
    "## Множественная линейная регрессия"
   ]
  },
  {
   "cell_type": "markdown",
   "metadata": {},
   "source": [
    "!pip install statsmodels"
   ]
  },
  {
   "cell_type": "markdown",
   "metadata": {},
   "source": [
    "Пробуем построить множественную линейную регрессию.Коєффициент детерминации увеличился на 10%, что является позитивным моментом."
   ]
  },
  {
   "cell_type": "code",
   "execution_count": 16,
   "metadata": {},
   "outputs": [
    {
     "data": {
      "text/plain": [
       "0.288"
      ]
     },
     "execution_count": 16,
     "metadata": {},
     "output_type": "execute_result"
    }
   ],
   "source": [
    "mr = LinearRegression().fit(X_train, y_train)\n",
    "\n",
    "mr.score(X_train, y_train).round(3)"
   ]
  },
  {
   "cell_type": "markdown",
   "metadata": {},
   "source": [
    "Визуализируем результат. Модель уже лучше описывает данные."
   ]
  },
  {
   "cell_type": "code",
   "execution_count": 17,
   "metadata": {},
   "outputs": [
    {
     "data": {
      "image/png": "[encoded data removed]",
      "text/plain": [
       "<Figure size 432x288 with 1 Axes>"
      ]
     },
     "metadata": {
      "needs_background": "light"
     },
     "output_type": "display_data"
    }
   ],
   "source": [
    "plt.scatter(X_test['Teaching'], y_test, color = 'purple')\n",
    "plt.plot(X_test['Teaching'], mr.predict(X_test), 'yo')\n",
    "plt.title('Industry_Income vs Teaching (Test set)')\n",
    "plt.xlabel('Teaching')\n",
    "plt.ylabel('Industry_Income')\n",
    "plt.show()"
   ]
  },
  {
   "cell_type": "markdown",
   "metadata": {},
   "source": [
    "## p-values"
   ]
  },
  {
   "cell_type": "markdown",
   "metadata": {},
   "source": [
    "С помощью данной операции выбираем наиболее значимые для нас переменные."
   ]
  },
  {
   "cell_type": "code",
   "execution_count": 18,
   "metadata": {},
   "outputs": [
    {
     "data": {
      "text/html": [
       "<table class=\"simpletable\">\n",
       "<caption>OLS Regression Results</caption>\n",
       "<tr>\n",
       "  <th>Dep. Variable:</th>     <td>Industry_Income</td> <th>  R-squared:         </th> <td>   0.288</td>\n",
       "</tr>\n",
       "<tr>\n",
       "  <th>Model:</th>                   <td>OLS</td>       <th>  Adj. R-squared:    </th> <td>   0.283</td>\n",
       "</tr>\n",
       "<tr>\n",
       "  <th>Method:</th>             <td>Least Squares</td>  <th>  F-statistic:       </th> <td>   54.33</td>\n",
       "</tr>\n",
       "<tr>\n",
       "  <th>Date:</th>             <td>Wed, 13 Oct 2021</td> <th>  Prob (F-statistic):</th> <td>3.51e-74</td>\n",
       "</tr>\n",
       "<tr>\n",
       "  <th>Time:</th>                 <td>20:12:38</td>     <th>  Log-Likelihood:    </th> <td> -4370.2</td>\n",
       "</tr>\n",
       "<tr>\n",
       "  <th>No. Observations:</th>      <td>  1084</td>      <th>  AIC:               </th> <td>   8758.</td>\n",
       "</tr>\n",
       "<tr>\n",
       "  <th>Df Residuals:</th>          <td>  1075</td>      <th>  BIC:               </th> <td>   8803.</td>\n",
       "</tr>\n",
       "<tr>\n",
       "  <th>Df Model:</th>              <td>     8</td>      <th>                     </th>     <td> </td>   \n",
       "</tr>\n",
       "<tr>\n",
       "  <th>Covariance Type:</th>      <td>nonrobust</td>    <th>                     </th>     <td> </td>   \n",
       "</tr>\n",
       "</table>\n",
       "<table class=\"simpletable\">\n",
       "<tr>\n",
       "             <td></td>                <th>coef</th>     <th>std err</th>      <th>t</th>      <th>P>|t|</th>  <th>[0.025</th>    <th>0.975]</th>  \n",
       "</tr>\n",
       "<tr>\n",
       "  <th>const</th>                   <td>   40.8868</td> <td>    2.483</td> <td>   16.464</td> <td> 0.000</td> <td>   36.014</td> <td>   45.760</td>\n",
       "</tr>\n",
       "<tr>\n",
       "  <th>Number_students</th>         <td> -4.89e-05</td> <td> 3.24e-05</td> <td>   -1.508</td> <td> 0.132</td> <td>   -0.000</td> <td> 1.47e-05</td>\n",
       "</tr>\n",
       "<tr>\n",
       "  <th>Numb_students_per_Staff</th> <td>    0.2354</td> <td>    0.043</td> <td>    5.505</td> <td> 0.000</td> <td>    0.151</td> <td>    0.319</td>\n",
       "</tr>\n",
       "<tr>\n",
       "  <th>International_Students</th>  <td>    0.0001</td> <td>    0.000</td> <td>    0.475</td> <td> 0.635</td> <td>   -0.000</td> <td>    0.001</td>\n",
       "</tr>\n",
       "<tr>\n",
       "  <th>Percentage_Female</th>       <td>  -26.6425</td> <td>    2.630</td> <td>  -10.129</td> <td> 0.000</td> <td>  -31.804</td> <td>  -21.481</td>\n",
       "</tr>\n",
       "<tr>\n",
       "  <th>Percentage_Male</th>         <td>    5.6066</td> <td>    2.606</td> <td>    2.151</td> <td> 0.032</td> <td>    0.493</td> <td>   10.720</td>\n",
       "</tr>\n",
       "<tr>\n",
       "  <th>Teaching</th>                <td>    0.5353</td> <td>    0.040</td> <td>   13.253</td> <td> 0.000</td> <td>    0.456</td> <td>    0.615</td>\n",
       "</tr>\n",
       "<tr>\n",
       "  <th>Citations</th>               <td>   -0.0247</td> <td>    0.021</td> <td>   -1.191</td> <td> 0.234</td> <td>   -0.065</td> <td>    0.016</td>\n",
       "</tr>\n",
       "<tr>\n",
       "  <th>GDP</th>                     <td>-5.148e-05</td> <td> 2.86e-05</td> <td>   -1.802</td> <td> 0.072</td> <td>   -0.000</td> <td> 4.59e-06</td>\n",
       "</tr>\n",
       "</table>\n",
       "<table class=\"simpletable\">\n",
       "<tr>\n",
       "  <th>Omnibus:</th>       <td>316.728</td> <th>  Durbin-Watson:     </th> <td>   2.013</td> \n",
       "</tr>\n",
       "<tr>\n",
       "  <th>Prob(Omnibus):</th> <td> 0.000</td>  <th>  Jarque-Bera (JB):  </th> <td> 817.627</td> \n",
       "</tr>\n",
       "<tr>\n",
       "  <th>Skew:</th>          <td> 1.531</td>  <th>  Prob(JB):          </th> <td>2.85e-178</td>\n",
       "</tr>\n",
       "<tr>\n",
       "  <th>Kurtosis:</th>      <td> 5.954</td>  <th>  Cond. No.          </th> <td>3.71e+05</td> \n",
       "</tr>\n",
       "</table><br/><br/>Notes:<br/>[1] Standard Errors assume that the covariance matrix of the errors is correctly specified.<br/>[2] The condition number is large, 3.71e+05. This might indicate that there are<br/>strong multicollinearity or other numerical problems."
      ],
      "text/plain": [
       "<class 'statsmodels.iolib.summary.Summary'>\n",
       "\"\"\"\n",
       "                            OLS Regression Results                            \n",
       "==============================================================================\n",
       "Dep. Variable:        Industry_Income   R-squared:                       0.288\n",
       "Model:                            OLS   Adj. R-squared:                  0.283\n",
       "Method:                 Least Squares   F-statistic:                     54.33\n",
       "Date:                Wed, 13 Oct 2021   Prob (F-statistic):           3.51e-74\n",
       "Time:                        20:12:38   Log-Likelihood:                -4370.2\n",
       "No. Observations:                1084   AIC:                             8758.\n",
       "Df Residuals:                    1075   BIC:                             8803.\n",
       "Df Model:                           8                                         \n",
       "Covariance Type:            nonrobust                                         \n",
       "===========================================================================================\n",
       "                              coef    std err          t      P>|t|      [0.025      0.975]\n",
       "-------------------------------------------------------------------------------------------\n",
       "const                      40.8868      2.483     16.464      0.000      36.014      45.760\n",
       "Number_students          -4.89e-05   3.24e-05     -1.508      0.132      -0.000    1.47e-05\n",
       "Numb_students_per_Staff     0.2354      0.043      5.505      0.000       0.151       0.319\n",
       "International_Students      0.0001      0.000      0.475      0.635      -0.000       0.001\n",
       "Percentage_Female         -26.6425      2.630    -10.129      0.000     -31.804     -21.481\n",
       "Percentage_Male             5.6066      2.606      2.151      0.032       0.493      10.720\n",
       "Teaching                    0.5353      0.040     13.253      0.000       0.456       0.615\n",
       "Citations                  -0.0247      0.021     -1.191      0.234      -0.065       0.016\n",
       "GDP                     -5.148e-05   2.86e-05     -1.802      0.072      -0.000    4.59e-06\n",
       "==============================================================================\n",
       "Omnibus:                      316.728   Durbin-Watson:                   2.013\n",
       "Prob(Omnibus):                  0.000   Jarque-Bera (JB):              817.627\n",
       "Skew:                           1.531   Prob(JB):                    2.85e-178\n",
       "Kurtosis:                       5.954   Cond. No.                     3.71e+05\n",
       "==============================================================================\n",
       "\n",
       "Notes:\n",
       "[1] Standard Errors assume that the covariance matrix of the errors is correctly specified.\n",
       "[2] The condition number is large, 3.71e+05. This might indicate that there are\n",
       "strong multicollinearity or other numerical problems.\n",
       "\"\"\""
      ]
     },
     "execution_count": 18,
     "metadata": {},
     "output_type": "execute_result"
    }
   ],
   "source": [
    "import statsmodels.api as sm\n",
    "X1 = sm.add_constant(X_train)\n",
    "mr1 = sm.OLS(y_train, X1).fit()\n",
    "mr1.summary()"
   ]
  },
  {
   "cell_type": "markdown",
   "metadata": {},
   "source": [
    "Отобрали 5 наиболее значимых переменных-Numb_students_per_Staff,Percentage_Female,Percentage_Male,Teaching,GDP."
   ]
  },
  {
   "cell_type": "code",
   "execution_count": 23,
   "metadata": {},
   "outputs": [],
   "source": [
    "from sklearn.feature_selection import RFE\n",
    "n_features = X.shape[1]\n",
    "estimator = LinearRegression()\n",
    "selector = RFE(estimator, n_features_to_select = 5)\n",
    "selector = selector.fit(X, y)\n",
    "\n",
    "selected_columns=[]\n",
    "for i in range(n_features):\n",
    "    if selector.support_[i] == True:\n",
    "        selected_columns.append(i)\n",
    "        \n",
    "f_lm = []\n",
    "for column in selected_columns:\n",
    "    f_lm.append(X.columns[column])"
   ]
  },
  {
   "cell_type": "markdown",
   "metadata": {},
   "source": [
    "Получили оптимизированную множественную линейную регрессию."
   ]
  },
  {
   "cell_type": "code",
   "execution_count": 26,
   "metadata": {},
   "outputs": [
    {
     "data": {
      "text/plain": [
       "(array([  0.21926011, -27.23517961,   6.16604378,   0.52551413,\n",
       "         -0.03247066]),\n",
       " 39.15525926802718)"
      ]
     },
     "execution_count": 26,
     "metadata": {},
     "output_type": "execute_result"
    }
   ],
   "source": [
    "mr_rfe = LinearRegression().fit(X_train[f_lm], y_train)\n",
    "\n",
    "mr_rfe.coef_, mr_rfe.intercept_"
   ]
  },
  {
   "cell_type": "markdown",
   "metadata": {},
   "source": [
    "Ниже представлен коэффицент детерминации полученной модели."
   ]
  },
  {
   "cell_type": "code",
   "execution_count": 25,
   "metadata": {},
   "outputs": [
    {
     "data": {
      "text/plain": [
       "0.285"
      ]
     },
     "execution_count": 25,
     "metadata": {},
     "output_type": "execute_result"
    }
   ],
   "source": [
    "y_pred = mr_rfe.predict(X_test[f_lm])\n",
    "\n",
    "mr_rfe.score(X_train[f_lm], y_train).round(3)"
   ]
  },
  {
   "cell_type": "markdown",
   "metadata": {},
   "source": [
    "Среднеквадратическая ошибка по обучающей выборке снизилась, но увеличился и разрыв между двумя ошибками. Модель переобучена."
   ]
  },
  {
   "cell_type": "code",
   "execution_count": 27,
   "metadata": {},
   "outputs": [
    {
     "data": {
      "text/plain": [
       "(13.66, 14.72)"
      ]
     },
     "execution_count": 27,
     "metadata": {},
     "output_type": "execute_result"
    }
   ],
   "source": [
    "mean_squared_error(y_train, mr_rfe.predict(X_train[f_lm]), squared=False).round(2), mean_squared_error(y_test, y_pred, squared=False).round(2)"
   ]
  },
  {
   "cell_type": "markdown",
   "metadata": {},
   "source": [
    "И снова визуализация."
   ]
  },
  {
   "cell_type": "code",
   "execution_count": 28,
   "metadata": {},
   "outputs": [
    {
     "data": {
      "image/png": "[encoded data removed]",
      "text/plain": [
       "<Figure size 432x288 with 1 Axes>"
      ]
     },
     "metadata": {
      "needs_background": "light"
     },
     "output_type": "display_data"
    }
   ],
   "source": [
    "plt.scatter(X_test['Teaching'], y_test, color = 'purple')\n",
    "plt.plot(X_test['Teaching'], mr_rfe.predict(X_test[f_lm]), 'yo')\n",
    "plt.title('Industry_Income vs Teaching (Test set)')\n",
    "plt.xlabel('Teaching')\n",
    "plt.ylabel('Industry_Income')\n",
    "plt.show()"
   ]
  },
  {
   "cell_type": "markdown",
   "metadata": {},
   "source": [
    "## Backward Elimination"
   ]
  },
  {
   "cell_type": "markdown",
   "metadata": {},
   "source": [
    "Если у нас было бы слтшком много переменных, то метод ниже был бы спасением, так как он автоматически отбирает нужные переменные."
   ]
  },
  {
   "cell_type": "code",
   "execution_count": 29,
   "metadata": {},
   "outputs": [],
   "source": [
    "def backwardElimination(x, y, sl):\n",
    "    x = sm.add_constant(x)\n",
    "    numVars = x.shape[1]\n",
    "    for i in range(0, numVars):\n",
    "        regressor_OLS = sm.OLS(y, x).fit()\n",
    "        maxVar = max(regressor_OLS.pvalues)\n",
    "        if maxVar > sl:\n",
    "            for j in range(0, numVars - i):\n",
    "                if (regressor_OLS.pvalues[j] == maxVar):\n",
    "                    x = x.drop(x.columns[j], axis=1)\n",
    "    regressor_OLS.summary()\n",
    "    return x\n",
    "\n",
    "SL = 0.1\n",
    "X_Modeled = backwardElimination(X_train, y_train, SL)"
   ]
  },
  {
   "cell_type": "markdown",
   "metadata": {},
   "source": [
    "Получили такой же коэффициент детерминации."
   ]
  },
  {
   "cell_type": "code",
   "execution_count": 30,
   "metadata": {},
   "outputs": [
    {
     "data": {
      "text/plain": [
       "0.285"
      ]
     },
     "execution_count": 30,
     "metadata": {},
     "output_type": "execute_result"
    }
   ],
   "source": [
    "mr_be = LinearRegression().fit(X_Modeled, y_train)\n",
    "\n",
    "mr_be.score(X_Modeled, y_train).round(3)"
   ]
  },
  {
   "cell_type": "markdown",
   "metadata": {},
   "source": [
    "### Промежуточный вывод: множественная линейная регрессия была построена на 5 наиболее значимых переменных (Numb_students_per_Staff,Percentage_Female,Percentage_Male,Teaching,GDP), поэтому логично, что она уже лушче описывает наши данные, имеет коэффициент детеерминации выше аж на 10%, ниже среднеквадратические ошибки, но является более переобученной. "
   ]
  },
  {
   "cell_type": "markdown",
   "metadata": {},
   "source": [
    "!pip install statsmodels"
   ]
  },
  {
   "cell_type": "markdown",
   "metadata": {},
   "source": [
    "## Полиномиальная регрессия"
   ]
  },
  {
   "cell_type": "markdown",
   "metadata": {},
   "source": [
    "Пробуем ещё один тип регрессии."
   ]
  },
  {
   "cell_type": "code",
   "execution_count": 31,
   "metadata": {},
   "outputs": [
    {
     "data": {
      "text/plain": [
       "(array([-2.86260876e+05,  1.34627393e-03, -3.98762432e-02, -1.69599072e-03,\n",
       "        -1.12847558e+01, -1.81968545e+01,  5.90589504e-01, -4.06535906e-01,\n",
       "         7.89714026e-04, -7.02145709e-09, -3.45231806e-06,  8.24333210e-08,\n",
       "        -1.29070149e-03,  4.74769556e-04, -3.75929133e-06, -5.51135938e-06,\n",
       "        -8.88357231e-09, -6.98197006e-03, -2.57973860e-05,  8.11954891e-02,\n",
       "         2.20025415e-01,  2.18177785e-02,  4.42081256e-03, -4.73048299e-06,\n",
       "        -4.39210533e-07,  3.35624339e-03,  4.77344031e-03, -1.09718093e-05,\n",
       "        -1.58553835e-05,  2.38546929e-08,  6.81973502e+00, -1.81044883e+01,\n",
       "        -8.56031197e-01,  3.24743723e-01,  9.75696168e-05, -9.23649372e-02,\n",
       "         9.51909335e-01,  9.61966799e-02, -5.36270942e-04, -7.79348998e-03,\n",
       "         8.15508598e-03, -4.03591894e-06,  2.44067936e-03, -6.90640372e-06,\n",
       "         4.31283328e-11]),\n",
       " 286287.922914329)"
      ]
     },
     "execution_count": 31,
     "metadata": {},
     "output_type": "execute_result"
    }
   ],
   "source": [
    "from sklearn.preprocessing import PolynomialFeatures\n",
    "X_train_p = PolynomialFeatures().fit_transform(X_train)\n",
    "X_test_p = PolynomialFeatures().fit_transform(X_test)\n",
    "\n",
    "pr = LinearRegression().fit(X_train_p, y_train)\n",
    "\n",
    "pr.coef_, pr.intercept_"
   ]
  },
  {
   "cell_type": "markdown",
   "metadata": {},
   "source": [
    "Удалось увеличить коэффициет детерминации."
   ]
  },
  {
   "cell_type": "code",
   "execution_count": 33,
   "metadata": {},
   "outputs": [
    {
     "data": {
      "text/plain": [
       "0.36"
      ]
     },
     "execution_count": 33,
     "metadata": {},
     "output_type": "execute_result"
    }
   ],
   "source": [
    "y_pred = pr.predict(X_test_p)\n",
    "\n",
    "pr.score(X_train_p, y_train).round(3)"
   ]
  },
  {
   "cell_type": "markdown",
   "metadata": {},
   "source": [
    "Модель стала более переобученной, но среднеквадратическая ошибка по обучающей выборке ещё немного снизилась."
   ]
  },
  {
   "cell_type": "code",
   "execution_count": 34,
   "metadata": {},
   "outputs": [
    {
     "data": {
      "text/plain": [
       "(12.92, 15.26)"
      ]
     },
     "execution_count": 34,
     "metadata": {},
     "output_type": "execute_result"
    }
   ],
   "source": [
    "mean_squared_error(y_train, pr.predict(X_train_p), squared=False).round(2), mean_squared_error(y_test, y_pred, squared=False).round(2)"
   ]
  },
  {
   "cell_type": "markdown",
   "metadata": {},
   "source": [
    "Визуализация."
   ]
  },
  {
   "cell_type": "code",
   "execution_count": 35,
   "metadata": {},
   "outputs": [
    {
     "data": {
      "image/png": "[encoded data removed]",
      "text/plain": [
       "<Figure size 432x288 with 1 Axes>"
      ]
     },
     "metadata": {
      "needs_background": "light"
     },
     "output_type": "display_data"
    }
   ],
   "source": [
    "plt.scatter(X_test['Teaching'], y_test, color = 'purple')\n",
    "plt.plot(X_test['Teaching'], pr.predict(X_test_p), 'yo')\n",
    "plt.title('Industry_Income vs Teaching (Test set)')\n",
    "plt.xlabel('Teaching')\n",
    "plt.ylabel('Industry_Income')\n",
    "plt.show()"
   ]
  },
  {
   "cell_type": "markdown",
   "metadata": {},
   "source": [
    "### Промежуточный вывод: полиномиальная регрессия пока выглядит самой привлекательной для нашего исследования, так как имеет самый высокий коэффициент детерминации и самую низкую среднеквадратическую ошибку на обучающей выборке. Да, я знаю, что далеко не всегда большие датасеты требуют сложных моделей, но мне кажется, что в нашем случае необходимы более интересные методы, чем те, что были рассмотрены выше."
   ]
  },
  {
   "cell_type": "markdown",
   "metadata": {},
   "source": [
    "## Консервирование"
   ]
  },
  {
   "cell_type": "code",
   "execution_count": 37,
   "metadata": {},
   "outputs": [],
   "source": [
    "import pickle\n",
    "obj = {'X_train': X_train, 'X_test': X_test,'y_train': y_train,'y_test': y_test}\n",
    "output = open('data_reg.pkl', 'wb')\n",
    "pickle.dump(obj, output, 2)\n",
    "output.close()"
   ]
  }
 ],
 "metadata": {
  "kernelspec": {
   "display_name": "Python 3",
   "language": "python",
   "name": "python3"
  },
  "language_info": {
   "codemirror_mode": {
    "name": "ipython",
    "version": 3
   },
   "file_extension": ".py",
   "mimetype": "text/x-python",
   "name": "python",
   "nbconvert_exporter": "python",
   "pygments_lexer": "ipython3",
   "version": "3.8.5"
  }
 },
 "nbformat": 4,
 "nbformat_minor": 5
}
