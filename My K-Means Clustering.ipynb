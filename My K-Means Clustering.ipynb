{
 "cells": [
  {
   "cell_type": "markdown",
   "metadata": {},
   "source": [
    "## K-Means Clustering"
   ]
  },
  {
   "cell_type": "markdown",
   "metadata": {},
   "source": [
    "Импорт библиотек и датасета."
   ]
  },
  {
   "cell_type": "code",
   "execution_count": 1,
   "metadata": {},
   "outputs": [],
   "source": [
    "import numpy as np\n",
    "import matplotlib.pyplot as plt\n",
    "import pandas as pd"
   ]
  },
  {
   "cell_type": "code",
   "execution_count": 2,
   "metadata": {},
   "outputs": [
    {
     "data": {
      "text/html": [
       "<div>\n",
       "<style scoped>\n",
       "    .dataframe tbody tr th:only-of-type {\n",
       "        vertical-align: middle;\n",
       "    }\n",
       "\n",
       "    .dataframe tbody tr th {\n",
       "        vertical-align: top;\n",
       "    }\n",
       "\n",
       "    .dataframe thead th {\n",
       "        text-align: right;\n",
       "    }\n",
       "</style>\n",
       "<table border=\"1\" class=\"dataframe\">\n",
       "  <thead>\n",
       "    <tr style=\"text-align: right;\">\n",
       "      <th></th>\n",
       "      <th>Number_students</th>\n",
       "      <th>Numb_students_per_Staff</th>\n",
       "      <th>International_Students</th>\n",
       "      <th>Percentage_Female</th>\n",
       "      <th>Percentage_Male</th>\n",
       "      <th>Teaching</th>\n",
       "      <th>Citations</th>\n",
       "      <th>GDP</th>\n",
       "      <th>Industry_Income</th>\n",
       "    </tr>\n",
       "  </thead>\n",
       "  <tbody>\n",
       "    <tr>\n",
       "      <th>0</th>\n",
       "      <td>20664.0</td>\n",
       "      <td>11.2</td>\n",
       "      <td>8472.0</td>\n",
       "      <td>0.46</td>\n",
       "      <td>0.54</td>\n",
       "      <td>90.5</td>\n",
       "      <td>98.4</td>\n",
       "      <td>41627.0</td>\n",
       "      <td>65.5</td>\n",
       "    </tr>\n",
       "    <tr>\n",
       "      <th>1</th>\n",
       "      <td>2240.0</td>\n",
       "      <td>6.4</td>\n",
       "      <td>672.0</td>\n",
       "      <td>0.34</td>\n",
       "      <td>0.66</td>\n",
       "      <td>92.1</td>\n",
       "      <td>97.9</td>\n",
       "      <td>60236.0</td>\n",
       "      <td>88.0</td>\n",
       "    </tr>\n",
       "    <tr>\n",
       "      <th>2</th>\n",
       "      <td>18978.0</td>\n",
       "      <td>10.9</td>\n",
       "      <td>7022.0</td>\n",
       "      <td>0.47</td>\n",
       "      <td>0.53</td>\n",
       "      <td>91.4</td>\n",
       "      <td>95.8</td>\n",
       "      <td>41627.0</td>\n",
       "      <td>59.3</td>\n",
       "    </tr>\n",
       "    <tr>\n",
       "      <th>3</th>\n",
       "      <td>16135.0</td>\n",
       "      <td>7.3</td>\n",
       "      <td>3711.0</td>\n",
       "      <td>0.43</td>\n",
       "      <td>0.57</td>\n",
       "      <td>92.8</td>\n",
       "      <td>99.9</td>\n",
       "      <td>60236.0</td>\n",
       "      <td>66.2</td>\n",
       "    </tr>\n",
       "    <tr>\n",
       "      <th>4</th>\n",
       "      <td>11247.0</td>\n",
       "      <td>8.6</td>\n",
       "      <td>3824.0</td>\n",
       "      <td>0.39</td>\n",
       "      <td>0.61</td>\n",
       "      <td>90.5</td>\n",
       "      <td>99.5</td>\n",
       "      <td>60236.0</td>\n",
       "      <td>86.9</td>\n",
       "    </tr>\n",
       "    <tr>\n",
       "      <th>...</th>\n",
       "      <td>...</td>\n",
       "      <td>...</td>\n",
       "      <td>...</td>\n",
       "      <td>...</td>\n",
       "      <td>...</td>\n",
       "      <td>...</td>\n",
       "      <td>...</td>\n",
       "      <td>...</td>\n",
       "      <td>...</td>\n",
       "    </tr>\n",
       "    <tr>\n",
       "      <th>1351</th>\n",
       "      <td>20174.0</td>\n",
       "      <td>17.8</td>\n",
       "      <td>0.0</td>\n",
       "      <td>0.55</td>\n",
       "      <td>0.45</td>\n",
       "      <td>16.2</td>\n",
       "      <td>6.1</td>\n",
       "      <td>14064.0</td>\n",
       "      <td>35.6</td>\n",
       "    </tr>\n",
       "    <tr>\n",
       "      <th>1352</th>\n",
       "      <td>34101.0</td>\n",
       "      <td>21.3</td>\n",
       "      <td>0.0</td>\n",
       "      <td>0.57</td>\n",
       "      <td>0.43</td>\n",
       "      <td>15.3</td>\n",
       "      <td>6.7</td>\n",
       "      <td>14064.0</td>\n",
       "      <td>35.1</td>\n",
       "    </tr>\n",
       "    <tr>\n",
       "      <th>1353</th>\n",
       "      <td>15236.0</td>\n",
       "      <td>11.1</td>\n",
       "      <td>3.0</td>\n",
       "      <td>0.63</td>\n",
       "      <td>0.37</td>\n",
       "      <td>17.0</td>\n",
       "      <td>4.5</td>\n",
       "      <td>28053.0</td>\n",
       "      <td>36.9</td>\n",
       "    </tr>\n",
       "    <tr>\n",
       "      <th>1354</th>\n",
       "      <td>17101.0</td>\n",
       "      <td>24.9</td>\n",
       "      <td>0.0</td>\n",
       "      <td>0.54</td>\n",
       "      <td>0.46</td>\n",
       "      <td>13.8</td>\n",
       "      <td>7.6</td>\n",
       "      <td>14064.0</td>\n",
       "      <td>35.0</td>\n",
       "    </tr>\n",
       "    <tr>\n",
       "      <th>1355</th>\n",
       "      <td>9285.0</td>\n",
       "      <td>25.6</td>\n",
       "      <td>2.0</td>\n",
       "      <td>0.12</td>\n",
       "      <td>0.88</td>\n",
       "      <td>15.2</td>\n",
       "      <td>3.4</td>\n",
       "      <td>41380.0</td>\n",
       "      <td>39.6</td>\n",
       "    </tr>\n",
       "  </tbody>\n",
       "</table>\n",
       "<p>1356 rows × 9 columns</p>\n",
       "</div>"
      ],
      "text/plain": [
       "      Number_students  Numb_students_per_Staff  International_Students  \\\n",
       "0             20664.0                     11.2                  8472.0   \n",
       "1              2240.0                      6.4                   672.0   \n",
       "2             18978.0                     10.9                  7022.0   \n",
       "3             16135.0                      7.3                  3711.0   \n",
       "4             11247.0                      8.6                  3824.0   \n",
       "...               ...                      ...                     ...   \n",
       "1351          20174.0                     17.8                     0.0   \n",
       "1352          34101.0                     21.3                     0.0   \n",
       "1353          15236.0                     11.1                     3.0   \n",
       "1354          17101.0                     24.9                     0.0   \n",
       "1355           9285.0                     25.6                     2.0   \n",
       "\n",
       "      Percentage_Female  Percentage_Male  Teaching  Citations      GDP  \\\n",
       "0                  0.46             0.54      90.5       98.4  41627.0   \n",
       "1                  0.34             0.66      92.1       97.9  60236.0   \n",
       "2                  0.47             0.53      91.4       95.8  41627.0   \n",
       "3                  0.43             0.57      92.8       99.9  60236.0   \n",
       "4                  0.39             0.61      90.5       99.5  60236.0   \n",
       "...                 ...              ...       ...        ...      ...   \n",
       "1351               0.55             0.45      16.2        6.1  14064.0   \n",
       "1352               0.57             0.43      15.3        6.7  14064.0   \n",
       "1353               0.63             0.37      17.0        4.5  28053.0   \n",
       "1354               0.54             0.46      13.8        7.6  14064.0   \n",
       "1355               0.12             0.88      15.2        3.4  41380.0   \n",
       "\n",
       "      Industry_Income  \n",
       "0                65.5  \n",
       "1                88.0  \n",
       "2                59.3  \n",
       "3                66.2  \n",
       "4                86.9  \n",
       "...               ...  \n",
       "1351             35.6  \n",
       "1352             35.1  \n",
       "1353             36.9  \n",
       "1354             35.0  \n",
       "1355             39.6  \n",
       "\n",
       "[1356 rows x 9 columns]"
      ]
     },
     "execution_count": 2,
     "metadata": {},
     "output_type": "execute_result"
    }
   ],
   "source": [
    "df = pd.read_csv('University_prep.csv', sep=';')\n",
    "df"
   ]
  },
  {
   "cell_type": "markdown",
   "metadata": {},
   "source": [
    "Проводим шкалирование."
   ]
  },
  {
   "cell_type": "code",
   "execution_count": 3,
   "metadata": {},
   "outputs": [],
   "source": [
    "from sklearn.preprocessing import MinMaxScaler\n",
    "sc = MinMaxScaler().fit(df)\n",
    "df = sc.transform(df)\n",
    "df = pd.DataFrame(df, columns = ['Number_students','Numb_students_per_Staff','International_Students','Percentage_Female','Percentage_Male','Teaching','Citations','GDP','Industry_Income']).round()"
   ]
  },
  {
   "cell_type": "markdown",
   "metadata": {},
   "source": [
    "Для того, чтобы определить оптимальное количество кластеров, используем метод локтя. Видим, что можно выбрать либо 2 (что совсем скучно), либо 3, либо 5 кластеров. "
   ]
  },
  {
   "cell_type": "code",
   "execution_count": 4,
   "metadata": {},
   "outputs": [
    {
     "data": {
      "image/png": "[encoded data removed]",
      "text/plain": [
       "<Figure size 432x288 with 1 Axes>"
      ]
     },
     "metadata": {
      "needs_background": "light"
     },
     "output_type": "display_data"
    }
   ],
   "source": [
    "from sklearn.cluster import KMeans\n",
    "wcss = []\n",
    "for i in range(1, 11):\n",
    "    kmeans = KMeans(n_clusters = i, init = 'k-means++', random_state = 0)\n",
    "    kmeans.fit(df)\n",
    "    wcss.append(kmeans.inertia_)\n",
    "plt.plot(range(1, 11), wcss)\n",
    "plt.title('The Elbow Method')\n",
    "plt.xlabel('Number of clusters')\n",
    "plt.ylabel('WCSS')\n",
    "plt.show()"
   ]
  },
  {
   "cell_type": "markdown",
   "metadata": {},
   "source": [
    "Используем ещё один метод для окончательного определения - метод силуэта. Максимальное значение на 5 кластерах."
   ]
  },
  {
   "cell_type": "code",
   "execution_count": 5,
   "metadata": {},
   "outputs": [
    {
     "data": {
      "image/png": "[encoded data removed]",
      "text/plain": [
       "<Figure size 432x288 with 1 Axes>"
      ]
     },
     "metadata": {
      "needs_background": "light"
     },
     "output_type": "display_data"
    },
    {
     "name": "stdout",
     "output_type": "stream",
     "text": [
      "2:0.4182441414100884\n",
      "3:0.4428063175625075\n",
      "4:0.48903601164479005\n",
      "5:0.5244621155785775\n"
     ]
    }
   ],
   "source": [
    "from sklearn.metrics import silhouette_score\n",
    "\n",
    "sil = []\n",
    "\n",
    "for k in range(2, 6):\n",
    "  kmeans = KMeans(n_clusters = k).fit(df)  \n",
    "  preds = kmeans.fit_predict(df)\n",
    "  sil.append(silhouette_score(df, preds, metric = 'euclidean'))\n",
    "\n",
    "\n",
    "plt.plot(range(2, 6), sil)\n",
    "plt.title('Silhouette Method')\n",
    "plt.xlabel('Number of clusters')\n",
    "plt.ylabel('Sil')\n",
    "plt.show()\n",
    "\n",
    "for i in range(len(sil)):\n",
    " print(str(i+2) +\":\"+ str(sil[i]))"
   ]
  },
  {
   "cell_type": "markdown",
   "metadata": {},
   "source": [
    "Пока можем сказать, что с таким количеством не всегда значимых переменных очень сложно дать интерпретацию полученным кластерам. Поэтому предлагаю перейти к построению только на значимых переменных."
   ]
  },
  {
   "cell_type": "code",
   "execution_count": 6,
   "metadata": {},
   "outputs": [
    {
     "data": {
      "text/html": [
       "<div>\n",
       "<style scoped>\n",
       "    .dataframe tbody tr th:only-of-type {\n",
       "        vertical-align: middle;\n",
       "    }\n",
       "\n",
       "    .dataframe tbody tr th {\n",
       "        vertical-align: top;\n",
       "    }\n",
       "\n",
       "    .dataframe thead th {\n",
       "        text-align: right;\n",
       "    }\n",
       "</style>\n",
       "<table border=\"1\" class=\"dataframe\">\n",
       "  <thead>\n",
       "    <tr style=\"text-align: right;\">\n",
       "      <th></th>\n",
       "      <th>Number_students</th>\n",
       "      <th>Numb_students_per_Staff</th>\n",
       "      <th>International_Students</th>\n",
       "      <th>Percentage_Female</th>\n",
       "      <th>Percentage_Male</th>\n",
       "      <th>Teaching</th>\n",
       "      <th>Citations</th>\n",
       "      <th>GDP</th>\n",
       "      <th>Industry_Income</th>\n",
       "    </tr>\n",
       "  </thead>\n",
       "  <tbody>\n",
       "    <tr>\n",
       "      <th>0</th>\n",
       "      <td>0.049669</td>\n",
       "      <td>3.973510e-02</td>\n",
       "      <td>0.261589</td>\n",
       "      <td>9.403974e-01</td>\n",
       "      <td>-1.665335e-16</td>\n",
       "      <td>3.311258e-02</td>\n",
       "      <td>1.000000e+00</td>\n",
       "      <td>1.942890e-16</td>\n",
       "      <td>0.099338</td>\n",
       "    </tr>\n",
       "    <tr>\n",
       "      <th>1</th>\n",
       "      <td>0.060241</td>\n",
       "      <td>0.000000e+00</td>\n",
       "      <td>0.028916</td>\n",
       "      <td>8.554217e-01</td>\n",
       "      <td>-3.885781e-16</td>\n",
       "      <td>-8.326673e-17</td>\n",
       "      <td>-6.106227e-16</td>\n",
       "      <td>5.783133e-02</td>\n",
       "      <td>0.040964</td>\n",
       "    </tr>\n",
       "    <tr>\n",
       "      <th>2</th>\n",
       "      <td>0.037681</td>\n",
       "      <td>0.000000e+00</td>\n",
       "      <td>0.011594</td>\n",
       "      <td>-3.330669e-16</td>\n",
       "      <td>1.000000e+00</td>\n",
       "      <td>2.028986e-02</td>\n",
       "      <td>-1.665335e-16</td>\n",
       "      <td>2.318841e-02</td>\n",
       "      <td>0.150725</td>\n",
       "    </tr>\n",
       "    <tr>\n",
       "      <th>3</th>\n",
       "      <td>0.017241</td>\n",
       "      <td>-1.734723e-18</td>\n",
       "      <td>0.181034</td>\n",
       "      <td>8.448276e-01</td>\n",
       "      <td>3.885781e-16</td>\n",
       "      <td>2.068966e-01</td>\n",
       "      <td>9.913793e-01</td>\n",
       "      <td>1.000000e+00</td>\n",
       "      <td>0.094828</td>\n",
       "    </tr>\n",
       "    <tr>\n",
       "      <th>4</th>\n",
       "      <td>0.050562</td>\n",
       "      <td>3.932584e-02</td>\n",
       "      <td>0.224719</td>\n",
       "      <td>-2.220446e-16</td>\n",
       "      <td>9.325843e-01</td>\n",
       "      <td>2.303371e-01</td>\n",
       "      <td>1.000000e+00</td>\n",
       "      <td>3.089888e-01</td>\n",
       "      <td>0.269663</td>\n",
       "    </tr>\n",
       "  </tbody>\n",
       "</table>\n",
       "</div>"
      ],
      "text/plain": [
       "   Number_students  Numb_students_per_Staff  International_Students  \\\n",
       "0         0.049669             3.973510e-02                0.261589   \n",
       "1         0.060241             0.000000e+00                0.028916   \n",
       "2         0.037681             0.000000e+00                0.011594   \n",
       "3         0.017241            -1.734723e-18                0.181034   \n",
       "4         0.050562             3.932584e-02                0.224719   \n",
       "\n",
       "   Percentage_Female  Percentage_Male      Teaching     Citations  \\\n",
       "0       9.403974e-01    -1.665335e-16  3.311258e-02  1.000000e+00   \n",
       "1       8.554217e-01    -3.885781e-16 -8.326673e-17 -6.106227e-16   \n",
       "2      -3.330669e-16     1.000000e+00  2.028986e-02 -1.665335e-16   \n",
       "3       8.448276e-01     3.885781e-16  2.068966e-01  9.913793e-01   \n",
       "4      -2.220446e-16     9.325843e-01  2.303371e-01  1.000000e+00   \n",
       "\n",
       "            GDP  Industry_Income  \n",
       "0  1.942890e-16         0.099338  \n",
       "1  5.783133e-02         0.040964  \n",
       "2  2.318841e-02         0.150725  \n",
       "3  1.000000e+00         0.094828  \n",
       "4  3.089888e-01         0.269663  "
      ]
     },
     "execution_count": 6,
     "metadata": {},
     "output_type": "execute_result"
    }
   ],
   "source": [
    "km = KMeans(n_clusters = 5, init = 'k-means++', random_state = 0).fit_predict(df)\n",
    "kms = KMeans(n_clusters = 5, random_state = 0).fit(df)\n",
    "pd.DataFrame(kms.cluster_centers_, columns = ['Number_students','Numb_students_per_Staff','International_Students','Percentage_Female','Percentage_Male','Teaching','Citations','GDP','Industry_Income'])"
   ]
  },
  {
   "cell_type": "markdown",
   "metadata": {},
   "source": [
    "Теперь проведём кластеризацию только на значимых переменных."
   ]
  },
  {
   "cell_type": "code",
   "execution_count": 7,
   "metadata": {},
   "outputs": [],
   "source": [
    "X = df.iloc[:, [3,6,7]]"
   ]
  },
  {
   "cell_type": "markdown",
   "metadata": {},
   "source": [
    "Видим, что университеты были поделены на 5 кластеров.\n",
    "1. Преобладает % женщин, высокий уровень упоминания в иностранных источниках,низкий ВВП \n",
    "2. Преобладает % мужчин, низкий уровень упоминания в иностранных источниках,низкий ВВП \n",
    "3. Преобладает % женщин, низкий уровень упоминания в иностранных источниках,низкий ВВП \n",
    "4. Преобладает % женщин, высокий уровень упоминания в иностранных источниках,высокий ВВП \n",
    "5. Преобладает % мужчин, высокий уровень упоминания в иностранных источниках,низкий ВВП "
   ]
  },
  {
   "cell_type": "code",
   "execution_count": 8,
   "metadata": {},
   "outputs": [
    {
     "data": {
      "text/html": [
       "<div>\n",
       "<style scoped>\n",
       "    .dataframe tbody tr th:only-of-type {\n",
       "        vertical-align: middle;\n",
       "    }\n",
       "\n",
       "    .dataframe tbody tr th {\n",
       "        vertical-align: top;\n",
       "    }\n",
       "\n",
       "    .dataframe thead th {\n",
       "        text-align: right;\n",
       "    }\n",
       "</style>\n",
       "<table border=\"1\" class=\"dataframe\">\n",
       "  <thead>\n",
       "    <tr style=\"text-align: right;\">\n",
       "      <th></th>\n",
       "      <th>Percentage_Female</th>\n",
       "      <th>Citations</th>\n",
       "      <th>GDP</th>\n",
       "    </tr>\n",
       "  </thead>\n",
       "  <tbody>\n",
       "    <tr>\n",
       "      <th>0</th>\n",
       "      <td>1.0</td>\n",
       "      <td>1.0</td>\n",
       "      <td>0.0</td>\n",
       "    </tr>\n",
       "    <tr>\n",
       "      <th>1</th>\n",
       "      <td>-0.0</td>\n",
       "      <td>-0.0</td>\n",
       "      <td>0.0</td>\n",
       "    </tr>\n",
       "    <tr>\n",
       "      <th>2</th>\n",
       "      <td>1.0</td>\n",
       "      <td>-0.0</td>\n",
       "      <td>0.0</td>\n",
       "    </tr>\n",
       "    <tr>\n",
       "      <th>3</th>\n",
       "      <td>1.0</td>\n",
       "      <td>1.0</td>\n",
       "      <td>1.0</td>\n",
       "    </tr>\n",
       "    <tr>\n",
       "      <th>4</th>\n",
       "      <td>-0.0</td>\n",
       "      <td>1.0</td>\n",
       "      <td>0.0</td>\n",
       "    </tr>\n",
       "  </tbody>\n",
       "</table>\n",
       "</div>"
      ],
      "text/plain": [
       "   Percentage_Female  Citations  GDP\n",
       "0                1.0        1.0  0.0\n",
       "1               -0.0       -0.0  0.0\n",
       "2                1.0       -0.0  0.0\n",
       "3                1.0        1.0  1.0\n",
       "4               -0.0        1.0  0.0"
      ]
     },
     "execution_count": 8,
     "metadata": {},
     "output_type": "execute_result"
    }
   ],
   "source": [
    "km = KMeans(n_clusters = 5, init = 'k-means++', random_state = 0).fit_predict(X)\n",
    "kms = KMeans(n_clusters = 5, random_state = 0).fit(X)\n",
    "pd.DataFrame(kms.cluster_centers_, columns = ['Percentage_Female','Citations','GDP']).round()"
   ]
  },
  {
   "cell_type": "code",
   "execution_count": 9,
   "metadata": {},
   "outputs": [],
   "source": [
    "import pickle\n",
    "input = open('clust.pkl', 'rb')\n",
    "obj = pickle.load(input)\n",
    "input.close()\n",
    "hc = obj[\"hc\"]"
   ]
  },
  {
   "cell_type": "markdown",
   "metadata": {},
   "source": [
    "Сравниваем результат кластеризации со всеми переменными и только со значимыми. Получили 72%, что неплохо."
   ]
  },
  {
   "cell_type": "code",
   "execution_count": 10,
   "metadata": {},
   "outputs": [
    {
     "data": {
      "text/plain": [
       "0.6036666356090579"
      ]
     },
     "execution_count": 10,
     "metadata": {},
     "output_type": "execute_result"
    }
   ],
   "source": [
    "from sklearn.metrics.cluster import adjusted_rand_score\n",
    "adjusted_rand_score(hc,km)"
   ]
  },
  {
   "cell_type": "code",
   "execution_count": 11,
   "metadata": {},
   "outputs": [],
   "source": [
    "import pickle\n",
    "obj = {'km': km}\n",
    "output = open('clust-km.pkl', 'wb')\n",
    "pickle.dump(obj, output, 2)\n",
    "output.close()"
   ]
  }
 ],
 "metadata": {
  "kernelspec": {
   "display_name": "Python 3",
   "language": "python",
   "name": "python3"
  },
  "language_info": {
   "codemirror_mode": {
    "name": "ipython",
    "version": 3
   },
   "file_extension": ".py",
   "mimetype": "text/x-python",
   "name": "python",
   "nbconvert_exporter": "python",
   "pygments_lexer": "ipython3",
   "version": "3.8.5"
  }
 },
 "nbformat": 4,
 "nbformat_minor": 4
}
